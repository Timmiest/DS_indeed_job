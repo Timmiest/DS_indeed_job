{
 "cells": [
  {
   "cell_type": "markdown",
   "metadata": {
    "focus": false,
    "id": "69b9a648-bcc7-490d-9f9b-ea244d156bd6"
   },
   "source": [
    "# Web Scraping for Indeed.com and Predicting Salaries"
   ]
  },
  {
   "cell_type": "markdown",
   "metadata": {},
   "source": [
    "### Overview\n",
    "\n",
    "When searching job postings there salary info is frequently left blank. The purpose of this project is to create a way of determining a way to estimate what that salary should be. In order to narrow the scope of this project and keep to relevant to me, I am focused on Data related jobs only, although the methodology could apply to most jobs, assuming there are enough positions advertised to generate a large enough data set.\n",
    "\n",
    "**Goals:**\n",
    "   - create a data set containing a reasonably large ammount of relevant job postings\n",
    "   - determine the industry factors that are most important in predicting the salary amounts for these data.\n",
    "   - create a model to predict comparative salary."
   ]
  },
  {
   "cell_type": "markdown",
   "metadata": {
    "focus": false,
    "id": "9732c901-ae26-4160-8376-42e22dd327df"
   },
   "source": [
    "#### Beginning to scrape and create a data set.\n",
    "\n",
    "Below is the process of scraping & investigating pages from [indeed.com](www.indeed.com). I have used BeautifulSoup to pull the web page and then explored the HTML for info I need."
   ]
  },
  {
   "cell_type": "code",
   "execution_count": 1,
   "metadata": {
    "focus": false,
    "id": "e915023e-6b0d-4982-af2a-b1e0355f4927"
   },
   "outputs": [],
   "source": [
    "URL = \"https://uk.indeed.com/jobs?q=data+scientist&l=London%2C+Greater+London\""
   ]
  },
  {
   "cell_type": "code",
   "execution_count": 2,
   "metadata": {
    "focus": false,
    "id": "2efefc73-064a-482d-b3b5-ddf5508cb4ec"
   },
   "outputs": [],
   "source": [
    "import pandas as pd\n",
    "import numpy as np\n",
    "from bs4 import BeautifulSoup\n",
    "import requests\n",
    "from tqdm import tqdm\n",
    "import time\n",
    "import re\n",
    "import matplotlib.pyplot as plt\n",
    "import seaborn as sns\n",
    "from sklearn.model_selection import GridSearchCV\n",
    "from sklearn.metrics import plot_confusion_matrix, plot_roc_curve\n",
    "from sklearn.metrics import roc_auc_score, average_precision_score, plot_roc_curve, plot_precision_recall_curve\n",
    "from IPython.display import display, HTML "
   ]
  },
  {
   "cell_type": "code",
   "execution_count": 3,
   "metadata": {
    "focus": false,
    "id": "2c6752c4-7704-4c94-8bc0-6f13d2d0d570"
   },
   "outputs": [],
   "source": [
    "r = requests.get(URL)\n",
    "soup = BeautifulSoup(r.text, 'html.parser')"
   ]
  },
  {
   "cell_type": "code",
   "execution_count": 4,
   "metadata": {},
   "outputs": [],
   "source": [
    "result = soup.find_all('div',attrs={'class':'result'})"
   ]
  },
  {
   "cell_type": "code",
   "execution_count": 107,
   "metadata": {},
   "outputs": [],
   "source": [
    "result2 = soup.find_all('div',attrs={'class':'mosaic-zone'})"
   ]
  },
  {
   "cell_type": "code",
   "execution_count": 109,
   "metadata": {},
   "outputs": [
    {
     "data": {
      "text/plain": [
       "11"
      ]
     },
     "execution_count": 109,
     "metadata": {},
     "output_type": "execute_result"
    }
   ],
   "source": [
    "len(result2)"
   ]
  },
  {
   "cell_type": "code",
   "execution_count": 119,
   "metadata": {
    "collapsed": true,
    "jupyter": {
     "outputs_hidden": true
    },
    "tags": []
   },
   "outputs": [
    {
     "data": {
      "text/plain": [
       "<div class=\"mosaic-zone\" id=\"mosaic-zone-jobcards\"><div class=\"mosaic mosaic-provider-jobcards\" id=\"mosaic-provider-jobcards\"><span aria-live=\"assertive\" class=\"visually-hidden\"></span><a class=\"tapItem fs-unmask result job_aa457aa85a556fb0 sponsoredJob resultWithShelf sponTapItem desktop\" data-ci=\"380415765\" data-empn=\"7636144005644834\" data-hide-spinner=\"true\" data-hiring-event=\"false\" data-jk=\"aa457aa85a556fb0\" data-mobtk=\"1fpn099mdr7tp802\" href=\"/pagead/clk?mo=r&amp;ad=-6NYlbfkN0AraZfUMCdnJNjJsWHy6D3Ra_0D6GRfEkfGXZiKyoRK-UgTwcBoOltzaU3gOETeNoNinhkPnkH3TGlJpHcLusrguHQzHYiN2xq89s1SyPJCYEaoacrIcClyZ_BwFFHMBMx884gGjwndyavtzZzhi26kl__b4yufs_iW51EA-uCu7kSfv8p0S5anMQCSCkJxglNoPQWXYogx-DaPVbKupMmwUiP_nl0DAOyGfcdDsB9aOTC4rxRUN_V0Gqy7BgpUkskXpdmPhXoJgPczwxNwWUlsIdom-LBeNDKk6P4SfDBeDiip_5txxERe7LC-8zdovMV03ocL8riKTfZekGatfKnvxtK-lqH15QXOLAp25Rji9R90Pf85GmlPP1GN8ipz3BTNcXBb6B6ueceD-uEK2on1g6E4BSST5iq6GM5nvj0TGRr9JdfafR4l492Xz6dmQb5Y1r4mplht6nyxP9MKyV9pFxeX2nq9oUgEFK-Q3iEvmO-YML49cbD2Rdhx1UCPU6HITsbz-NIwRtj2M_t18rtxdHfW6e9jex8=&amp;p=0&amp;fvj=1&amp;vjs=3\" id=\"sj_aa457aa85a556fb0\" rel=\"nofollow\" target=\"_blank\"><div class=\"slider_container\"><div class=\"slider_list\"><div class=\"slider_item\"><div class=\"job_seen_beacon\"><table cellpadding=\"0\" cellspacing=\"0\" class=\"jobCard_mainContent\" role=\"presentation\"><tbody><tr><td class=\"resultContent\"><div class=\"heading4 color-text-primary singleLineTitle tapItem-gutter\"><h2 class=\"jobTitle jobTitle-color-purple\"><span title=\"Jr. Machine Learning Implementation Engineers\">Jr. Machine Learning Implementation Engineers</span></h2></div><div class=\"heading6 company_location tapItem-gutter\"><pre><span class=\"companyName\">Information Tech Consultants</span><div class=\"companyLocation\">London</div></pre></div><div class=\"heading6 tapItem-gutter metadataContainer\"><div class=\"metadata salary-snippet-container\"><div aria-label=\"From £30,596 a year\" class=\"salary-snippet\"><span>From £30,596 a year</span></div></div></div><div class=\"heading6 error-text tapItem-gutter\"></div></td></tr></tbody></table><table class=\"jobCardShelfContainer\" role=\"presentation\"><tbody><tr class=\"jobCardShelf\"><td class=\"shelfItem indeedApply\"><span class=\"iaIcon\"></span><span class=\"ialbl iaTextBlack\">Easily apply to this job</span></td></tr><tr class=\"underShelfFooter\"><td><div class=\"heading6 tapItem-gutter result-footer\"><div class=\"job-snippet\"><ul style=\"list-style-type:circle;margin-top: 0px;margin-bottom: 0px;padding-left:20px;\">\n",
       "<li style=\"margin-bottom:0px;\">Job Title: <b>Data</b> Scientist/Jr.</li>\n",
       "<li>Information Tech Consultants Ltd (ITC) is a London-based mobile app development consultancy, specializing in Android, iOS and Data…</li>\n",
       "</ul></div><span class=\"date\"><span class=\"visually-hidden\">Posted</span>30+ days ago</span></div></td></tr></tbody></table><div aria-live=\"polite\"></div></div></div><div class=\"slider_sub_item\"></div></div></div><div class=\"kebabMenu\"><button aria-expanded=\"false\" aria-haspopup=\"true\" aria-label=\"Job actions\" class=\"kebabMenu-button\"><svg aria-hidden=\"true\" fill=\"none\" height=\"24\" role=\"presentation\" viewbox=\"0 0 24 24\" width=\"24\" xmlns=\"http://www.w3.org/2000/svg\"><path d=\"M12 7C13.1 7 14 6.1 14 5C14 3.9 13.1 3 12 3C10.9 3 10 3.9 10 5C10 6.1 10.9 7 12 7ZM12 10C10.9 10 10 10.9 10 12C10 13.1 10.9 14 12 14C13.1 14 14 13.1 14 12C14 10.9 13.1 10 12 10ZM12 17C10.9 17 10 17.9 10 19C10 20.1 10.9 21 12 21C13.1 21 14 20.1 14 19C14 17.9 13.1 17 12 17Z\" fill=\"#2d2d2d\"></path></svg></button></div></a><span aria-live=\"polite\" class=\"visually-hidden\"></span><span aria-live=\"assertive\" class=\"visually-hidden\"></span><a class=\"tapItem fs-unmask result job_81596e087bc722e1 resultWithShelf sponTapItem desktop\" data-hide-spinner=\"true\" data-hiring-event=\"false\" data-jk=\"81596e087bc722e1\" data-mobtk=\"1fpn099mdr7tp802\" href=\"/rc/clk?jk=81596e087bc722e1&amp;fccid=97de08cc0d912589&amp;vjs=3\" id=\"job_81596e087bc722e1\" rel=\"nofollow\" target=\"_blank\"><div class=\"slider_container\"><div class=\"slider_list\"><div class=\"slider_item\"><div class=\"job_seen_beacon\"><table cellpadding=\"0\" cellspacing=\"0\" class=\"jobCard_mainContent\" role=\"presentation\"><tbody><tr><td class=\"resultContent\"><div class=\"heading4 color-text-primary singleLineTitle tapItem-gutter\"><h2 class=\"jobTitle jobTitle-color-purple jobTitle-newJob\"><div class=\"new topLeft holisticNewBlue desktop\"><span class=\"label\">new</span></div><span title=\"Data Scientist\">Data Scientist</span></h2></div><div class=\"heading6 company_location tapItem-gutter\"><pre><span class=\"companyName\">Fable Data</span><div class=\"companyLocation\">London<!-- --> <!-- -->SE1 0AT</div></pre></div><div class=\"heading6 tapItem-gutter metadataContainer\"><div class=\"metadata salary-snippet-container\"><div aria-label=\"£50,000 to £60,000 a year\" class=\"salary-snippet\"><span>£50,000 - £60,000 a year</span></div></div></div><div class=\"heading6 error-text tapItem-gutter\"></div></td></tr></tbody></table><table class=\"jobCardShelfContainer\" role=\"presentation\"><tbody><tr class=\"jobCardShelf\"><td class=\"shelfItem indeedApply\"><span class=\"iaIcon\"></span><span class=\"ialbl iaTextBlack\">Easily apply to this job</span></td></tr><tr class=\"underShelfFooter\"><td><div class=\"heading6 tapItem-gutter result-footer\"><div class=\"job-snippet\"><ul style=\"list-style-type:circle;margin-top: 0px;margin-bottom: 0px;padding-left:20px;\">\n",
       "<li>Assist in the maintenance of a library of ground truth <b>data</b> points either using <b>data</b> feeds from financial <b>data</b> providers or from manual collection of <b>data</b> from…</li>\n",
       "</ul></div><span class=\"date\"><span class=\"visually-hidden\">Posted</span>Today</span><span class=\"result-link-bar-separator\">·</span><button aria-expanded=\"false\" class=\"sl resultLink more_links_button\" type=\"button\">More...</button></div><div class=\"tab-container\"><div class=\"more-links-container result-tab\" role=\"presentation\"><div class=\"more_links\"><button aria-label=\"Close\" class=\"close-button\" title=\"Close\" type=\"button\"></button><ul><li><span class=\"mat\">View all <a href=\"/Fable-Data-jobs\">Fable Data jobs</a> - <a href=\"/jobs-in-London\">London jobs</a></span></li><li><span class=\"mat\">Salary Search: <a href=\"/career/data-scientist/salaries/London-SE1?campaignid=serp-more&amp;fromjk=81596e087bc722e1&amp;from=serp-more\">Data Scientist salaries in London</a></span></li></ul></div></div></div></td></tr></tbody></table><div aria-live=\"polite\"></div></div></div><div class=\"slider_sub_item\"></div></div></div><div class=\"kebabMenu\"><button aria-expanded=\"false\" aria-haspopup=\"true\" aria-label=\"Job actions\" class=\"kebabMenu-button\"><svg aria-hidden=\"true\" fill=\"none\" height=\"24\" role=\"presentation\" viewbox=\"0 0 24 24\" width=\"24\" xmlns=\"http://www.w3.org/2000/svg\"><path d=\"M12 7C13.1 7 14 6.1 14 5C14 3.9 13.1 3 12 3C10.9 3 10 3.9 10 5C10 6.1 10.9 7 12 7ZM12 10C10.9 10 10 10.9 10 12C10 13.1 10.9 14 12 14C13.1 14 14 13.1 14 12C14 10.9 13.1 10 12 10ZM12 17C10.9 17 10 17.9 10 19C10 20.1 10.9 21 12 21C13.1 21 14 20.1 14 19C14 17.9 13.1 17 12 17Z\" fill=\"#2d2d2d\"></path></svg></button></div></a><span aria-live=\"polite\" class=\"visually-hidden\"></span><span aria-live=\"assertive\" class=\"visually-hidden\"></span><a class=\"tapItem fs-unmask result job_80ba1147518747d1 resultWithShelf sponTapItem desktop\" data-hide-spinner=\"true\" data-hiring-event=\"false\" data-jk=\"80ba1147518747d1\" data-mobtk=\"1fpn099mdr7tp802\" href=\"/rc/clk?jk=80ba1147518747d1&amp;fccid=31841269d7b4c0db&amp;vjs=3\" id=\"job_80ba1147518747d1\" rel=\"nofollow\" target=\"_blank\"><div class=\"slider_container\"><div class=\"slider_list\"><div class=\"slider_item\"><div class=\"job_seen_beacon\"><table cellpadding=\"0\" cellspacing=\"0\" class=\"jobCard_mainContent\" role=\"presentation\"><tbody><tr><td class=\"resultContent\"><div class=\"heading4 color-text-primary singleLineTitle tapItem-gutter\"><h2 class=\"jobTitle jobTitle-color-purple\"><span title=\"Junior Data Scientist\">Junior Data Scientist</span></h2></div><div class=\"heading6 company_location tapItem-gutter\"><pre><span class=\"companyName\">Echobox</span><div class=\"companyLocation\">London</div></pre></div><div class=\"heading6 error-text tapItem-gutter\"></div></td></tr></tbody></table><table class=\"jobCardShelfContainer\" role=\"presentation\"><tbody><tr class=\"jobCardShelf\"></tr><tr class=\"underShelfFooter\"><td><div class=\"heading6 tapItem-gutter result-footer\"><div class=\"job-snippet\"><ul style=\"list-style-type:circle;margin-top: 0px;margin-bottom: 0px;padding-left:20px;\">\n",
       "<li style=\"margin-bottom:0px;\">Working knowledge of big <b>data</b> architectures, i.e. NoSQL, Hadoop etc.</li>\n",
       "<li>You will assist in the customisation of the product for new customers and trial data…</li>\n",
       "</ul></div><span class=\"date\"><span class=\"visually-hidden\">Posted</span>30+ days ago</span><span class=\"result-link-bar-separator\">·</span><button aria-expanded=\"false\" class=\"sl resultLink more_links_button\" type=\"button\">More...</button></div><div class=\"tab-container\"><div class=\"more-links-container result-tab\" role=\"presentation\"><div class=\"more_links\"><button aria-label=\"Close\" class=\"close-button\" title=\"Close\" type=\"button\"></button><ul><li><span class=\"mat\">View all <a href=\"/Echobox-jobs\">Echobox jobs</a> - <a href=\"/jobs-in-London\">London jobs</a></span></li><li><span class=\"mat\">Salary Search: <a href=\"/career/junior-data-scientist/salaries/London?campaignid=serp-more&amp;fromjk=80ba1147518747d1&amp;from=serp-more\">Junior Data Scientist salaries in London</a></span></li></ul></div></div></div></td></tr></tbody></table><div aria-live=\"polite\"></div></div></div><div class=\"slider_sub_item\"></div></div></div><div class=\"kebabMenu\"><button aria-expanded=\"false\" aria-haspopup=\"true\" aria-label=\"Job actions\" class=\"kebabMenu-button\"><svg aria-hidden=\"true\" fill=\"none\" height=\"24\" role=\"presentation\" viewbox=\"0 0 24 24\" width=\"24\" xmlns=\"http://www.w3.org/2000/svg\"><path d=\"M12 7C13.1 7 14 6.1 14 5C14 3.9 13.1 3 12 3C10.9 3 10 3.9 10 5C10 6.1 10.9 7 12 7ZM12 10C10.9 10 10 10.9 10 12C10 13.1 10.9 14 12 14C13.1 14 14 13.1 14 12C14 10.9 13.1 10 12 10ZM12 17C10.9 17 10 17.9 10 19C10 20.1 10.9 21 12 21C13.1 21 14 20.1 14 19C14 17.9 13.1 17 12 17Z\" fill=\"#2d2d2d\"></path></svg></button></div></a><span aria-live=\"polite\" class=\"visually-hidden\"></span><span aria-live=\"assertive\" class=\"visually-hidden\"></span><a class=\"tapItem fs-unmask result job_a766970992ab5675 resultWithShelf sponTapItem desktop\" data-hide-spinner=\"true\" data-hiring-event=\"false\" data-jk=\"a766970992ab5675\" data-mobtk=\"1fpn099mdr7tp802\" href=\"/rc/clk?jk=a766970992ab5675&amp;fccid=e407df9c0e5de2cd&amp;vjs=3\" id=\"job_a766970992ab5675\" rel=\"nofollow\" target=\"_blank\"><div class=\"slider_container\"><div class=\"slider_list\"><div class=\"slider_item\"><div class=\"job_seen_beacon\"><table cellpadding=\"0\" cellspacing=\"0\" class=\"jobCard_mainContent\" role=\"presentation\"><tbody><tr><td class=\"resultContent\"><div class=\"heading4 color-text-primary singleLineTitle tapItem-gutter\"><h2 class=\"jobTitle jobTitle-color-purple jobTitle-newJob\"><div class=\"new topLeft holisticNewBlue desktop\"><span class=\"label\">new</span></div><span title=\"Data Science - Intern\">Data Science - Intern</span></h2></div><div class=\"heading6 company_location tapItem-gutter\"><pre><span class=\"companyName\">The Commonwealth</span><div class=\"companyLocation\">London</div></pre></div><div class=\"heading6 error-text tapItem-gutter\"></div></td></tr></tbody></table><table class=\"jobCardShelfContainer\" role=\"presentation\"><tbody><tr class=\"jobCardShelf\"></tr><tr class=\"underShelfFooter\"><td><div class=\"heading6 tapItem-gutter result-footer\"><div class=\"job-snippet\"><ul style=\"list-style-type:circle;margin-top: 0px;margin-bottom: 0px;padding-left:20px;\">\n",
       "<li style=\"margin-bottom:0px;\">The Secretariat is steadily building its <b>data</b> capabilities and is implementing a <b>data</b> governance framework.</li>\n",
       "<li>Creating and applying Advanced <b>data</b> analytics models…</li>\n",
       "</ul></div><span class=\"date\"><span class=\"visually-hidden\">Posted</span>7 days ago</span><span class=\"result-link-bar-separator\">·</span><button aria-expanded=\"false\" class=\"sl resultLink more_links_button\" type=\"button\">More...</button></div><div class=\"tab-container\"><div class=\"more-links-container result-tab\" role=\"presentation\"><div class=\"more_links\"><button aria-label=\"Close\" class=\"close-button\" title=\"Close\" type=\"button\"></button><ul><li><span class=\"mat\">View all <a href=\"/The-Commonwealth-jobs\">The Commonwealth jobs</a> - <a href=\"/jobs-in-London\">London jobs</a></span></li><li><span class=\"mat\">Salary Search: <a href=\"/career/data-science-intern/salaries/London?campaignid=serp-more&amp;fromjk=a766970992ab5675&amp;from=serp-more\">Data Science - Intern salaries in London</a></span></li></ul></div></div></div></td></tr></tbody></table><div aria-live=\"polite\"></div></div></div><div class=\"slider_sub_item\"></div></div></div><div class=\"kebabMenu\"><button aria-expanded=\"false\" aria-haspopup=\"true\" aria-label=\"Job actions\" class=\"kebabMenu-button\"><svg aria-hidden=\"true\" fill=\"none\" height=\"24\" role=\"presentation\" viewbox=\"0 0 24 24\" width=\"24\" xmlns=\"http://www.w3.org/2000/svg\"><path d=\"M12 7C13.1 7 14 6.1 14 5C14 3.9 13.1 3 12 3C10.9 3 10 3.9 10 5C10 6.1 10.9 7 12 7ZM12 10C10.9 10 10 10.9 10 12C10 13.1 10.9 14 12 14C13.1 14 14 13.1 14 12C14 10.9 13.1 10 12 10ZM12 17C10.9 17 10 17.9 10 19C10 20.1 10.9 21 12 21C13.1 21 14 20.1 14 19C14 17.9 13.1 17 12 17Z\" fill=\"#2d2d2d\"></path></svg></button></div></a><span aria-live=\"polite\" class=\"visually-hidden\"></span><span aria-live=\"assertive\" class=\"visually-hidden\"></span><a class=\"tapItem fs-unmask result job_4b91fb225034dbcd resultWithShelf sponTapItem desktop\" data-hide-spinner=\"true\" data-hiring-event=\"false\" data-jk=\"4b91fb225034dbcd\" data-mobtk=\"1fpn099mdr7tp802\" href=\"/rc/clk?jk=4b91fb225034dbcd&amp;fccid=fe2d21eef233e94a&amp;vjs=3\" id=\"job_4b91fb225034dbcd\" rel=\"nofollow\" target=\"_blank\"><div class=\"slider_container\"><div class=\"slider_list\"><div class=\"slider_item\"><div class=\"job_seen_beacon\"><table cellpadding=\"0\" cellspacing=\"0\" class=\"jobCard_mainContent\" role=\"presentation\"><tbody><tr><td class=\"resultContent\"><div class=\"heading4 color-text-primary singleLineTitle tapItem-gutter\"><h2 class=\"jobTitle jobTitle-color-purple\"><span title=\"Data Scientist - Returnship Program\">Data Scientist - Returnship Program</span></h2></div><div class=\"heading6 company_location tapItem-gutter\"><pre><span class=\"companyName\"><a class=\"turnstileLink companyOverviewLink\" data-tn-element=\"companyName\" href=\"/cmp/Amazon.com\" rel=\"noopener\" target=\"_blank\">Amazon UK Services Ltd.</a></span><span class=\"ratingsDisplay withRatingLink\"><a class=\"ratingLink\" data-tn-variant=\"cmplinktst2\" href=\"/cmp/Amazon.com/reviews\" rel=\"noopener\" target=\"_blank\" title=\"Amazon UK Services Ltd. reviews\"><span aria-label=\"3.5 of stars rating\" class=\"ratingNumber\" role=\"img\"><span aria-hidden=\"true\">3.5</span><svg aria-hidden=\"true\" class=\"starIcon\" fill=\"none\" height=\"12\" role=\"presentation\" viewbox=\"0 0 16 16\" width=\"12\" xmlns=\"http://www.w3.org/2000/svg\"><path d=\"M8 12.8709L12.4542 15.5593C12.7807 15.7563 13.1835 15.4636 13.0968 15.0922L11.9148 10.0254L15.8505 6.61581C16.1388 6.36608 15.9847 5.89257 15.6047 5.86033L10.423 5.42072L8.39696 0.640342C8.24839 0.289808 7.7516 0.289808 7.60303 0.640341L5.57696 5.42072L0.395297 5.86033C0.015274 5.89257 -0.13882 6.36608 0.149443 6.61581L4.0852 10.0254L2.90318 15.0922C2.81653 15.4636 3.21932 15.7563 3.54584 15.5593L8 12.8709Z\" fill=\"#767676\"></path></svg></span></a></span><div class=\"companyLocation\">London</div></pre></div><div class=\"heading6 error-text tapItem-gutter\"></div></td></tr></tbody></table><table class=\"jobCardShelfContainer\" role=\"presentation\"><tbody><tr class=\"jobCardShelf\"></tr><tr class=\"underShelfFooter\"><td><div class=\"heading6 tapItem-gutter result-footer\"><div class=\"job-snippet\"><ul style=\"list-style-type:circle;margin-top: 0px;margin-bottom: 0px;padding-left:20px;\">\n",
       "<li style=\"margin-bottom:0px;\">Previous experience in a ML or <b>data</b> <b>scientist</b> role.</li>\n",
       "<li style=\"margin-bottom:0px;\">2+ years of non-internship professional <b>data</b> science experience.</li>\n",
       "<li>Must be unemployed for 1+ years.</li>\n",
       "</ul></div><span class=\"date\"><span class=\"visually-hidden\">Posted</span>30+ days ago</span><span class=\"result-link-bar-separator\">·</span><button aria-expanded=\"false\" class=\"sl resultLink more_links_button\" type=\"button\">More...</button></div><div class=\"tab-container\"><div class=\"more-links-container result-tab\" role=\"presentation\"><div class=\"more_links\"><button aria-label=\"Close\" class=\"close-button\" title=\"Close\" type=\"button\"></button><ul><li><span class=\"mat\">View all <a href=\"/Amazon-UK-Services-Ltd.-jobs\">Amazon UK Services Ltd. jobs</a> - <a href=\"/jobs-in-London\">London jobs</a></span></li><li><span class=\"mat\">Salary Search: <a href=\"/career/data-scientist/salaries/London?campaignid=serp-more&amp;fromjk=4b91fb225034dbcd&amp;from=serp-more\">Data Scientist - Returnship Program salaries in London</a></span></li><li><span class=\"mat\">See popular <a href=\"/cmp/Amazon.com/faq\">questions &amp; answers about Amazon UK Services Ltd.</a></span></li></ul></div></div></div></td></tr></tbody></table><div aria-live=\"polite\"></div></div></div><div class=\"slider_sub_item\"></div></div></div><div class=\"kebabMenu\"><button aria-expanded=\"false\" aria-haspopup=\"true\" aria-label=\"Job actions\" class=\"kebabMenu-button\"><svg aria-hidden=\"true\" fill=\"none\" height=\"24\" role=\"presentation\" viewbox=\"0 0 24 24\" width=\"24\" xmlns=\"http://www.w3.org/2000/svg\"><path d=\"M12 7C13.1 7 14 6.1 14 5C14 3.9 13.1 3 12 3C10.9 3 10 3.9 10 5C10 6.1 10.9 7 12 7ZM12 10C10.9 10 10 10.9 10 12C10 13.1 10.9 14 12 14C13.1 14 14 13.1 14 12C14 10.9 13.1 10 12 10ZM12 17C10.9 17 10 17.9 10 19C10 20.1 10.9 21 12 21C13.1 21 14 20.1 14 19C14 17.9 13.1 17 12 17Z\" fill=\"#2d2d2d\"></path></svg></button></div></a><span aria-live=\"polite\" class=\"visually-hidden\"></span><div class=\"mosaic-zone\" id=\"mosaic-afterFifthJobResult\"></div><span aria-live=\"assertive\" class=\"visually-hidden\"></span><a class=\"tapItem fs-unmask result job_8411751818612285 resultWithShelf sponTapItem desktop\" data-hide-spinner=\"true\" data-hiring-event=\"false\" data-jk=\"8411751818612285\" data-mobtk=\"1fpn099mdr7tp802\" href=\"/rc/clk?jk=8411751818612285&amp;fccid=a5723c806114b8e0&amp;vjs=3\" id=\"job_8411751818612285\" rel=\"nofollow\" target=\"_blank\"><div class=\"slider_container\"><div class=\"slider_list\"><div class=\"slider_item\"><div class=\"job_seen_beacon\"><table cellpadding=\"0\" cellspacing=\"0\" class=\"jobCard_mainContent\" role=\"presentation\"><tbody><tr><td class=\"resultContent\"><div class=\"heading4 color-text-primary singleLineTitle tapItem-gutter\"><h2 class=\"jobTitle jobTitle-color-purple\"><span title=\"Data Scientist\">Data Scientist</span></h2></div><div class=\"heading6 company_location tapItem-gutter\"><pre><span class=\"companyName\"><a class=\"turnstileLink companyOverviewLink\" data-tn-element=\"companyName\" href=\"/cmp/Freedom-From-Torture\" rel=\"noopener\" target=\"_blank\">Freedom from Torture</a></span><span class=\"ratingsDisplay withRatingLink\"><a class=\"ratingLink\" data-tn-variant=\"cmplinktst2\" href=\"/cmp/Freedom-From-Torture/reviews\" rel=\"noopener\" target=\"_blank\" title=\"Freedom from Torture reviews\"><span aria-label=\"3.8 of stars rating\" class=\"ratingNumber\" role=\"img\"><span aria-hidden=\"true\">3.8</span><svg aria-hidden=\"true\" class=\"starIcon\" fill=\"none\" height=\"12\" role=\"presentation\" viewbox=\"0 0 16 16\" width=\"12\" xmlns=\"http://www.w3.org/2000/svg\"><path d=\"M8 12.8709L12.4542 15.5593C12.7807 15.7563 13.1835 15.4636 13.0968 15.0922L11.9148 10.0254L15.8505 6.61581C16.1388 6.36608 15.9847 5.89257 15.6047 5.86033L10.423 5.42072L8.39696 0.640342C8.24839 0.289808 7.7516 0.289808 7.60303 0.640341L5.57696 5.42072L0.395297 5.86033C0.015274 5.89257 -0.13882 6.36608 0.149443 6.61581L4.0852 10.0254L2.90318 15.0922C2.81653 15.4636 3.21932 15.7563 3.54584 15.5593L8 12.8709Z\" fill=\"#767676\"></path></svg></span></a></span><div class=\"companyLocation\">London</div></pre></div><div class=\"heading6 tapItem-gutter metadataContainer\"><div class=\"metadata salary-snippet-container\"><div aria-label=\"£39,120 a year\" class=\"salary-snippet\"><span>£39,120 a year</span></div></div></div><div class=\"heading6 error-text tapItem-gutter\"></div></td></tr></tbody></table><table class=\"jobCardShelfContainer\" role=\"presentation\"><tbody><tr class=\"jobCardShelf\"></tr><tr class=\"underShelfFooter\"><td><div class=\"heading6 tapItem-gutter result-footer\"><div class=\"job-snippet\"><ul style=\"list-style-type:circle;margin-top: 0px;margin-bottom: 0px;padding-left:20px;\">\n",
       "<li style=\"margin-bottom:0px;\">You will have a deep understanding of <b>data</b> and analytics, preferably in a health or social science context.</li>\n",
       "<li>Hours: 28 hours per week.</li>\n",
       "</ul></div><span class=\"date\"><span class=\"visually-hidden\">Posted</span>30+ days ago</span><span class=\"result-link-bar-separator\">·</span><button aria-expanded=\"false\" class=\"sl resultLink more_links_button\" type=\"button\">More...</button></div><div class=\"tab-container\"><div class=\"more-links-container result-tab\" role=\"presentation\"><div class=\"more_links\"><button aria-label=\"Close\" class=\"close-button\" title=\"Close\" type=\"button\"></button><ul><li><span class=\"mat\">View all <a href=\"/Freedom-From-Torture-jobs\">Freedom from Torture jobs</a> - <a href=\"/jobs-in-London\">London jobs</a></span></li><li><span class=\"mat\">Salary Search: <a href=\"/career/data-scientist/salaries/London?campaignid=serp-more&amp;fromjk=8411751818612285&amp;from=serp-more\">Data Scientist salaries in London</a></span></li><li><span class=\"mat\">See popular <a href=\"/cmp/Freedom-From-Torture/faq\">questions &amp; answers about Freedom from Torture</a></span></li></ul></div></div></div></td></tr></tbody></table><div aria-live=\"polite\"></div></div></div><div class=\"slider_sub_item\"></div></div></div><div class=\"kebabMenu\"><button aria-expanded=\"false\" aria-haspopup=\"true\" aria-label=\"Job actions\" class=\"kebabMenu-button\"><svg aria-hidden=\"true\" fill=\"none\" height=\"24\" role=\"presentation\" viewbox=\"0 0 24 24\" width=\"24\" xmlns=\"http://www.w3.org/2000/svg\"><path d=\"M12 7C13.1 7 14 6.1 14 5C14 3.9 13.1 3 12 3C10.9 3 10 3.9 10 5C10 6.1 10.9 7 12 7ZM12 10C10.9 10 10 10.9 10 12C10 13.1 10.9 14 12 14C13.1 14 14 13.1 14 12C14 10.9 13.1 10 12 10ZM12 17C10.9 17 10 17.9 10 19C10 20.1 10.9 21 12 21C13.1 21 14 20.1 14 19C14 17.9 13.1 17 12 17Z\" fill=\"#2d2d2d\"></path></svg></button></div></a><span aria-live=\"polite\" class=\"visually-hidden\"></span><span aria-live=\"assertive\" class=\"visually-hidden\"></span><a class=\"tapItem fs-unmask result job_14a3bb31248f543a resultWithShelf sponTapItem desktop\" data-hide-spinner=\"true\" data-hiring-event=\"false\" data-jk=\"14a3bb31248f543a\" data-mobtk=\"1fpn099mdr7tp802\" href=\"/rc/clk?jk=14a3bb31248f543a&amp;fccid=caed318a9335aac0&amp;vjs=3\" id=\"job_14a3bb31248f543a\" rel=\"nofollow\" target=\"_blank\"><div class=\"slider_container\"><div class=\"slider_list\"><div class=\"slider_item\"><div class=\"job_seen_beacon\"><table cellpadding=\"0\" cellspacing=\"0\" class=\"jobCard_mainContent\" role=\"presentation\"><tbody><tr><td class=\"resultContent\"><div class=\"heading4 color-text-primary singleLineTitle tapItem-gutter\"><h2 class=\"jobTitle jobTitle-color-purple\"><span title=\"Machine Learning Engineer Graduate (Recommendation) - 2022 Start\">Machine Learning Engineer Graduate (Recommendation) - 2022 S...</span></h2></div><div class=\"heading6 company_location tapItem-gutter\"><pre><span class=\"companyName\"><a class=\"turnstileLink companyOverviewLink\" data-tn-element=\"companyName\" href=\"/cmp/Tiktok\" rel=\"noopener\" target=\"_blank\">TikTok</a></span><span class=\"ratingsDisplay withRatingLink\"><a class=\"ratingLink\" data-tn-variant=\"cmplinktst2\" href=\"/cmp/Tiktok/reviews\" rel=\"noopener\" target=\"_blank\" title=\"TikTok reviews\"><span aria-label=\"3.6 of stars rating\" class=\"ratingNumber\" role=\"img\"><span aria-hidden=\"true\">3.6</span><svg aria-hidden=\"true\" class=\"starIcon\" fill=\"none\" height=\"12\" role=\"presentation\" viewbox=\"0 0 16 16\" width=\"12\" xmlns=\"http://www.w3.org/2000/svg\"><path d=\"M8 12.8709L12.4542 15.5593C12.7807 15.7563 13.1835 15.4636 13.0968 15.0922L11.9148 10.0254L15.8505 6.61581C16.1388 6.36608 15.9847 5.89257 15.6047 5.86033L10.423 5.42072L8.39696 0.640342C8.24839 0.289808 7.7516 0.289808 7.60303 0.640341L5.57696 5.42072L0.395297 5.86033C0.015274 5.89257 -0.13882 6.36608 0.149443 6.61581L4.0852 10.0254L2.90318 15.0922C2.81653 15.4636 3.21932 15.7563 3.54584 15.5593L8 12.8709Z\" fill=\"#767676\"></path></svg></span></a></span><div class=\"companyLocation\">London</div></pre></div><div class=\"heading6 error-text tapItem-gutter\"></div></td></tr></tbody></table><table class=\"jobCardShelfContainer\" role=\"presentation\"><tbody><tr class=\"jobCardShelf\"></tr><tr class=\"underShelfFooter\"><td><div class=\"heading6 tapItem-gutter result-footer\"><div class=\"job-snippet\"><ul style=\"list-style-type:circle;margin-top: 0px;margin-bottom: 0px;padding-left:20px;\">\n",
       "<li style=\"margin-bottom:0px;\">Interest in at least one of the following areas: machine learning, <b>data</b> mining, algorithms.</li>\n",
       "<li>TikTok is the leading destination for short-form mobile video.</li>\n",
       "</ul></div><span class=\"date\"><span class=\"visually-hidden\">Posted</span>30+ days ago</span><span class=\"result-link-bar-separator\">·</span><button aria-expanded=\"false\" class=\"sl resultLink more_links_button\" type=\"button\">More...</button></div><div class=\"tab-container\"><div class=\"more-links-container result-tab\" role=\"presentation\"><div class=\"more_links\"><button aria-label=\"Close\" class=\"close-button\" title=\"Close\" type=\"button\"></button><ul><li><span class=\"mat\">View all <a href=\"/Tiktok-jobs\">TikTok jobs</a> - <a href=\"/jobs-in-London\">London jobs</a></span></li><li><span class=\"mat\">Salary Search: <a href=\"/career/machine-learning-engineer/salaries/London?campaignid=serp-more&amp;fromjk=14a3bb31248f543a&amp;from=serp-more\">Machine Learning Engineer Graduate (Recommendation) - 2022 Start salaries in London</a></span></li><li><span class=\"mat\">See popular <a href=\"/cmp/Tiktok/faq\">questions &amp; answers about TikTok</a></span></li></ul></div></div></div></td></tr></tbody></table><div aria-live=\"polite\"></div></div></div><div class=\"slider_sub_item\"></div></div></div><div class=\"kebabMenu\"><button aria-expanded=\"false\" aria-haspopup=\"true\" aria-label=\"Job actions\" class=\"kebabMenu-button\"><svg aria-hidden=\"true\" fill=\"none\" height=\"24\" role=\"presentation\" viewbox=\"0 0 24 24\" width=\"24\" xmlns=\"http://www.w3.org/2000/svg\"><path d=\"M12 7C13.1 7 14 6.1 14 5C14 3.9 13.1 3 12 3C10.9 3 10 3.9 10 5C10 6.1 10.9 7 12 7ZM12 10C10.9 10 10 10.9 10 12C10 13.1 10.9 14 12 14C13.1 14 14 13.1 14 12C14 10.9 13.1 10 12 10ZM12 17C10.9 17 10 17.9 10 19C10 20.1 10.9 21 12 21C13.1 21 14 20.1 14 19C14 17.9 13.1 17 12 17Z\" fill=\"#2d2d2d\"></path></svg></button></div></a><span aria-live=\"polite\" class=\"visually-hidden\"></span><span aria-live=\"assertive\" class=\"visually-hidden\"></span><a class=\"tapItem fs-unmask result job_41ce545464f94ca7 resultWithShelf sponTapItem desktop\" data-hide-spinner=\"true\" data-hiring-event=\"false\" data-jk=\"41ce545464f94ca7\" data-mobtk=\"1fpn099mdr7tp802\" href=\"/rc/clk?jk=41ce545464f94ca7&amp;fccid=caed318a9335aac0&amp;vjs=3\" id=\"job_41ce545464f94ca7\" rel=\"nofollow\" target=\"_blank\"><div class=\"slider_container\"><div class=\"slider_list\"><div class=\"slider_item\"><div class=\"job_seen_beacon\"><table cellpadding=\"0\" cellspacing=\"0\" class=\"jobCard_mainContent\" role=\"presentation\"><tbody><tr><td class=\"resultContent\"><div class=\"heading4 color-text-primary singleLineTitle tapItem-gutter\"><h2 class=\"jobTitle jobTitle-color-purple\"><span title=\"Machine Learning Engineer Summer Intern (Recommendation) - 2022 Start\">Machine Learning Engineer Summer Intern (Recommendation) - 2...</span></h2></div><div class=\"heading6 company_location tapItem-gutter\"><pre><span class=\"companyName\"><a class=\"turnstileLink companyOverviewLink\" data-tn-element=\"companyName\" href=\"/cmp/Tiktok\" rel=\"noopener\" target=\"_blank\">TikTok</a></span><span class=\"ratingsDisplay withRatingLink\"><a class=\"ratingLink\" data-tn-variant=\"cmplinktst2\" href=\"/cmp/Tiktok/reviews\" rel=\"noopener\" target=\"_blank\" title=\"TikTok reviews\"><span aria-label=\"3.6 of stars rating\" class=\"ratingNumber\" role=\"img\"><span aria-hidden=\"true\">3.6</span><svg aria-hidden=\"true\" class=\"starIcon\" fill=\"none\" height=\"12\" role=\"presentation\" viewbox=\"0 0 16 16\" width=\"12\" xmlns=\"http://www.w3.org/2000/svg\"><path d=\"M8 12.8709L12.4542 15.5593C12.7807 15.7563 13.1835 15.4636 13.0968 15.0922L11.9148 10.0254L15.8505 6.61581C16.1388 6.36608 15.9847 5.89257 15.6047 5.86033L10.423 5.42072L8.39696 0.640342C8.24839 0.289808 7.7516 0.289808 7.60303 0.640341L5.57696 5.42072L0.395297 5.86033C0.015274 5.89257 -0.13882 6.36608 0.149443 6.61581L4.0852 10.0254L2.90318 15.0922C2.81653 15.4636 3.21932 15.7563 3.54584 15.5593L8 12.8709Z\" fill=\"#767676\"></path></svg></span></a></span><div class=\"companyLocation\">London</div></pre></div><div class=\"heading6 error-text tapItem-gutter\"></div></td></tr></tbody></table><table class=\"jobCardShelfContainer\" role=\"presentation\"><tbody><tr class=\"jobCardShelf\"></tr><tr class=\"underShelfFooter\"><td><div class=\"heading6 tapItem-gutter result-footer\"><div class=\"job-snippet\"><ul style=\"list-style-type:circle;margin-top: 0px;margin-bottom: 0px;padding-left:20px;\">\n",
       "<li style=\"margin-bottom:0px;\">Interest in at least one of the following areas: machine learning, <b>data</b> mining, algorithms.</li>\n",
       "<li>TikTok is the leading destination for short-form mobile video.</li>\n",
       "</ul></div><span class=\"date\"><span class=\"visually-hidden\">Posted</span>30+ days ago</span><span class=\"result-link-bar-separator\">·</span><button aria-expanded=\"false\" class=\"sl resultLink more_links_button\" type=\"button\">More...</button></div><div class=\"tab-container\"><div class=\"more-links-container result-tab\" role=\"presentation\"><div class=\"more_links\"><button aria-label=\"Close\" class=\"close-button\" title=\"Close\" type=\"button\"></button><ul><li><span class=\"mat\">View all <a href=\"/Tiktok-jobs\">TikTok jobs</a> - <a href=\"/jobs-in-London\">London jobs</a></span></li><li><span class=\"mat\">Salary Search: <a href=\"/career/machine-learning-engineer/salaries/London?campaignid=serp-more&amp;fromjk=41ce545464f94ca7&amp;from=serp-more\">Machine Learning Engineer Summer Intern (Recommendation) - 2022 Start salaries in London</a></span></li><li><span class=\"mat\">See popular <a href=\"/cmp/Tiktok/faq\">questions &amp; answers about TikTok</a></span></li></ul></div></div></div></td></tr></tbody></table><div aria-live=\"polite\"></div></div></div><div class=\"slider_sub_item\"></div></div></div><div class=\"kebabMenu\"><button aria-expanded=\"false\" aria-haspopup=\"true\" aria-label=\"Job actions\" class=\"kebabMenu-button\"><svg aria-hidden=\"true\" fill=\"none\" height=\"24\" role=\"presentation\" viewbox=\"0 0 24 24\" width=\"24\" xmlns=\"http://www.w3.org/2000/svg\"><path d=\"M12 7C13.1 7 14 6.1 14 5C14 3.9 13.1 3 12 3C10.9 3 10 3.9 10 5C10 6.1 10.9 7 12 7ZM12 10C10.9 10 10 10.9 10 12C10 13.1 10.9 14 12 14C13.1 14 14 13.1 14 12C14 10.9 13.1 10 12 10ZM12 17C10.9 17 10 17.9 10 19C10 20.1 10.9 21 12 21C13.1 21 14 20.1 14 19C14 17.9 13.1 17 12 17Z\" fill=\"#2d2d2d\"></path></svg></button></div></a><span aria-live=\"polite\" class=\"visually-hidden\"></span><span aria-live=\"assertive\" class=\"visually-hidden\"></span><a class=\"tapItem fs-unmask result job_718635a04e11ed5e resultWithShelf sponTapItem desktop\" data-hide-spinner=\"true\" data-hiring-event=\"false\" data-jk=\"718635a04e11ed5e\" data-mobtk=\"1fpn099mdr7tp802\" href=\"/rc/clk?jk=718635a04e11ed5e&amp;fccid=6b7a1dfe07e7f037&amp;vjs=3\" id=\"job_718635a04e11ed5e\" rel=\"nofollow\" target=\"_blank\"><div class=\"slider_container\"><div class=\"slider_list\"><div class=\"slider_item\"><div class=\"job_seen_beacon\"><table cellpadding=\"0\" cellspacing=\"0\" class=\"jobCard_mainContent\" role=\"presentation\"><tbody><tr><td class=\"resultContent\"><div class=\"heading4 color-text-primary singleLineTitle tapItem-gutter\"><h2 class=\"jobTitle jobTitle-color-purple\"><span title=\"Data Scientist\">Data Scientist</span></h2></div><div class=\"heading6 company_location tapItem-gutter\"><pre><span class=\"companyName\"><a class=\"turnstileLink companyOverviewLink\" data-tn-element=\"companyName\" href=\"/cmp/Iqvia\" rel=\"noopener\" target=\"_blank\">IQVIA</a></span><span class=\"ratingsDisplay withRatingLink\"><a class=\"ratingLink\" data-tn-variant=\"cmplinktst2\" href=\"/cmp/Iqvia/reviews\" rel=\"noopener\" target=\"_blank\" title=\"IQVIA reviews\"><span aria-label=\"3.8 of stars rating\" class=\"ratingNumber\" role=\"img\"><span aria-hidden=\"true\">3.8</span><svg aria-hidden=\"true\" class=\"starIcon\" fill=\"none\" height=\"12\" role=\"presentation\" viewbox=\"0 0 16 16\" width=\"12\" xmlns=\"http://www.w3.org/2000/svg\"><path d=\"M8 12.8709L12.4542 15.5593C12.7807 15.7563 13.1835 15.4636 13.0968 15.0922L11.9148 10.0254L15.8505 6.61581C16.1388 6.36608 15.9847 5.89257 15.6047 5.86033L10.423 5.42072L8.39696 0.640342C8.24839 0.289808 7.7516 0.289808 7.60303 0.640341L5.57696 5.42072L0.395297 5.86033C0.015274 5.89257 -0.13882 6.36608 0.149443 6.61581L4.0852 10.0254L2.90318 15.0922C2.81653 15.4636 3.21932 15.7563 3.54584 15.5593L8 12.8709Z\" fill=\"#767676\"></path></svg></span></a></span><div class=\"companyLocation\">London</div></pre></div><div class=\"heading6 error-text tapItem-gutter\"></div></td></tr></tbody></table><table class=\"jobCardShelfContainer\" role=\"presentation\"><tbody><tr class=\"jobCardShelf\"></tr><tr class=\"underShelfFooter\"><td><div class=\"heading6 tapItem-gutter result-footer\"><div class=\"job-snippet\"><ul style=\"list-style-type:circle;margin-top: 0px;margin-bottom: 0px;padding-left:20px;\">\n",
       "<li style=\"margin-bottom:0px;\">Knowledge of healthcare patient-level data.</li>\n",
       "<li>Supporting projects being executed by our offshore India team of skilled <b>data</b> <b>scientists</b>, including discussing…</li>\n",
       "</ul></div><span class=\"date\"><span class=\"visually-hidden\">Posted</span>30+ days ago</span><span class=\"result-link-bar-separator\">·</span><button aria-expanded=\"false\" class=\"sl resultLink more_links_button\" type=\"button\">More...</button></div><div class=\"tab-container\"><div class=\"more-links-container result-tab\" role=\"presentation\"><div class=\"more_links\"><button aria-label=\"Close\" class=\"close-button\" title=\"Close\" type=\"button\"></button><ul><li><span class=\"mat\">View all <a href=\"/Iqvia-jobs\">IQVIA jobs</a> - <a href=\"/jobs-in-London\">London jobs</a></span></li><li><span class=\"mat\">Salary Search: <a href=\"/career/data-scientist/salaries/London?campaignid=serp-more&amp;fromjk=718635a04e11ed5e&amp;from=serp-more\">Data Scientist salaries in London</a></span></li><li><span class=\"mat\">See popular <a href=\"/cmp/Iqvia/faq\">questions &amp; answers about IQVIA</a></span></li></ul></div></div></div></td></tr></tbody></table><div aria-live=\"polite\"></div></div></div><div class=\"slider_sub_item\"></div></div></div><div class=\"kebabMenu\"><button aria-expanded=\"false\" aria-haspopup=\"true\" aria-label=\"Job actions\" class=\"kebabMenu-button\"><svg aria-hidden=\"true\" fill=\"none\" height=\"24\" role=\"presentation\" viewbox=\"0 0 24 24\" width=\"24\" xmlns=\"http://www.w3.org/2000/svg\"><path d=\"M12 7C13.1 7 14 6.1 14 5C14 3.9 13.1 3 12 3C10.9 3 10 3.9 10 5C10 6.1 10.9 7 12 7ZM12 10C10.9 10 10 10.9 10 12C10 13.1 10.9 14 12 14C13.1 14 14 13.1 14 12C14 10.9 13.1 10 12 10ZM12 17C10.9 17 10 17.9 10 19C10 20.1 10.9 21 12 21C13.1 21 14 20.1 14 19C14 17.9 13.1 17 12 17Z\" fill=\"#2d2d2d\"></path></svg></button></div></a><span aria-live=\"polite\" class=\"visually-hidden\"></span><span aria-live=\"assertive\" class=\"visually-hidden\"></span><a class=\"tapItem fs-unmask result job_473ec6f403e0cb6e resultWithShelf sponTapItem desktop\" data-hide-spinner=\"true\" data-hiring-event=\"false\" data-jk=\"473ec6f403e0cb6e\" data-mobtk=\"1fpn099mdr7tp802\" href=\"/rc/clk?jk=473ec6f403e0cb6e&amp;fccid=64cffe395a99ee45&amp;vjs=3\" id=\"job_473ec6f403e0cb6e\" rel=\"nofollow\" target=\"_blank\"><div class=\"slider_container\"><div class=\"slider_list\"><div class=\"slider_item\"><div class=\"job_seen_beacon\"><table cellpadding=\"0\" cellspacing=\"0\" class=\"jobCard_mainContent\" role=\"presentation\"><tbody><tr><td class=\"resultContent\"><div class=\"heading4 color-text-primary singleLineTitle tapItem-gutter\"><h2 class=\"jobTitle jobTitle-color-purple jobTitle-newJob\"><div class=\"new topLeft holisticNewBlue desktop\"><span class=\"label\">new</span></div><span title=\"Data Scientist\">Data Scientist</span></h2></div><div class=\"heading6 company_location tapItem-gutter\"><pre><span class=\"companyName\">Ayasdi</span><div class=\"companyLocation\">London<!-- --> <!-- -->EC2M<span class=\"remote-bullet\">•</span><span>Remote</span></div></pre></div><div class=\"heading6 error-text tapItem-gutter\"></div></td></tr></tbody></table><table class=\"jobCardShelfContainer\" role=\"presentation\"><tbody><tr class=\"jobCardShelf\"><td class=\"shelfItem indeedApply\"><span class=\"iaIcon\"></span><span class=\"ialbl iaTextBlack\">Easily apply to this job</span></td></tr><tr class=\"underShelfFooter\"><td><div class=\"heading6 tapItem-gutter result-footer\"><div class=\"job-snippet\"><ul style=\"list-style-type:circle;margin-top: 0px;margin-bottom: 0px;padding-left:20px;\">\n",
       "<li style=\"margin-bottom:0px;\">The ability to collaborate well with other <b>data</b> <b>scientists</b> and machine learning engineers.</li>\n",
       "<li>Directly interact with <b>data</b> <b>scientists</b> in the Financial Services…</li>\n",
       "</ul></div><span class=\"date\"><span class=\"visually-hidden\">Posted</span>6 days ago</span><span class=\"result-link-bar-separator\">·</span><button aria-expanded=\"false\" class=\"sl resultLink more_links_button\" type=\"button\">More...</button></div><div class=\"tab-container\"><div class=\"more-links-container result-tab\" role=\"presentation\"><div class=\"more_links\"><button aria-label=\"Close\" class=\"close-button\" title=\"Close\" type=\"button\"></button><ul><li><span class=\"mat\">View all <a href=\"/Ayasdi-jobs\">Ayasdi jobs</a> - <a href=\"/jobs-in-London\">London jobs</a></span></li><li><span class=\"mat\">Salary Search: <a href=\"/career/data-scientist/salaries/London-EC2M?campaignid=serp-more&amp;fromjk=473ec6f403e0cb6e&amp;from=serp-more\">Data Scientist salaries in London</a></span></li></ul></div></div></div></td></tr></tbody></table><div aria-live=\"polite\"></div></div></div><div class=\"slider_sub_item\"></div></div></div><div class=\"kebabMenu\"><button aria-expanded=\"false\" aria-haspopup=\"true\" aria-label=\"Job actions\" class=\"kebabMenu-button\"><svg aria-hidden=\"true\" fill=\"none\" height=\"24\" role=\"presentation\" viewbox=\"0 0 24 24\" width=\"24\" xmlns=\"http://www.w3.org/2000/svg\"><path d=\"M12 7C13.1 7 14 6.1 14 5C14 3.9 13.1 3 12 3C10.9 3 10 3.9 10 5C10 6.1 10.9 7 12 7ZM12 10C10.9 10 10 10.9 10 12C10 13.1 10.9 14 12 14C13.1 14 14 13.1 14 12C14 10.9 13.1 10 12 10ZM12 17C10.9 17 10 17.9 10 19C10 20.1 10.9 21 12 21C13.1 21 14 20.1 14 19C14 17.9 13.1 17 12 17Z\" fill=\"#2d2d2d\"></path></svg></button></div></a><span aria-live=\"polite\" class=\"visually-hidden\"></span><div class=\"mosaic-zone\" id=\"mosaic-afterTenthJobResult\"></div><span aria-live=\"assertive\" class=\"visually-hidden\"></span><a class=\"tapItem fs-unmask result job_975d081de0924d70 resultWithShelf sponTapItem desktop\" data-hide-spinner=\"true\" data-hiring-event=\"false\" data-jk=\"975d081de0924d70\" data-mobtk=\"1fpn099mdr7tp802\" href=\"/rc/clk?jk=975d081de0924d70&amp;fccid=10b5c722d846df43&amp;vjs=3\" id=\"job_975d081de0924d70\" rel=\"nofollow\" target=\"_blank\"><div class=\"slider_container\"><div class=\"slider_list\"><div class=\"slider_item\"><div class=\"job_seen_beacon\"><table cellpadding=\"0\" cellspacing=\"0\" class=\"jobCard_mainContent\" role=\"presentation\"><tbody><tr><td class=\"resultContent\"><div class=\"heading4 color-text-primary singleLineTitle tapItem-gutter\"><h2 class=\"jobTitle jobTitle-color-purple jobTitle-newJob\"><div class=\"new topLeft holisticNewBlue desktop\"><span class=\"label\">new</span></div><span title=\"Data Science Researcher\">Data Science Researcher</span></h2></div><div class=\"heading6 company_location tapItem-gutter\"><pre><span class=\"companyName\"><a class=\"turnstileLink companyOverviewLink\" data-tn-element=\"companyName\" href=\"/cmp/Mastercard\" rel=\"noopener\" target=\"_blank\">MasterCard</a></span><span class=\"ratingsDisplay withRatingLink\"><a class=\"ratingLink\" data-tn-variant=\"cmplinktst2\" href=\"/cmp/Mastercard/reviews\" rel=\"noopener\" target=\"_blank\" title=\"MasterCard reviews\"><span aria-label=\"4.1 of stars rating\" class=\"ratingNumber\" role=\"img\"><span aria-hidden=\"true\">4.1</span><svg aria-hidden=\"true\" class=\"starIcon\" fill=\"none\" height=\"12\" role=\"presentation\" viewbox=\"0 0 16 16\" width=\"12\" xmlns=\"http://www.w3.org/2000/svg\"><path d=\"M8 12.8709L12.4542 15.5593C12.7807 15.7563 13.1835 15.4636 13.0968 15.0922L11.9148 10.0254L15.8505 6.61581C16.1388 6.36608 15.9847 5.89257 15.6047 5.86033L10.423 5.42072L8.39696 0.640342C8.24839 0.289808 7.7516 0.289808 7.60303 0.640341L5.57696 5.42072L0.395297 5.86033C0.015274 5.89257 -0.13882 6.36608 0.149443 6.61581L4.0852 10.0254L2.90318 15.0922C2.81653 15.4636 3.21932 15.7563 3.54584 15.5593L8 12.8709Z\" fill=\"#767676\"></path></svg></span></a></span><div class=\"companyLocation\">London</div></pre></div><div class=\"heading6 error-text tapItem-gutter\"></div></td></tr></tbody></table><table class=\"jobCardShelfContainer\" role=\"presentation\"><tbody><tr class=\"jobCardShelf\"></tr><tr class=\"underShelfFooter\"><td><div class=\"heading6 tapItem-gutter result-footer\"><div class=\"job-snippet\"><ul style=\"list-style-type:circle;margin-top: 0px;margin-bottom: 0px;padding-left:20px;\">\n",
       "<li>You will be product focused, working in close collaboration with our engineering and operations <b>data</b> <b>scientists</b> as well as the wider sales, consulting, and…</li>\n",
       "</ul></div><span class=\"date\"><span class=\"visually-hidden\">Posted</span>4 days ago</span><span class=\"result-link-bar-separator\">·</span><button aria-expanded=\"false\" class=\"sl resultLink more_links_button\" type=\"button\">More...</button></div><div class=\"tab-container\"><div class=\"more-links-container result-tab\" role=\"presentation\"><div class=\"more_links\"><button aria-label=\"Close\" class=\"close-button\" title=\"Close\" type=\"button\"></button><ul><li><span class=\"mat\">View all <a href=\"/Mastercard-jobs\">MasterCard jobs</a> - <a href=\"/jobs-in-London\">London jobs</a></span></li><li><span class=\"mat\">Salary Search: <a href=\"/career/data-scientist/salaries/London?campaignid=serp-more&amp;fromjk=975d081de0924d70&amp;from=serp-more\">Data Science Researcher salaries in London</a></span></li><li><span class=\"mat\">See popular <a href=\"/cmp/Mastercard/faq\">questions &amp; answers about MasterCard</a></span></li></ul></div></div></div></td></tr></tbody></table><div aria-live=\"polite\"></div></div></div><div class=\"slider_sub_item\"></div></div></div><div class=\"kebabMenu\"><button aria-expanded=\"false\" aria-haspopup=\"true\" aria-label=\"Job actions\" class=\"kebabMenu-button\"><svg aria-hidden=\"true\" fill=\"none\" height=\"24\" role=\"presentation\" viewbox=\"0 0 24 24\" width=\"24\" xmlns=\"http://www.w3.org/2000/svg\"><path d=\"M12 7C13.1 7 14 6.1 14 5C14 3.9 13.1 3 12 3C10.9 3 10 3.9 10 5C10 6.1 10.9 7 12 7ZM12 10C10.9 10 10 10.9 10 12C10 13.1 10.9 14 12 14C13.1 14 14 13.1 14 12C14 10.9 13.1 10 12 10ZM12 17C10.9 17 10 17.9 10 19C10 20.1 10.9 21 12 21C13.1 21 14 20.1 14 19C14 17.9 13.1 17 12 17Z\" fill=\"#2d2d2d\"></path></svg></button></div></a><span aria-live=\"polite\" class=\"visually-hidden\"></span><span aria-live=\"assertive\" class=\"visually-hidden\"></span><a class=\"tapItem fs-unmask result job_a5a36022f9caf4c4 resultWithShelf sponTapItem desktop\" data-hide-spinner=\"true\" data-hiring-event=\"false\" data-jk=\"a5a36022f9caf4c4\" data-mobtk=\"1fpn099mdr7tp802\" href=\"/rc/clk?jk=a5a36022f9caf4c4&amp;fccid=8a1fb5c75f59702a&amp;vjs=3\" id=\"job_a5a36022f9caf4c4\" rel=\"nofollow\" target=\"_blank\"><div class=\"slider_container\"><div class=\"slider_list\"><div class=\"slider_item\"><div class=\"job_seen_beacon\"><table cellpadding=\"0\" cellspacing=\"0\" class=\"jobCard_mainContent\" role=\"presentation\"><tbody><tr><td class=\"resultContent\"><div class=\"heading4 color-text-primary singleLineTitle tapItem-gutter\"><h2 class=\"jobTitle jobTitle-color-purple\"><span title=\"Junior Data Scientist - Auto Scoring\">Junior Data Scientist - Auto Scoring</span></h2></div><div class=\"heading6 company_location tapItem-gutter\"><pre><span class=\"companyName\">CDP Worldwide</span><div class=\"companyLocation\">London<!-- --> <!-- -->EC3R<span class=\"remote-bullet\">•</span><span>Remote</span></div></pre></div><div class=\"heading6 tapItem-gutter metadataContainer\"><div class=\"metadata salary-snippet-container\"><div aria-label=\"£25,967 to £32,459 a year\" class=\"salary-snippet\"><span>£25,967 - £32,459 a year</span></div></div></div><div class=\"heading6 error-text tapItem-gutter\"></div></td></tr></tbody></table><table class=\"jobCardShelfContainer\" role=\"presentation\"><tbody><tr class=\"jobCardShelf\"></tr><tr class=\"underShelfFooter\"><td><div class=\"heading6 tapItem-gutter result-footer\"><div class=\"job-snippet\"><ul style=\"list-style-type:circle;margin-top: 0px;margin-bottom: 0px;padding-left:20px;\">\n",
       "<li style=\"margin-bottom:0px;\">Delivery of automated <b>data</b> quality assessment and outlier detection-based <b>data</b> cleaning algorithms.</li>\n",
       "<li>Assistance in 3rd party provisioning and preparation of data…</li>\n",
       "</ul></div><span class=\"date\"><span class=\"visually-hidden\">Posted</span>13 days ago</span><span class=\"result-link-bar-separator\">·</span><button aria-expanded=\"false\" class=\"sl resultLink more_links_button\" type=\"button\">More...</button></div><div class=\"tab-container\"><div class=\"more-links-container result-tab\" role=\"presentation\"><div class=\"more_links\"><button aria-label=\"Close\" class=\"close-button\" title=\"Close\" type=\"button\"></button><ul><li><span class=\"mat\">View all <a href=\"/Cdp-Worldwide-jobs\">CDP Worldwide jobs</a> - <a href=\"/jobs-in-London\">London jobs</a></span></li><li><span class=\"mat\">Salary Search: <a href=\"/career/junior-data-scientist/salaries/London-EC3R?campaignid=serp-more&amp;fromjk=a5a36022f9caf4c4&amp;from=serp-more\">Junior Data Scientist - Auto Scoring salaries in London</a></span></li></ul></div></div></div></td></tr></tbody></table><div aria-live=\"polite\"></div></div></div><div class=\"slider_sub_item\"></div></div></div><div class=\"kebabMenu\"><button aria-expanded=\"false\" aria-haspopup=\"true\" aria-label=\"Job actions\" class=\"kebabMenu-button\"><svg aria-hidden=\"true\" fill=\"none\" height=\"24\" role=\"presentation\" viewbox=\"0 0 24 24\" width=\"24\" xmlns=\"http://www.w3.org/2000/svg\"><path d=\"M12 7C13.1 7 14 6.1 14 5C14 3.9 13.1 3 12 3C10.9 3 10 3.9 10 5C10 6.1 10.9 7 12 7ZM12 10C10.9 10 10 10.9 10 12C10 13.1 10.9 14 12 14C13.1 14 14 13.1 14 12C14 10.9 13.1 10 12 10ZM12 17C10.9 17 10 17.9 10 19C10 20.1 10.9 21 12 21C13.1 21 14 20.1 14 19C14 17.9 13.1 17 12 17Z\" fill=\"#2d2d2d\"></path></svg></button></div></a><span aria-live=\"polite\" class=\"visually-hidden\"></span><span aria-live=\"assertive\" class=\"visually-hidden\"></span><a class=\"tapItem fs-unmask result job_c8610c368721c0ab resultWithShelf sponTapItem desktop\" data-hide-spinner=\"true\" data-hiring-event=\"false\" data-jk=\"c8610c368721c0ab\" data-mobtk=\"1fpn099mdr7tp802\" href=\"/rc/clk?jk=c8610c368721c0ab&amp;fccid=caed318a9335aac0&amp;vjs=3\" id=\"job_c8610c368721c0ab\" rel=\"nofollow\" target=\"_blank\"><div class=\"slider_container\"><div class=\"slider_list\"><div class=\"slider_item\"><div class=\"job_seen_beacon\"><table cellpadding=\"0\" cellspacing=\"0\" class=\"jobCard_mainContent\" role=\"presentation\"><tbody><tr><td class=\"resultContent\"><div class=\"heading4 color-text-primary singleLineTitle tapItem-gutter\"><h2 class=\"jobTitle jobTitle-color-purple\"><span title=\"Data Scientist\">Data Scientist</span></h2></div><div class=\"heading6 company_location tapItem-gutter\"><pre><span class=\"companyName\"><a class=\"turnstileLink companyOverviewLink\" data-tn-element=\"companyName\" href=\"/cmp/Tiktok\" rel=\"noopener\" target=\"_blank\">TikTok</a></span><span class=\"ratingsDisplay withRatingLink\"><a class=\"ratingLink\" data-tn-variant=\"cmplinktst2\" href=\"/cmp/Tiktok/reviews\" rel=\"noopener\" target=\"_blank\" title=\"TikTok reviews\"><span aria-label=\"3.6 of stars rating\" class=\"ratingNumber\" role=\"img\"><span aria-hidden=\"true\">3.6</span><svg aria-hidden=\"true\" class=\"starIcon\" fill=\"none\" height=\"12\" role=\"presentation\" viewbox=\"0 0 16 16\" width=\"12\" xmlns=\"http://www.w3.org/2000/svg\"><path d=\"M8 12.8709L12.4542 15.5593C12.7807 15.7563 13.1835 15.4636 13.0968 15.0922L11.9148 10.0254L15.8505 6.61581C16.1388 6.36608 15.9847 5.89257 15.6047 5.86033L10.423 5.42072L8.39696 0.640342C8.24839 0.289808 7.7516 0.289808 7.60303 0.640341L5.57696 5.42072L0.395297 5.86033C0.015274 5.89257 -0.13882 6.36608 0.149443 6.61581L4.0852 10.0254L2.90318 15.0922C2.81653 15.4636 3.21932 15.7563 3.54584 15.5593L8 12.8709Z\" fill=\"#767676\"></path></svg></span></a></span><div class=\"companyLocation\">London</div></pre></div><div class=\"heading6 error-text tapItem-gutter\"></div></td></tr></tbody></table><table class=\"jobCardShelfContainer\" role=\"presentation\"><tbody><tr class=\"jobCardShelf\"></tr><tr class=\"underShelfFooter\"><td><div class=\"heading6 tapItem-gutter result-footer\"><div class=\"job-snippet\"><ul style=\"list-style-type:circle;margin-top: 0px;margin-bottom: 0px;padding-left:20px;\">\n",
       "<li style=\"margin-bottom:0px;\">Experience navigating and working with very large <b>data</b> sets and developing large and complex <b>data</b> pipelines using SQL/HQL.</li>\n",
       "<li>Experience with R or Python.</li>\n",
       "</ul></div><span class=\"date\"><span class=\"visually-hidden\">Posted</span>30+ days ago</span><span class=\"result-link-bar-separator\">·</span><button aria-expanded=\"false\" class=\"sl resultLink more_links_button\" type=\"button\">More...</button></div><div class=\"tab-container\"><div class=\"more-links-container result-tab\" role=\"presentation\"><div class=\"more_links\"><button aria-label=\"Close\" class=\"close-button\" title=\"Close\" type=\"button\"></button><ul><li><span class=\"mat\">View all <a href=\"/Tiktok-jobs\">TikTok jobs</a> - <a href=\"/jobs-in-London\">London jobs</a></span></li><li><span class=\"mat\">Salary Search: <a href=\"/career/data-scientist/salaries/London?campaignid=serp-more&amp;fromjk=c8610c368721c0ab&amp;from=serp-more\">Data Scientist salaries in London</a></span></li><li><span class=\"mat\">See popular <a href=\"/cmp/Tiktok/faq\">questions &amp; answers about TikTok</a></span></li></ul></div></div></div></td></tr></tbody></table><div aria-live=\"polite\"></div></div></div><div class=\"slider_sub_item\"></div></div></div><div class=\"kebabMenu\"><button aria-expanded=\"false\" aria-haspopup=\"true\" aria-label=\"Job actions\" class=\"kebabMenu-button\"><svg aria-hidden=\"true\" fill=\"none\" height=\"24\" role=\"presentation\" viewbox=\"0 0 24 24\" width=\"24\" xmlns=\"http://www.w3.org/2000/svg\"><path d=\"M12 7C13.1 7 14 6.1 14 5C14 3.9 13.1 3 12 3C10.9 3 10 3.9 10 5C10 6.1 10.9 7 12 7ZM12 10C10.9 10 10 10.9 10 12C10 13.1 10.9 14 12 14C13.1 14 14 13.1 14 12C14 10.9 13.1 10 12 10ZM12 17C10.9 17 10 17.9 10 19C10 20.1 10.9 21 12 21C13.1 21 14 20.1 14 19C14 17.9 13.1 17 12 17Z\" fill=\"#2d2d2d\"></path></svg></button></div></a><span aria-live=\"polite\" class=\"visually-hidden\"></span><span aria-live=\"assertive\" class=\"visually-hidden\"></span><a class=\"tapItem fs-unmask result job_2bc7fe210ccc0cec resultWithShelf sponTapItem desktop\" data-hide-spinner=\"true\" data-hiring-event=\"false\" data-jk=\"2bc7fe210ccc0cec\" data-mobtk=\"1fpn099mdr7tp802\" href=\"/rc/clk?jk=2bc7fe210ccc0cec&amp;fccid=1d79a4290fb70d8e&amp;vjs=3\" id=\"job_2bc7fe210ccc0cec\" rel=\"nofollow\" target=\"_blank\"><div class=\"slider_container\"><div class=\"slider_list\"><div class=\"slider_item\"><div class=\"job_seen_beacon\"><table cellpadding=\"0\" cellspacing=\"0\" class=\"jobCard_mainContent\" role=\"presentation\"><tbody><tr><td class=\"resultContent\"><div class=\"heading4 color-text-primary singleLineTitle tapItem-gutter\"><h2 class=\"jobTitle jobTitle-color-purple\"><span title=\"Data Scientist, Geospatial\">Data Scientist, Geospatial</span></h2></div><div class=\"heading6 company_location tapItem-gutter\"><pre><span class=\"companyName\"><a class=\"turnstileLink companyOverviewLink\" data-tn-element=\"companyName\" href=\"/cmp/Deliveroo\" rel=\"noopener\" target=\"_blank\">Deliveroo</a></span><span class=\"ratingsDisplay withRatingLink\"><a class=\"ratingLink\" data-tn-variant=\"cmplinktst2\" href=\"/cmp/Deliveroo/reviews\" rel=\"noopener\" target=\"_blank\" title=\"Deliveroo reviews\"><span aria-label=\"3.3 of stars rating\" class=\"ratingNumber\" role=\"img\"><span aria-hidden=\"true\">3.3</span><svg aria-hidden=\"true\" class=\"starIcon\" fill=\"none\" height=\"12\" role=\"presentation\" viewbox=\"0 0 16 16\" width=\"12\" xmlns=\"http://www.w3.org/2000/svg\"><path d=\"M8 12.8709L12.4542 15.5593C12.7807 15.7563 13.1835 15.4636 13.0968 15.0922L11.9148 10.0254L15.8505 6.61581C16.1388 6.36608 15.9847 5.89257 15.6047 5.86033L10.423 5.42072L8.39696 0.640342C8.24839 0.289808 7.7516 0.289808 7.60303 0.640341L5.57696 5.42072L0.395297 5.86033C0.015274 5.89257 -0.13882 6.36608 0.149443 6.61581L4.0852 10.0254L2.90318 15.0922C2.81653 15.4636 3.21932 15.7563 3.54584 15.5593L8 12.8709Z\" fill=\"#767676\"></path></svg></span></a></span><div class=\"companyLocation\">London</div></pre></div><div class=\"heading6 error-text tapItem-gutter\"></div></td></tr></tbody></table><table class=\"jobCardShelfContainer\" role=\"presentation\"><tbody><tr class=\"jobCardShelf\"><td class=\"shelfItem indeedApply\"><span class=\"iaIcon\"></span><span class=\"ialbl iaTextBlack\">Easily apply to this job</span></td></tr><tr class=\"underShelfFooter\"><td><div class=\"heading6 tapItem-gutter result-footer\"><div class=\"job-snippet\"><ul style=\"list-style-type:circle;margin-top: 0px;margin-bottom: 0px;padding-left:20px;\">\n",
       "<li style=\"margin-bottom:0px;\">Our <b>data</b> <b>scientists</b> come from all kinds of backgrounds but have excellence in common.</li>\n",
       "<li>We are uniquely placed to use <b>data</b> to help make better decisions and…</li>\n",
       "</ul></div><span class=\"date\"><span class=\"visually-hidden\">Posted</span>12 days ago</span><span class=\"result-link-bar-separator\">·</span><button aria-expanded=\"false\" class=\"sl resultLink more_links_button\" type=\"button\">More...</button></div><div class=\"tab-container\"><div class=\"more-links-container result-tab\" role=\"presentation\"><div class=\"more_links\"><button aria-label=\"Close\" class=\"close-button\" title=\"Close\" type=\"button\"></button><ul><li><span class=\"mat\">View all <a href=\"/Deliveroo-jobs\">Deliveroo jobs</a> - <a href=\"/jobs-in-London\">London jobs</a></span></li><li><span class=\"mat\">Salary Search: <a href=\"/career/data-scientist/salaries/London?campaignid=serp-more&amp;fromjk=2bc7fe210ccc0cec&amp;from=serp-more\">Data Scientist, Geospatial salaries in London</a></span></li><li><span class=\"mat\">See popular <a href=\"/cmp/Deliveroo/faq\">questions &amp; answers about Deliveroo</a></span></li></ul></div></div></div></td></tr></tbody></table><div aria-live=\"polite\"></div></div></div><div class=\"slider_sub_item\"></div></div></div><div class=\"kebabMenu\"><button aria-expanded=\"false\" aria-haspopup=\"true\" aria-label=\"Job actions\" class=\"kebabMenu-button\"><svg aria-hidden=\"true\" fill=\"none\" height=\"24\" role=\"presentation\" viewbox=\"0 0 24 24\" width=\"24\" xmlns=\"http://www.w3.org/2000/svg\"><path d=\"M12 7C13.1 7 14 6.1 14 5C14 3.9 13.1 3 12 3C10.9 3 10 3.9 10 5C10 6.1 10.9 7 12 7ZM12 10C10.9 10 10 10.9 10 12C10 13.1 10.9 14 12 14C13.1 14 14 13.1 14 12C14 10.9 13.1 10 12 10ZM12 17C10.9 17 10 17.9 10 19C10 20.1 10.9 21 12 21C13.1 21 14 20.1 14 19C14 17.9 13.1 17 12 17Z\" fill=\"#2d2d2d\"></path></svg></button></div></a><span aria-live=\"polite\" class=\"visually-hidden\"></span><span aria-live=\"assertive\" class=\"visually-hidden\"></span><a class=\"tapItem fs-unmask result job_28ad06a2c31aee21 resultWithShelf sponTapItem desktop\" data-hide-spinner=\"true\" data-hiring-event=\"false\" data-jk=\"28ad06a2c31aee21\" data-mobtk=\"1fpn099mdr7tp802\" href=\"/company/247GlobalRecruit/jobs/Data-Scientist-28ad06a2c31aee21?fccid=12088d3f2feee472&amp;vjs=3\" id=\"job_28ad06a2c31aee21\" rel=\"nofollow\" target=\"_blank\"><div class=\"slider_container\"><div class=\"slider_list\"><div class=\"slider_item\"><div class=\"job_seen_beacon\"><table cellpadding=\"0\" cellspacing=\"0\" class=\"jobCard_mainContent\" role=\"presentation\"><tbody><tr><td class=\"resultContent\"><div class=\"heading4 color-text-primary singleLineTitle tapItem-gutter\"><h2 class=\"jobTitle jobTitle-color-purple\"><span title=\"Data Scientist - REMOTE\">Data Scientist - REMOTE</span></h2></div><div class=\"heading6 company_location tapItem-gutter\"><pre><span class=\"companyName\">247 Global Recruit</span><div class=\"companyLocation\">London<span class=\"remote-bullet\">•</span><span>Remote</span></div></pre></div><div class=\"heading6 tapItem-gutter metadataContainer\"><div class=\"metadata salary-snippet-container\"><div aria-label=\"£400 to £500 a day\" class=\"salary-snippet\"><span>£400 - £500 a day</span></div></div></div><div class=\"heading6 error-text tapItem-gutter\"></div></td></tr></tbody></table><table class=\"jobCardShelfContainer\" role=\"presentation\"><tbody><tr class=\"jobCardShelf\"><td class=\"shelfItem indeedApply\"><span class=\"iaIcon\"></span><span class=\"ialbl iaTextBlack\">Easily apply to this job</span></td></tr><tr class=\"underShelfFooter\"><td><div class=\"heading6 tapItem-gutter result-footer\"><div class=\"job-snippet\"><ul style=\"list-style-type:circle;margin-top: 0px;margin-bottom: 0px;padding-left:20px;\">\n",
       "<li style=\"margin-bottom:0px;\">Strong experience in <b>data</b> wrangling/analysis, model building etc.</li>\n",
       "<li>Strong experience with AI and ML technologies including at least one major deep learning…</li>\n",
       "</ul></div><span class=\"date\"><span class=\"visually-hidden\">Posted</span>14 days ago</span><span class=\"result-link-bar-separator\">·</span><button aria-expanded=\"false\" class=\"sl resultLink more_links_button\" type=\"button\">More...</button></div><div class=\"tab-container\"><div class=\"more-links-container result-tab\" role=\"presentation\"><div class=\"more_links\"><button aria-label=\"Close\" class=\"close-button\" title=\"Close\" type=\"button\"></button><ul><li><span class=\"mat\">View all <a href=\"/247-Global-Recruit-jobs\">247 Global Recruit jobs</a> - <a href=\"/jobs-in-London\">London jobs</a></span></li><li><span class=\"mat\">Salary Search: <a href=\"/career/data-scientist/salaries/London?campaignid=serp-more&amp;fromjk=28ad06a2c31aee21&amp;from=serp-more\">Data Scientist - REMOTE salaries in London</a></span></li></ul></div></div></div></td></tr></tbody></table><div aria-live=\"polite\"></div></div></div><div class=\"slider_sub_item\"></div></div></div><div class=\"kebabMenu\"><button aria-expanded=\"false\" aria-haspopup=\"true\" aria-label=\"Job actions\" class=\"kebabMenu-button\"><svg aria-hidden=\"true\" fill=\"none\" height=\"24\" role=\"presentation\" viewbox=\"0 0 24 24\" width=\"24\" xmlns=\"http://www.w3.org/2000/svg\"><path d=\"M12 7C13.1 7 14 6.1 14 5C14 3.9 13.1 3 12 3C10.9 3 10 3.9 10 5C10 6.1 10.9 7 12 7ZM12 10C10.9 10 10 10.9 10 12C10 13.1 10.9 14 12 14C13.1 14 14 13.1 14 12C14 10.9 13.1 10 12 10ZM12 17C10.9 17 10 17.9 10 19C10 20.1 10.9 21 12 21C13.1 21 14 20.1 14 19C14 17.9 13.1 17 12 17Z\" fill=\"#2d2d2d\"></path></svg></button></div></a><span aria-live=\"polite\" class=\"visually-hidden\"></span><div class=\"mosaic-zone\" id=\"mosaic-afterFifteenthJobResult\"></div><div aria-live=\"polite\" id=\"toast\"></div><script>\n",
       "    window.JCS_onClk = function(e){var t;e.preventDefault(),e.stopPropagation();for(var n=e.target,o=!1,r=!1;n;){if(null!==(t=n.className)&&void 0!==t&&t.indexOf)if(-1<n.className.indexOf(\"bookmark \"))o=!0;else if(-1<n.className.indexOf(\"dislike-container \"))r=!0;else if(-1<n.className.indexOf(\"result \")){o?window.jcsSavedJobs.indexOf(n.id)<0&&window.jcsSavedJobs.push(n.id):r?window.jcsDislikedJobs.indexOf(n.id)<0&&window.jcsDislikedJobs.push(n.id):window.jcsClickedJob=n.id;break}n=n.parentNode}};\n",
       "    (function(){var e;window.jcsSavedJobs||(e=document.getElementById(\"mosaic-provider-jobcards\"),window.jcsSavedJobs=[],window.jcsDislikedJobs=[],window.jcsClickedJob=null,e&&(e.addEventListener(\"click\",window.JCS_onClk),window.removeJcsOnClickFn=function(){e&&e.removeEventListener(\"click\",window.JCS_onClk)}))})();\n",
       "    </script></div></div>"
      ]
     },
     "execution_count": 119,
     "metadata": {},
     "output_type": "execute_result"
    }
   ],
   "source": [
    "result2[1]"
   ]
  },
  {
   "cell_type": "code",
   "execution_count": 122,
   "metadata": {
    "collapsed": true,
    "jupyter": {
     "outputs_hidden": true
    },
    "tags": []
   },
   "outputs": [
    {
     "data": {
      "text/plain": [
       "[<div class=\"mosaic mosaic-provider-jobcards\" id=\"mosaic-provider-jobcards\"><span aria-live=\"assertive\" class=\"visually-hidden\"></span><a class=\"tapItem fs-unmask result job_aa457aa85a556fb0 sponsoredJob resultWithShelf sponTapItem desktop\" data-ci=\"380415765\" data-empn=\"7636144005644834\" data-hide-spinner=\"true\" data-hiring-event=\"false\" data-jk=\"aa457aa85a556fb0\" data-mobtk=\"1fpn099mdr7tp802\" href=\"/pagead/clk?mo=r&amp;ad=-6NYlbfkN0AraZfUMCdnJNjJsWHy6D3Ra_0D6GRfEkfGXZiKyoRK-UgTwcBoOltzaU3gOETeNoNinhkPnkH3TGlJpHcLusrguHQzHYiN2xq89s1SyPJCYEaoacrIcClyZ_BwFFHMBMx884gGjwndyavtzZzhi26kl__b4yufs_iW51EA-uCu7kSfv8p0S5anMQCSCkJxglNoPQWXYogx-DaPVbKupMmwUiP_nl0DAOyGfcdDsB9aOTC4rxRUN_V0Gqy7BgpUkskXpdmPhXoJgPczwxNwWUlsIdom-LBeNDKk6P4SfDBeDiip_5txxERe7LC-8zdovMV03ocL8riKTfZekGatfKnvxtK-lqH15QXOLAp25Rji9R90Pf85GmlPP1GN8ipz3BTNcXBb6B6ueceD-uEK2on1g6E4BSST5iq6GM5nvj0TGRr9JdfafR4l492Xz6dmQb5Y1r4mplht6nyxP9MKyV9pFxeX2nq9oUgEFK-Q3iEvmO-YML49cbD2Rdhx1UCPU6HITsbz-NIwRtj2M_t18rtxdHfW6e9jex8=&amp;p=0&amp;fvj=1&amp;vjs=3\" id=\"sj_aa457aa85a556fb0\" rel=\"nofollow\" target=\"_blank\"><div class=\"slider_container\"><div class=\"slider_list\"><div class=\"slider_item\"><div class=\"job_seen_beacon\"><table cellpadding=\"0\" cellspacing=\"0\" class=\"jobCard_mainContent\" role=\"presentation\"><tbody><tr><td class=\"resultContent\"><div class=\"heading4 color-text-primary singleLineTitle tapItem-gutter\"><h2 class=\"jobTitle jobTitle-color-purple\"><span title=\"Jr. Machine Learning Implementation Engineers\">Jr. Machine Learning Implementation Engineers</span></h2></div><div class=\"heading6 company_location tapItem-gutter\"><pre><span class=\"companyName\">Information Tech Consultants</span><div class=\"companyLocation\">London</div></pre></div><div class=\"heading6 tapItem-gutter metadataContainer\"><div class=\"metadata salary-snippet-container\"><div aria-label=\"From £30,596 a year\" class=\"salary-snippet\"><span>From £30,596 a year</span></div></div></div><div class=\"heading6 error-text tapItem-gutter\"></div></td></tr></tbody></table><table class=\"jobCardShelfContainer\" role=\"presentation\"><tbody><tr class=\"jobCardShelf\"><td class=\"shelfItem indeedApply\"><span class=\"iaIcon\"></span><span class=\"ialbl iaTextBlack\">Easily apply to this job</span></td></tr><tr class=\"underShelfFooter\"><td><div class=\"heading6 tapItem-gutter result-footer\"><div class=\"job-snippet\"><ul style=\"list-style-type:circle;margin-top: 0px;margin-bottom: 0px;padding-left:20px;\">\n",
       " <li style=\"margin-bottom:0px;\">Job Title: <b>Data</b> Scientist/Jr.</li>\n",
       " <li>Information Tech Consultants Ltd (ITC) is a London-based mobile app development consultancy, specializing in Android, iOS and Data…</li>\n",
       " </ul></div><span class=\"date\"><span class=\"visually-hidden\">Posted</span>30+ days ago</span></div></td></tr></tbody></table><div aria-live=\"polite\"></div></div></div><div class=\"slider_sub_item\"></div></div></div><div class=\"kebabMenu\"><button aria-expanded=\"false\" aria-haspopup=\"true\" aria-label=\"Job actions\" class=\"kebabMenu-button\"><svg aria-hidden=\"true\" fill=\"none\" height=\"24\" role=\"presentation\" viewbox=\"0 0 24 24\" width=\"24\" xmlns=\"http://www.w3.org/2000/svg\"><path d=\"M12 7C13.1 7 14 6.1 14 5C14 3.9 13.1 3 12 3C10.9 3 10 3.9 10 5C10 6.1 10.9 7 12 7ZM12 10C10.9 10 10 10.9 10 12C10 13.1 10.9 14 12 14C13.1 14 14 13.1 14 12C14 10.9 13.1 10 12 10ZM12 17C10.9 17 10 17.9 10 19C10 20.1 10.9 21 12 21C13.1 21 14 20.1 14 19C14 17.9 13.1 17 12 17Z\" fill=\"#2d2d2d\"></path></svg></button></div></a><span aria-live=\"polite\" class=\"visually-hidden\"></span><span aria-live=\"assertive\" class=\"visually-hidden\"></span><a class=\"tapItem fs-unmask result job_81596e087bc722e1 resultWithShelf sponTapItem desktop\" data-hide-spinner=\"true\" data-hiring-event=\"false\" data-jk=\"81596e087bc722e1\" data-mobtk=\"1fpn099mdr7tp802\" href=\"/rc/clk?jk=81596e087bc722e1&amp;fccid=97de08cc0d912589&amp;vjs=3\" id=\"job_81596e087bc722e1\" rel=\"nofollow\" target=\"_blank\"><div class=\"slider_container\"><div class=\"slider_list\"><div class=\"slider_item\"><div class=\"job_seen_beacon\"><table cellpadding=\"0\" cellspacing=\"0\" class=\"jobCard_mainContent\" role=\"presentation\"><tbody><tr><td class=\"resultContent\"><div class=\"heading4 color-text-primary singleLineTitle tapItem-gutter\"><h2 class=\"jobTitle jobTitle-color-purple jobTitle-newJob\"><div class=\"new topLeft holisticNewBlue desktop\"><span class=\"label\">new</span></div><span title=\"Data Scientist\">Data Scientist</span></h2></div><div class=\"heading6 company_location tapItem-gutter\"><pre><span class=\"companyName\">Fable Data</span><div class=\"companyLocation\">London<!-- --> <!-- -->SE1 0AT</div></pre></div><div class=\"heading6 tapItem-gutter metadataContainer\"><div class=\"metadata salary-snippet-container\"><div aria-label=\"£50,000 to £60,000 a year\" class=\"salary-snippet\"><span>£50,000 - £60,000 a year</span></div></div></div><div class=\"heading6 error-text tapItem-gutter\"></div></td></tr></tbody></table><table class=\"jobCardShelfContainer\" role=\"presentation\"><tbody><tr class=\"jobCardShelf\"><td class=\"shelfItem indeedApply\"><span class=\"iaIcon\"></span><span class=\"ialbl iaTextBlack\">Easily apply to this job</span></td></tr><tr class=\"underShelfFooter\"><td><div class=\"heading6 tapItem-gutter result-footer\"><div class=\"job-snippet\"><ul style=\"list-style-type:circle;margin-top: 0px;margin-bottom: 0px;padding-left:20px;\">\n",
       " <li>Assist in the maintenance of a library of ground truth <b>data</b> points either using <b>data</b> feeds from financial <b>data</b> providers or from manual collection of <b>data</b> from…</li>\n",
       " </ul></div><span class=\"date\"><span class=\"visually-hidden\">Posted</span>Today</span><span class=\"result-link-bar-separator\">·</span><button aria-expanded=\"false\" class=\"sl resultLink more_links_button\" type=\"button\">More...</button></div><div class=\"tab-container\"><div class=\"more-links-container result-tab\" role=\"presentation\"><div class=\"more_links\"><button aria-label=\"Close\" class=\"close-button\" title=\"Close\" type=\"button\"></button><ul><li><span class=\"mat\">View all <a href=\"/Fable-Data-jobs\">Fable Data jobs</a> - <a href=\"/jobs-in-London\">London jobs</a></span></li><li><span class=\"mat\">Salary Search: <a href=\"/career/data-scientist/salaries/London-SE1?campaignid=serp-more&amp;fromjk=81596e087bc722e1&amp;from=serp-more\">Data Scientist salaries in London</a></span></li></ul></div></div></div></td></tr></tbody></table><div aria-live=\"polite\"></div></div></div><div class=\"slider_sub_item\"></div></div></div><div class=\"kebabMenu\"><button aria-expanded=\"false\" aria-haspopup=\"true\" aria-label=\"Job actions\" class=\"kebabMenu-button\"><svg aria-hidden=\"true\" fill=\"none\" height=\"24\" role=\"presentation\" viewbox=\"0 0 24 24\" width=\"24\" xmlns=\"http://www.w3.org/2000/svg\"><path d=\"M12 7C13.1 7 14 6.1 14 5C14 3.9 13.1 3 12 3C10.9 3 10 3.9 10 5C10 6.1 10.9 7 12 7ZM12 10C10.9 10 10 10.9 10 12C10 13.1 10.9 14 12 14C13.1 14 14 13.1 14 12C14 10.9 13.1 10 12 10ZM12 17C10.9 17 10 17.9 10 19C10 20.1 10.9 21 12 21C13.1 21 14 20.1 14 19C14 17.9 13.1 17 12 17Z\" fill=\"#2d2d2d\"></path></svg></button></div></a><span aria-live=\"polite\" class=\"visually-hidden\"></span><span aria-live=\"assertive\" class=\"visually-hidden\"></span><a class=\"tapItem fs-unmask result job_80ba1147518747d1 resultWithShelf sponTapItem desktop\" data-hide-spinner=\"true\" data-hiring-event=\"false\" data-jk=\"80ba1147518747d1\" data-mobtk=\"1fpn099mdr7tp802\" href=\"/rc/clk?jk=80ba1147518747d1&amp;fccid=31841269d7b4c0db&amp;vjs=3\" id=\"job_80ba1147518747d1\" rel=\"nofollow\" target=\"_blank\"><div class=\"slider_container\"><div class=\"slider_list\"><div class=\"slider_item\"><div class=\"job_seen_beacon\"><table cellpadding=\"0\" cellspacing=\"0\" class=\"jobCard_mainContent\" role=\"presentation\"><tbody><tr><td class=\"resultContent\"><div class=\"heading4 color-text-primary singleLineTitle tapItem-gutter\"><h2 class=\"jobTitle jobTitle-color-purple\"><span title=\"Junior Data Scientist\">Junior Data Scientist</span></h2></div><div class=\"heading6 company_location tapItem-gutter\"><pre><span class=\"companyName\">Echobox</span><div class=\"companyLocation\">London</div></pre></div><div class=\"heading6 error-text tapItem-gutter\"></div></td></tr></tbody></table><table class=\"jobCardShelfContainer\" role=\"presentation\"><tbody><tr class=\"jobCardShelf\"></tr><tr class=\"underShelfFooter\"><td><div class=\"heading6 tapItem-gutter result-footer\"><div class=\"job-snippet\"><ul style=\"list-style-type:circle;margin-top: 0px;margin-bottom: 0px;padding-left:20px;\">\n",
       " <li style=\"margin-bottom:0px;\">Working knowledge of big <b>data</b> architectures, i.e. NoSQL, Hadoop etc.</li>\n",
       " <li>You will assist in the customisation of the product for new customers and trial data…</li>\n",
       " </ul></div><span class=\"date\"><span class=\"visually-hidden\">Posted</span>30+ days ago</span><span class=\"result-link-bar-separator\">·</span><button aria-expanded=\"false\" class=\"sl resultLink more_links_button\" type=\"button\">More...</button></div><div class=\"tab-container\"><div class=\"more-links-container result-tab\" role=\"presentation\"><div class=\"more_links\"><button aria-label=\"Close\" class=\"close-button\" title=\"Close\" type=\"button\"></button><ul><li><span class=\"mat\">View all <a href=\"/Echobox-jobs\">Echobox jobs</a> - <a href=\"/jobs-in-London\">London jobs</a></span></li><li><span class=\"mat\">Salary Search: <a href=\"/career/junior-data-scientist/salaries/London?campaignid=serp-more&amp;fromjk=80ba1147518747d1&amp;from=serp-more\">Junior Data Scientist salaries in London</a></span></li></ul></div></div></div></td></tr></tbody></table><div aria-live=\"polite\"></div></div></div><div class=\"slider_sub_item\"></div></div></div><div class=\"kebabMenu\"><button aria-expanded=\"false\" aria-haspopup=\"true\" aria-label=\"Job actions\" class=\"kebabMenu-button\"><svg aria-hidden=\"true\" fill=\"none\" height=\"24\" role=\"presentation\" viewbox=\"0 0 24 24\" width=\"24\" xmlns=\"http://www.w3.org/2000/svg\"><path d=\"M12 7C13.1 7 14 6.1 14 5C14 3.9 13.1 3 12 3C10.9 3 10 3.9 10 5C10 6.1 10.9 7 12 7ZM12 10C10.9 10 10 10.9 10 12C10 13.1 10.9 14 12 14C13.1 14 14 13.1 14 12C14 10.9 13.1 10 12 10ZM12 17C10.9 17 10 17.9 10 19C10 20.1 10.9 21 12 21C13.1 21 14 20.1 14 19C14 17.9 13.1 17 12 17Z\" fill=\"#2d2d2d\"></path></svg></button></div></a><span aria-live=\"polite\" class=\"visually-hidden\"></span><span aria-live=\"assertive\" class=\"visually-hidden\"></span><a class=\"tapItem fs-unmask result job_a766970992ab5675 resultWithShelf sponTapItem desktop\" data-hide-spinner=\"true\" data-hiring-event=\"false\" data-jk=\"a766970992ab5675\" data-mobtk=\"1fpn099mdr7tp802\" href=\"/rc/clk?jk=a766970992ab5675&amp;fccid=e407df9c0e5de2cd&amp;vjs=3\" id=\"job_a766970992ab5675\" rel=\"nofollow\" target=\"_blank\"><div class=\"slider_container\"><div class=\"slider_list\"><div class=\"slider_item\"><div class=\"job_seen_beacon\"><table cellpadding=\"0\" cellspacing=\"0\" class=\"jobCard_mainContent\" role=\"presentation\"><tbody><tr><td class=\"resultContent\"><div class=\"heading4 color-text-primary singleLineTitle tapItem-gutter\"><h2 class=\"jobTitle jobTitle-color-purple jobTitle-newJob\"><div class=\"new topLeft holisticNewBlue desktop\"><span class=\"label\">new</span></div><span title=\"Data Science - Intern\">Data Science - Intern</span></h2></div><div class=\"heading6 company_location tapItem-gutter\"><pre><span class=\"companyName\">The Commonwealth</span><div class=\"companyLocation\">London</div></pre></div><div class=\"heading6 error-text tapItem-gutter\"></div></td></tr></tbody></table><table class=\"jobCardShelfContainer\" role=\"presentation\"><tbody><tr class=\"jobCardShelf\"></tr><tr class=\"underShelfFooter\"><td><div class=\"heading6 tapItem-gutter result-footer\"><div class=\"job-snippet\"><ul style=\"list-style-type:circle;margin-top: 0px;margin-bottom: 0px;padding-left:20px;\">\n",
       " <li style=\"margin-bottom:0px;\">The Secretariat is steadily building its <b>data</b> capabilities and is implementing a <b>data</b> governance framework.</li>\n",
       " <li>Creating and applying Advanced <b>data</b> analytics models…</li>\n",
       " </ul></div><span class=\"date\"><span class=\"visually-hidden\">Posted</span>7 days ago</span><span class=\"result-link-bar-separator\">·</span><button aria-expanded=\"false\" class=\"sl resultLink more_links_button\" type=\"button\">More...</button></div><div class=\"tab-container\"><div class=\"more-links-container result-tab\" role=\"presentation\"><div class=\"more_links\"><button aria-label=\"Close\" class=\"close-button\" title=\"Close\" type=\"button\"></button><ul><li><span class=\"mat\">View all <a href=\"/The-Commonwealth-jobs\">The Commonwealth jobs</a> - <a href=\"/jobs-in-London\">London jobs</a></span></li><li><span class=\"mat\">Salary Search: <a href=\"/career/data-science-intern/salaries/London?campaignid=serp-more&amp;fromjk=a766970992ab5675&amp;from=serp-more\">Data Science - Intern salaries in London</a></span></li></ul></div></div></div></td></tr></tbody></table><div aria-live=\"polite\"></div></div></div><div class=\"slider_sub_item\"></div></div></div><div class=\"kebabMenu\"><button aria-expanded=\"false\" aria-haspopup=\"true\" aria-label=\"Job actions\" class=\"kebabMenu-button\"><svg aria-hidden=\"true\" fill=\"none\" height=\"24\" role=\"presentation\" viewbox=\"0 0 24 24\" width=\"24\" xmlns=\"http://www.w3.org/2000/svg\"><path d=\"M12 7C13.1 7 14 6.1 14 5C14 3.9 13.1 3 12 3C10.9 3 10 3.9 10 5C10 6.1 10.9 7 12 7ZM12 10C10.9 10 10 10.9 10 12C10 13.1 10.9 14 12 14C13.1 14 14 13.1 14 12C14 10.9 13.1 10 12 10ZM12 17C10.9 17 10 17.9 10 19C10 20.1 10.9 21 12 21C13.1 21 14 20.1 14 19C14 17.9 13.1 17 12 17Z\" fill=\"#2d2d2d\"></path></svg></button></div></a><span aria-live=\"polite\" class=\"visually-hidden\"></span><span aria-live=\"assertive\" class=\"visually-hidden\"></span><a class=\"tapItem fs-unmask result job_4b91fb225034dbcd resultWithShelf sponTapItem desktop\" data-hide-spinner=\"true\" data-hiring-event=\"false\" data-jk=\"4b91fb225034dbcd\" data-mobtk=\"1fpn099mdr7tp802\" href=\"/rc/clk?jk=4b91fb225034dbcd&amp;fccid=fe2d21eef233e94a&amp;vjs=3\" id=\"job_4b91fb225034dbcd\" rel=\"nofollow\" target=\"_blank\"><div class=\"slider_container\"><div class=\"slider_list\"><div class=\"slider_item\"><div class=\"job_seen_beacon\"><table cellpadding=\"0\" cellspacing=\"0\" class=\"jobCard_mainContent\" role=\"presentation\"><tbody><tr><td class=\"resultContent\"><div class=\"heading4 color-text-primary singleLineTitle tapItem-gutter\"><h2 class=\"jobTitle jobTitle-color-purple\"><span title=\"Data Scientist - Returnship Program\">Data Scientist - Returnship Program</span></h2></div><div class=\"heading6 company_location tapItem-gutter\"><pre><span class=\"companyName\"><a class=\"turnstileLink companyOverviewLink\" data-tn-element=\"companyName\" href=\"/cmp/Amazon.com\" rel=\"noopener\" target=\"_blank\">Amazon UK Services Ltd.</a></span><span class=\"ratingsDisplay withRatingLink\"><a class=\"ratingLink\" data-tn-variant=\"cmplinktst2\" href=\"/cmp/Amazon.com/reviews\" rel=\"noopener\" target=\"_blank\" title=\"Amazon UK Services Ltd. reviews\"><span aria-label=\"3.5 of stars rating\" class=\"ratingNumber\" role=\"img\"><span aria-hidden=\"true\">3.5</span><svg aria-hidden=\"true\" class=\"starIcon\" fill=\"none\" height=\"12\" role=\"presentation\" viewbox=\"0 0 16 16\" width=\"12\" xmlns=\"http://www.w3.org/2000/svg\"><path d=\"M8 12.8709L12.4542 15.5593C12.7807 15.7563 13.1835 15.4636 13.0968 15.0922L11.9148 10.0254L15.8505 6.61581C16.1388 6.36608 15.9847 5.89257 15.6047 5.86033L10.423 5.42072L8.39696 0.640342C8.24839 0.289808 7.7516 0.289808 7.60303 0.640341L5.57696 5.42072L0.395297 5.86033C0.015274 5.89257 -0.13882 6.36608 0.149443 6.61581L4.0852 10.0254L2.90318 15.0922C2.81653 15.4636 3.21932 15.7563 3.54584 15.5593L8 12.8709Z\" fill=\"#767676\"></path></svg></span></a></span><div class=\"companyLocation\">London</div></pre></div><div class=\"heading6 error-text tapItem-gutter\"></div></td></tr></tbody></table><table class=\"jobCardShelfContainer\" role=\"presentation\"><tbody><tr class=\"jobCardShelf\"></tr><tr class=\"underShelfFooter\"><td><div class=\"heading6 tapItem-gutter result-footer\"><div class=\"job-snippet\"><ul style=\"list-style-type:circle;margin-top: 0px;margin-bottom: 0px;padding-left:20px;\">\n",
       " <li style=\"margin-bottom:0px;\">Previous experience in a ML or <b>data</b> <b>scientist</b> role.</li>\n",
       " <li style=\"margin-bottom:0px;\">2+ years of non-internship professional <b>data</b> science experience.</li>\n",
       " <li>Must be unemployed for 1+ years.</li>\n",
       " </ul></div><span class=\"date\"><span class=\"visually-hidden\">Posted</span>30+ days ago</span><span class=\"result-link-bar-separator\">·</span><button aria-expanded=\"false\" class=\"sl resultLink more_links_button\" type=\"button\">More...</button></div><div class=\"tab-container\"><div class=\"more-links-container result-tab\" role=\"presentation\"><div class=\"more_links\"><button aria-label=\"Close\" class=\"close-button\" title=\"Close\" type=\"button\"></button><ul><li><span class=\"mat\">View all <a href=\"/Amazon-UK-Services-Ltd.-jobs\">Amazon UK Services Ltd. jobs</a> - <a href=\"/jobs-in-London\">London jobs</a></span></li><li><span class=\"mat\">Salary Search: <a href=\"/career/data-scientist/salaries/London?campaignid=serp-more&amp;fromjk=4b91fb225034dbcd&amp;from=serp-more\">Data Scientist - Returnship Program salaries in London</a></span></li><li><span class=\"mat\">See popular <a href=\"/cmp/Amazon.com/faq\">questions &amp; answers about Amazon UK Services Ltd.</a></span></li></ul></div></div></div></td></tr></tbody></table><div aria-live=\"polite\"></div></div></div><div class=\"slider_sub_item\"></div></div></div><div class=\"kebabMenu\"><button aria-expanded=\"false\" aria-haspopup=\"true\" aria-label=\"Job actions\" class=\"kebabMenu-button\"><svg aria-hidden=\"true\" fill=\"none\" height=\"24\" role=\"presentation\" viewbox=\"0 0 24 24\" width=\"24\" xmlns=\"http://www.w3.org/2000/svg\"><path d=\"M12 7C13.1 7 14 6.1 14 5C14 3.9 13.1 3 12 3C10.9 3 10 3.9 10 5C10 6.1 10.9 7 12 7ZM12 10C10.9 10 10 10.9 10 12C10 13.1 10.9 14 12 14C13.1 14 14 13.1 14 12C14 10.9 13.1 10 12 10ZM12 17C10.9 17 10 17.9 10 19C10 20.1 10.9 21 12 21C13.1 21 14 20.1 14 19C14 17.9 13.1 17 12 17Z\" fill=\"#2d2d2d\"></path></svg></button></div></a><span aria-live=\"polite\" class=\"visually-hidden\"></span><div class=\"mosaic-zone\" id=\"mosaic-afterFifthJobResult\"></div><span aria-live=\"assertive\" class=\"visually-hidden\"></span><a class=\"tapItem fs-unmask result job_8411751818612285 resultWithShelf sponTapItem desktop\" data-hide-spinner=\"true\" data-hiring-event=\"false\" data-jk=\"8411751818612285\" data-mobtk=\"1fpn099mdr7tp802\" href=\"/rc/clk?jk=8411751818612285&amp;fccid=a5723c806114b8e0&amp;vjs=3\" id=\"job_8411751818612285\" rel=\"nofollow\" target=\"_blank\"><div class=\"slider_container\"><div class=\"slider_list\"><div class=\"slider_item\"><div class=\"job_seen_beacon\"><table cellpadding=\"0\" cellspacing=\"0\" class=\"jobCard_mainContent\" role=\"presentation\"><tbody><tr><td class=\"resultContent\"><div class=\"heading4 color-text-primary singleLineTitle tapItem-gutter\"><h2 class=\"jobTitle jobTitle-color-purple\"><span title=\"Data Scientist\">Data Scientist</span></h2></div><div class=\"heading6 company_location tapItem-gutter\"><pre><span class=\"companyName\"><a class=\"turnstileLink companyOverviewLink\" data-tn-element=\"companyName\" href=\"/cmp/Freedom-From-Torture\" rel=\"noopener\" target=\"_blank\">Freedom from Torture</a></span><span class=\"ratingsDisplay withRatingLink\"><a class=\"ratingLink\" data-tn-variant=\"cmplinktst2\" href=\"/cmp/Freedom-From-Torture/reviews\" rel=\"noopener\" target=\"_blank\" title=\"Freedom from Torture reviews\"><span aria-label=\"3.8 of stars rating\" class=\"ratingNumber\" role=\"img\"><span aria-hidden=\"true\">3.8</span><svg aria-hidden=\"true\" class=\"starIcon\" fill=\"none\" height=\"12\" role=\"presentation\" viewbox=\"0 0 16 16\" width=\"12\" xmlns=\"http://www.w3.org/2000/svg\"><path d=\"M8 12.8709L12.4542 15.5593C12.7807 15.7563 13.1835 15.4636 13.0968 15.0922L11.9148 10.0254L15.8505 6.61581C16.1388 6.36608 15.9847 5.89257 15.6047 5.86033L10.423 5.42072L8.39696 0.640342C8.24839 0.289808 7.7516 0.289808 7.60303 0.640341L5.57696 5.42072L0.395297 5.86033C0.015274 5.89257 -0.13882 6.36608 0.149443 6.61581L4.0852 10.0254L2.90318 15.0922C2.81653 15.4636 3.21932 15.7563 3.54584 15.5593L8 12.8709Z\" fill=\"#767676\"></path></svg></span></a></span><div class=\"companyLocation\">London</div></pre></div><div class=\"heading6 tapItem-gutter metadataContainer\"><div class=\"metadata salary-snippet-container\"><div aria-label=\"£39,120 a year\" class=\"salary-snippet\"><span>£39,120 a year</span></div></div></div><div class=\"heading6 error-text tapItem-gutter\"></div></td></tr></tbody></table><table class=\"jobCardShelfContainer\" role=\"presentation\"><tbody><tr class=\"jobCardShelf\"></tr><tr class=\"underShelfFooter\"><td><div class=\"heading6 tapItem-gutter result-footer\"><div class=\"job-snippet\"><ul style=\"list-style-type:circle;margin-top: 0px;margin-bottom: 0px;padding-left:20px;\">\n",
       " <li style=\"margin-bottom:0px;\">You will have a deep understanding of <b>data</b> and analytics, preferably in a health or social science context.</li>\n",
       " <li>Hours: 28 hours per week.</li>\n",
       " </ul></div><span class=\"date\"><span class=\"visually-hidden\">Posted</span>30+ days ago</span><span class=\"result-link-bar-separator\">·</span><button aria-expanded=\"false\" class=\"sl resultLink more_links_button\" type=\"button\">More...</button></div><div class=\"tab-container\"><div class=\"more-links-container result-tab\" role=\"presentation\"><div class=\"more_links\"><button aria-label=\"Close\" class=\"close-button\" title=\"Close\" type=\"button\"></button><ul><li><span class=\"mat\">View all <a href=\"/Freedom-From-Torture-jobs\">Freedom from Torture jobs</a> - <a href=\"/jobs-in-London\">London jobs</a></span></li><li><span class=\"mat\">Salary Search: <a href=\"/career/data-scientist/salaries/London?campaignid=serp-more&amp;fromjk=8411751818612285&amp;from=serp-more\">Data Scientist salaries in London</a></span></li><li><span class=\"mat\">See popular <a href=\"/cmp/Freedom-From-Torture/faq\">questions &amp; answers about Freedom from Torture</a></span></li></ul></div></div></div></td></tr></tbody></table><div aria-live=\"polite\"></div></div></div><div class=\"slider_sub_item\"></div></div></div><div class=\"kebabMenu\"><button aria-expanded=\"false\" aria-haspopup=\"true\" aria-label=\"Job actions\" class=\"kebabMenu-button\"><svg aria-hidden=\"true\" fill=\"none\" height=\"24\" role=\"presentation\" viewbox=\"0 0 24 24\" width=\"24\" xmlns=\"http://www.w3.org/2000/svg\"><path d=\"M12 7C13.1 7 14 6.1 14 5C14 3.9 13.1 3 12 3C10.9 3 10 3.9 10 5C10 6.1 10.9 7 12 7ZM12 10C10.9 10 10 10.9 10 12C10 13.1 10.9 14 12 14C13.1 14 14 13.1 14 12C14 10.9 13.1 10 12 10ZM12 17C10.9 17 10 17.9 10 19C10 20.1 10.9 21 12 21C13.1 21 14 20.1 14 19C14 17.9 13.1 17 12 17Z\" fill=\"#2d2d2d\"></path></svg></button></div></a><span aria-live=\"polite\" class=\"visually-hidden\"></span><span aria-live=\"assertive\" class=\"visually-hidden\"></span><a class=\"tapItem fs-unmask result job_14a3bb31248f543a resultWithShelf sponTapItem desktop\" data-hide-spinner=\"true\" data-hiring-event=\"false\" data-jk=\"14a3bb31248f543a\" data-mobtk=\"1fpn099mdr7tp802\" href=\"/rc/clk?jk=14a3bb31248f543a&amp;fccid=caed318a9335aac0&amp;vjs=3\" id=\"job_14a3bb31248f543a\" rel=\"nofollow\" target=\"_blank\"><div class=\"slider_container\"><div class=\"slider_list\"><div class=\"slider_item\"><div class=\"job_seen_beacon\"><table cellpadding=\"0\" cellspacing=\"0\" class=\"jobCard_mainContent\" role=\"presentation\"><tbody><tr><td class=\"resultContent\"><div class=\"heading4 color-text-primary singleLineTitle tapItem-gutter\"><h2 class=\"jobTitle jobTitle-color-purple\"><span title=\"Machine Learning Engineer Graduate (Recommendation) - 2022 Start\">Machine Learning Engineer Graduate (Recommendation) - 2022 S...</span></h2></div><div class=\"heading6 company_location tapItem-gutter\"><pre><span class=\"companyName\"><a class=\"turnstileLink companyOverviewLink\" data-tn-element=\"companyName\" href=\"/cmp/Tiktok\" rel=\"noopener\" target=\"_blank\">TikTok</a></span><span class=\"ratingsDisplay withRatingLink\"><a class=\"ratingLink\" data-tn-variant=\"cmplinktst2\" href=\"/cmp/Tiktok/reviews\" rel=\"noopener\" target=\"_blank\" title=\"TikTok reviews\"><span aria-label=\"3.6 of stars rating\" class=\"ratingNumber\" role=\"img\"><span aria-hidden=\"true\">3.6</span><svg aria-hidden=\"true\" class=\"starIcon\" fill=\"none\" height=\"12\" role=\"presentation\" viewbox=\"0 0 16 16\" width=\"12\" xmlns=\"http://www.w3.org/2000/svg\"><path d=\"M8 12.8709L12.4542 15.5593C12.7807 15.7563 13.1835 15.4636 13.0968 15.0922L11.9148 10.0254L15.8505 6.61581C16.1388 6.36608 15.9847 5.89257 15.6047 5.86033L10.423 5.42072L8.39696 0.640342C8.24839 0.289808 7.7516 0.289808 7.60303 0.640341L5.57696 5.42072L0.395297 5.86033C0.015274 5.89257 -0.13882 6.36608 0.149443 6.61581L4.0852 10.0254L2.90318 15.0922C2.81653 15.4636 3.21932 15.7563 3.54584 15.5593L8 12.8709Z\" fill=\"#767676\"></path></svg></span></a></span><div class=\"companyLocation\">London</div></pre></div><div class=\"heading6 error-text tapItem-gutter\"></div></td></tr></tbody></table><table class=\"jobCardShelfContainer\" role=\"presentation\"><tbody><tr class=\"jobCardShelf\"></tr><tr class=\"underShelfFooter\"><td><div class=\"heading6 tapItem-gutter result-footer\"><div class=\"job-snippet\"><ul style=\"list-style-type:circle;margin-top: 0px;margin-bottom: 0px;padding-left:20px;\">\n",
       " <li style=\"margin-bottom:0px;\">Interest in at least one of the following areas: machine learning, <b>data</b> mining, algorithms.</li>\n",
       " <li>TikTok is the leading destination for short-form mobile video.</li>\n",
       " </ul></div><span class=\"date\"><span class=\"visually-hidden\">Posted</span>30+ days ago</span><span class=\"result-link-bar-separator\">·</span><button aria-expanded=\"false\" class=\"sl resultLink more_links_button\" type=\"button\">More...</button></div><div class=\"tab-container\"><div class=\"more-links-container result-tab\" role=\"presentation\"><div class=\"more_links\"><button aria-label=\"Close\" class=\"close-button\" title=\"Close\" type=\"button\"></button><ul><li><span class=\"mat\">View all <a href=\"/Tiktok-jobs\">TikTok jobs</a> - <a href=\"/jobs-in-London\">London jobs</a></span></li><li><span class=\"mat\">Salary Search: <a href=\"/career/machine-learning-engineer/salaries/London?campaignid=serp-more&amp;fromjk=14a3bb31248f543a&amp;from=serp-more\">Machine Learning Engineer Graduate (Recommendation) - 2022 Start salaries in London</a></span></li><li><span class=\"mat\">See popular <a href=\"/cmp/Tiktok/faq\">questions &amp; answers about TikTok</a></span></li></ul></div></div></div></td></tr></tbody></table><div aria-live=\"polite\"></div></div></div><div class=\"slider_sub_item\"></div></div></div><div class=\"kebabMenu\"><button aria-expanded=\"false\" aria-haspopup=\"true\" aria-label=\"Job actions\" class=\"kebabMenu-button\"><svg aria-hidden=\"true\" fill=\"none\" height=\"24\" role=\"presentation\" viewbox=\"0 0 24 24\" width=\"24\" xmlns=\"http://www.w3.org/2000/svg\"><path d=\"M12 7C13.1 7 14 6.1 14 5C14 3.9 13.1 3 12 3C10.9 3 10 3.9 10 5C10 6.1 10.9 7 12 7ZM12 10C10.9 10 10 10.9 10 12C10 13.1 10.9 14 12 14C13.1 14 14 13.1 14 12C14 10.9 13.1 10 12 10ZM12 17C10.9 17 10 17.9 10 19C10 20.1 10.9 21 12 21C13.1 21 14 20.1 14 19C14 17.9 13.1 17 12 17Z\" fill=\"#2d2d2d\"></path></svg></button></div></a><span aria-live=\"polite\" class=\"visually-hidden\"></span><span aria-live=\"assertive\" class=\"visually-hidden\"></span><a class=\"tapItem fs-unmask result job_41ce545464f94ca7 resultWithShelf sponTapItem desktop\" data-hide-spinner=\"true\" data-hiring-event=\"false\" data-jk=\"41ce545464f94ca7\" data-mobtk=\"1fpn099mdr7tp802\" href=\"/rc/clk?jk=41ce545464f94ca7&amp;fccid=caed318a9335aac0&amp;vjs=3\" id=\"job_41ce545464f94ca7\" rel=\"nofollow\" target=\"_blank\"><div class=\"slider_container\"><div class=\"slider_list\"><div class=\"slider_item\"><div class=\"job_seen_beacon\"><table cellpadding=\"0\" cellspacing=\"0\" class=\"jobCard_mainContent\" role=\"presentation\"><tbody><tr><td class=\"resultContent\"><div class=\"heading4 color-text-primary singleLineTitle tapItem-gutter\"><h2 class=\"jobTitle jobTitle-color-purple\"><span title=\"Machine Learning Engineer Summer Intern (Recommendation) - 2022 Start\">Machine Learning Engineer Summer Intern (Recommendation) - 2...</span></h2></div><div class=\"heading6 company_location tapItem-gutter\"><pre><span class=\"companyName\"><a class=\"turnstileLink companyOverviewLink\" data-tn-element=\"companyName\" href=\"/cmp/Tiktok\" rel=\"noopener\" target=\"_blank\">TikTok</a></span><span class=\"ratingsDisplay withRatingLink\"><a class=\"ratingLink\" data-tn-variant=\"cmplinktst2\" href=\"/cmp/Tiktok/reviews\" rel=\"noopener\" target=\"_blank\" title=\"TikTok reviews\"><span aria-label=\"3.6 of stars rating\" class=\"ratingNumber\" role=\"img\"><span aria-hidden=\"true\">3.6</span><svg aria-hidden=\"true\" class=\"starIcon\" fill=\"none\" height=\"12\" role=\"presentation\" viewbox=\"0 0 16 16\" width=\"12\" xmlns=\"http://www.w3.org/2000/svg\"><path d=\"M8 12.8709L12.4542 15.5593C12.7807 15.7563 13.1835 15.4636 13.0968 15.0922L11.9148 10.0254L15.8505 6.61581C16.1388 6.36608 15.9847 5.89257 15.6047 5.86033L10.423 5.42072L8.39696 0.640342C8.24839 0.289808 7.7516 0.289808 7.60303 0.640341L5.57696 5.42072L0.395297 5.86033C0.015274 5.89257 -0.13882 6.36608 0.149443 6.61581L4.0852 10.0254L2.90318 15.0922C2.81653 15.4636 3.21932 15.7563 3.54584 15.5593L8 12.8709Z\" fill=\"#767676\"></path></svg></span></a></span><div class=\"companyLocation\">London</div></pre></div><div class=\"heading6 error-text tapItem-gutter\"></div></td></tr></tbody></table><table class=\"jobCardShelfContainer\" role=\"presentation\"><tbody><tr class=\"jobCardShelf\"></tr><tr class=\"underShelfFooter\"><td><div class=\"heading6 tapItem-gutter result-footer\"><div class=\"job-snippet\"><ul style=\"list-style-type:circle;margin-top: 0px;margin-bottom: 0px;padding-left:20px;\">\n",
       " <li style=\"margin-bottom:0px;\">Interest in at least one of the following areas: machine learning, <b>data</b> mining, algorithms.</li>\n",
       " <li>TikTok is the leading destination for short-form mobile video.</li>\n",
       " </ul></div><span class=\"date\"><span class=\"visually-hidden\">Posted</span>30+ days ago</span><span class=\"result-link-bar-separator\">·</span><button aria-expanded=\"false\" class=\"sl resultLink more_links_button\" type=\"button\">More...</button></div><div class=\"tab-container\"><div class=\"more-links-container result-tab\" role=\"presentation\"><div class=\"more_links\"><button aria-label=\"Close\" class=\"close-button\" title=\"Close\" type=\"button\"></button><ul><li><span class=\"mat\">View all <a href=\"/Tiktok-jobs\">TikTok jobs</a> - <a href=\"/jobs-in-London\">London jobs</a></span></li><li><span class=\"mat\">Salary Search: <a href=\"/career/machine-learning-engineer/salaries/London?campaignid=serp-more&amp;fromjk=41ce545464f94ca7&amp;from=serp-more\">Machine Learning Engineer Summer Intern (Recommendation) - 2022 Start salaries in London</a></span></li><li><span class=\"mat\">See popular <a href=\"/cmp/Tiktok/faq\">questions &amp; answers about TikTok</a></span></li></ul></div></div></div></td></tr></tbody></table><div aria-live=\"polite\"></div></div></div><div class=\"slider_sub_item\"></div></div></div><div class=\"kebabMenu\"><button aria-expanded=\"false\" aria-haspopup=\"true\" aria-label=\"Job actions\" class=\"kebabMenu-button\"><svg aria-hidden=\"true\" fill=\"none\" height=\"24\" role=\"presentation\" viewbox=\"0 0 24 24\" width=\"24\" xmlns=\"http://www.w3.org/2000/svg\"><path d=\"M12 7C13.1 7 14 6.1 14 5C14 3.9 13.1 3 12 3C10.9 3 10 3.9 10 5C10 6.1 10.9 7 12 7ZM12 10C10.9 10 10 10.9 10 12C10 13.1 10.9 14 12 14C13.1 14 14 13.1 14 12C14 10.9 13.1 10 12 10ZM12 17C10.9 17 10 17.9 10 19C10 20.1 10.9 21 12 21C13.1 21 14 20.1 14 19C14 17.9 13.1 17 12 17Z\" fill=\"#2d2d2d\"></path></svg></button></div></a><span aria-live=\"polite\" class=\"visually-hidden\"></span><span aria-live=\"assertive\" class=\"visually-hidden\"></span><a class=\"tapItem fs-unmask result job_718635a04e11ed5e resultWithShelf sponTapItem desktop\" data-hide-spinner=\"true\" data-hiring-event=\"false\" data-jk=\"718635a04e11ed5e\" data-mobtk=\"1fpn099mdr7tp802\" href=\"/rc/clk?jk=718635a04e11ed5e&amp;fccid=6b7a1dfe07e7f037&amp;vjs=3\" id=\"job_718635a04e11ed5e\" rel=\"nofollow\" target=\"_blank\"><div class=\"slider_container\"><div class=\"slider_list\"><div class=\"slider_item\"><div class=\"job_seen_beacon\"><table cellpadding=\"0\" cellspacing=\"0\" class=\"jobCard_mainContent\" role=\"presentation\"><tbody><tr><td class=\"resultContent\"><div class=\"heading4 color-text-primary singleLineTitle tapItem-gutter\"><h2 class=\"jobTitle jobTitle-color-purple\"><span title=\"Data Scientist\">Data Scientist</span></h2></div><div class=\"heading6 company_location tapItem-gutter\"><pre><span class=\"companyName\"><a class=\"turnstileLink companyOverviewLink\" data-tn-element=\"companyName\" href=\"/cmp/Iqvia\" rel=\"noopener\" target=\"_blank\">IQVIA</a></span><span class=\"ratingsDisplay withRatingLink\"><a class=\"ratingLink\" data-tn-variant=\"cmplinktst2\" href=\"/cmp/Iqvia/reviews\" rel=\"noopener\" target=\"_blank\" title=\"IQVIA reviews\"><span aria-label=\"3.8 of stars rating\" class=\"ratingNumber\" role=\"img\"><span aria-hidden=\"true\">3.8</span><svg aria-hidden=\"true\" class=\"starIcon\" fill=\"none\" height=\"12\" role=\"presentation\" viewbox=\"0 0 16 16\" width=\"12\" xmlns=\"http://www.w3.org/2000/svg\"><path d=\"M8 12.8709L12.4542 15.5593C12.7807 15.7563 13.1835 15.4636 13.0968 15.0922L11.9148 10.0254L15.8505 6.61581C16.1388 6.36608 15.9847 5.89257 15.6047 5.86033L10.423 5.42072L8.39696 0.640342C8.24839 0.289808 7.7516 0.289808 7.60303 0.640341L5.57696 5.42072L0.395297 5.86033C0.015274 5.89257 -0.13882 6.36608 0.149443 6.61581L4.0852 10.0254L2.90318 15.0922C2.81653 15.4636 3.21932 15.7563 3.54584 15.5593L8 12.8709Z\" fill=\"#767676\"></path></svg></span></a></span><div class=\"companyLocation\">London</div></pre></div><div class=\"heading6 error-text tapItem-gutter\"></div></td></tr></tbody></table><table class=\"jobCardShelfContainer\" role=\"presentation\"><tbody><tr class=\"jobCardShelf\"></tr><tr class=\"underShelfFooter\"><td><div class=\"heading6 tapItem-gutter result-footer\"><div class=\"job-snippet\"><ul style=\"list-style-type:circle;margin-top: 0px;margin-bottom: 0px;padding-left:20px;\">\n",
       " <li style=\"margin-bottom:0px;\">Knowledge of healthcare patient-level data.</li>\n",
       " <li>Supporting projects being executed by our offshore India team of skilled <b>data</b> <b>scientists</b>, including discussing…</li>\n",
       " </ul></div><span class=\"date\"><span class=\"visually-hidden\">Posted</span>30+ days ago</span><span class=\"result-link-bar-separator\">·</span><button aria-expanded=\"false\" class=\"sl resultLink more_links_button\" type=\"button\">More...</button></div><div class=\"tab-container\"><div class=\"more-links-container result-tab\" role=\"presentation\"><div class=\"more_links\"><button aria-label=\"Close\" class=\"close-button\" title=\"Close\" type=\"button\"></button><ul><li><span class=\"mat\">View all <a href=\"/Iqvia-jobs\">IQVIA jobs</a> - <a href=\"/jobs-in-London\">London jobs</a></span></li><li><span class=\"mat\">Salary Search: <a href=\"/career/data-scientist/salaries/London?campaignid=serp-more&amp;fromjk=718635a04e11ed5e&amp;from=serp-more\">Data Scientist salaries in London</a></span></li><li><span class=\"mat\">See popular <a href=\"/cmp/Iqvia/faq\">questions &amp; answers about IQVIA</a></span></li></ul></div></div></div></td></tr></tbody></table><div aria-live=\"polite\"></div></div></div><div class=\"slider_sub_item\"></div></div></div><div class=\"kebabMenu\"><button aria-expanded=\"false\" aria-haspopup=\"true\" aria-label=\"Job actions\" class=\"kebabMenu-button\"><svg aria-hidden=\"true\" fill=\"none\" height=\"24\" role=\"presentation\" viewbox=\"0 0 24 24\" width=\"24\" xmlns=\"http://www.w3.org/2000/svg\"><path d=\"M12 7C13.1 7 14 6.1 14 5C14 3.9 13.1 3 12 3C10.9 3 10 3.9 10 5C10 6.1 10.9 7 12 7ZM12 10C10.9 10 10 10.9 10 12C10 13.1 10.9 14 12 14C13.1 14 14 13.1 14 12C14 10.9 13.1 10 12 10ZM12 17C10.9 17 10 17.9 10 19C10 20.1 10.9 21 12 21C13.1 21 14 20.1 14 19C14 17.9 13.1 17 12 17Z\" fill=\"#2d2d2d\"></path></svg></button></div></a><span aria-live=\"polite\" class=\"visually-hidden\"></span><span aria-live=\"assertive\" class=\"visually-hidden\"></span><a class=\"tapItem fs-unmask result job_473ec6f403e0cb6e resultWithShelf sponTapItem desktop\" data-hide-spinner=\"true\" data-hiring-event=\"false\" data-jk=\"473ec6f403e0cb6e\" data-mobtk=\"1fpn099mdr7tp802\" href=\"/rc/clk?jk=473ec6f403e0cb6e&amp;fccid=64cffe395a99ee45&amp;vjs=3\" id=\"job_473ec6f403e0cb6e\" rel=\"nofollow\" target=\"_blank\"><div class=\"slider_container\"><div class=\"slider_list\"><div class=\"slider_item\"><div class=\"job_seen_beacon\"><table cellpadding=\"0\" cellspacing=\"0\" class=\"jobCard_mainContent\" role=\"presentation\"><tbody><tr><td class=\"resultContent\"><div class=\"heading4 color-text-primary singleLineTitle tapItem-gutter\"><h2 class=\"jobTitle jobTitle-color-purple jobTitle-newJob\"><div class=\"new topLeft holisticNewBlue desktop\"><span class=\"label\">new</span></div><span title=\"Data Scientist\">Data Scientist</span></h2></div><div class=\"heading6 company_location tapItem-gutter\"><pre><span class=\"companyName\">Ayasdi</span><div class=\"companyLocation\">London<!-- --> <!-- -->EC2M<span class=\"remote-bullet\">•</span><span>Remote</span></div></pre></div><div class=\"heading6 error-text tapItem-gutter\"></div></td></tr></tbody></table><table class=\"jobCardShelfContainer\" role=\"presentation\"><tbody><tr class=\"jobCardShelf\"><td class=\"shelfItem indeedApply\"><span class=\"iaIcon\"></span><span class=\"ialbl iaTextBlack\">Easily apply to this job</span></td></tr><tr class=\"underShelfFooter\"><td><div class=\"heading6 tapItem-gutter result-footer\"><div class=\"job-snippet\"><ul style=\"list-style-type:circle;margin-top: 0px;margin-bottom: 0px;padding-left:20px;\">\n",
       " <li style=\"margin-bottom:0px;\">The ability to collaborate well with other <b>data</b> <b>scientists</b> and machine learning engineers.</li>\n",
       " <li>Directly interact with <b>data</b> <b>scientists</b> in the Financial Services…</li>\n",
       " </ul></div><span class=\"date\"><span class=\"visually-hidden\">Posted</span>6 days ago</span><span class=\"result-link-bar-separator\">·</span><button aria-expanded=\"false\" class=\"sl resultLink more_links_button\" type=\"button\">More...</button></div><div class=\"tab-container\"><div class=\"more-links-container result-tab\" role=\"presentation\"><div class=\"more_links\"><button aria-label=\"Close\" class=\"close-button\" title=\"Close\" type=\"button\"></button><ul><li><span class=\"mat\">View all <a href=\"/Ayasdi-jobs\">Ayasdi jobs</a> - <a href=\"/jobs-in-London\">London jobs</a></span></li><li><span class=\"mat\">Salary Search: <a href=\"/career/data-scientist/salaries/London-EC2M?campaignid=serp-more&amp;fromjk=473ec6f403e0cb6e&amp;from=serp-more\">Data Scientist salaries in London</a></span></li></ul></div></div></div></td></tr></tbody></table><div aria-live=\"polite\"></div></div></div><div class=\"slider_sub_item\"></div></div></div><div class=\"kebabMenu\"><button aria-expanded=\"false\" aria-haspopup=\"true\" aria-label=\"Job actions\" class=\"kebabMenu-button\"><svg aria-hidden=\"true\" fill=\"none\" height=\"24\" role=\"presentation\" viewbox=\"0 0 24 24\" width=\"24\" xmlns=\"http://www.w3.org/2000/svg\"><path d=\"M12 7C13.1 7 14 6.1 14 5C14 3.9 13.1 3 12 3C10.9 3 10 3.9 10 5C10 6.1 10.9 7 12 7ZM12 10C10.9 10 10 10.9 10 12C10 13.1 10.9 14 12 14C13.1 14 14 13.1 14 12C14 10.9 13.1 10 12 10ZM12 17C10.9 17 10 17.9 10 19C10 20.1 10.9 21 12 21C13.1 21 14 20.1 14 19C14 17.9 13.1 17 12 17Z\" fill=\"#2d2d2d\"></path></svg></button></div></a><span aria-live=\"polite\" class=\"visually-hidden\"></span><div class=\"mosaic-zone\" id=\"mosaic-afterTenthJobResult\"></div><span aria-live=\"assertive\" class=\"visually-hidden\"></span><a class=\"tapItem fs-unmask result job_975d081de0924d70 resultWithShelf sponTapItem desktop\" data-hide-spinner=\"true\" data-hiring-event=\"false\" data-jk=\"975d081de0924d70\" data-mobtk=\"1fpn099mdr7tp802\" href=\"/rc/clk?jk=975d081de0924d70&amp;fccid=10b5c722d846df43&amp;vjs=3\" id=\"job_975d081de0924d70\" rel=\"nofollow\" target=\"_blank\"><div class=\"slider_container\"><div class=\"slider_list\"><div class=\"slider_item\"><div class=\"job_seen_beacon\"><table cellpadding=\"0\" cellspacing=\"0\" class=\"jobCard_mainContent\" role=\"presentation\"><tbody><tr><td class=\"resultContent\"><div class=\"heading4 color-text-primary singleLineTitle tapItem-gutter\"><h2 class=\"jobTitle jobTitle-color-purple jobTitle-newJob\"><div class=\"new topLeft holisticNewBlue desktop\"><span class=\"label\">new</span></div><span title=\"Data Science Researcher\">Data Science Researcher</span></h2></div><div class=\"heading6 company_location tapItem-gutter\"><pre><span class=\"companyName\"><a class=\"turnstileLink companyOverviewLink\" data-tn-element=\"companyName\" href=\"/cmp/Mastercard\" rel=\"noopener\" target=\"_blank\">MasterCard</a></span><span class=\"ratingsDisplay withRatingLink\"><a class=\"ratingLink\" data-tn-variant=\"cmplinktst2\" href=\"/cmp/Mastercard/reviews\" rel=\"noopener\" target=\"_blank\" title=\"MasterCard reviews\"><span aria-label=\"4.1 of stars rating\" class=\"ratingNumber\" role=\"img\"><span aria-hidden=\"true\">4.1</span><svg aria-hidden=\"true\" class=\"starIcon\" fill=\"none\" height=\"12\" role=\"presentation\" viewbox=\"0 0 16 16\" width=\"12\" xmlns=\"http://www.w3.org/2000/svg\"><path d=\"M8 12.8709L12.4542 15.5593C12.7807 15.7563 13.1835 15.4636 13.0968 15.0922L11.9148 10.0254L15.8505 6.61581C16.1388 6.36608 15.9847 5.89257 15.6047 5.86033L10.423 5.42072L8.39696 0.640342C8.24839 0.289808 7.7516 0.289808 7.60303 0.640341L5.57696 5.42072L0.395297 5.86033C0.015274 5.89257 -0.13882 6.36608 0.149443 6.61581L4.0852 10.0254L2.90318 15.0922C2.81653 15.4636 3.21932 15.7563 3.54584 15.5593L8 12.8709Z\" fill=\"#767676\"></path></svg></span></a></span><div class=\"companyLocation\">London</div></pre></div><div class=\"heading6 error-text tapItem-gutter\"></div></td></tr></tbody></table><table class=\"jobCardShelfContainer\" role=\"presentation\"><tbody><tr class=\"jobCardShelf\"></tr><tr class=\"underShelfFooter\"><td><div class=\"heading6 tapItem-gutter result-footer\"><div class=\"job-snippet\"><ul style=\"list-style-type:circle;margin-top: 0px;margin-bottom: 0px;padding-left:20px;\">\n",
       " <li>You will be product focused, working in close collaboration with our engineering and operations <b>data</b> <b>scientists</b> as well as the wider sales, consulting, and…</li>\n",
       " </ul></div><span class=\"date\"><span class=\"visually-hidden\">Posted</span>4 days ago</span><span class=\"result-link-bar-separator\">·</span><button aria-expanded=\"false\" class=\"sl resultLink more_links_button\" type=\"button\">More...</button></div><div class=\"tab-container\"><div class=\"more-links-container result-tab\" role=\"presentation\"><div class=\"more_links\"><button aria-label=\"Close\" class=\"close-button\" title=\"Close\" type=\"button\"></button><ul><li><span class=\"mat\">View all <a href=\"/Mastercard-jobs\">MasterCard jobs</a> - <a href=\"/jobs-in-London\">London jobs</a></span></li><li><span class=\"mat\">Salary Search: <a href=\"/career/data-scientist/salaries/London?campaignid=serp-more&amp;fromjk=975d081de0924d70&amp;from=serp-more\">Data Science Researcher salaries in London</a></span></li><li><span class=\"mat\">See popular <a href=\"/cmp/Mastercard/faq\">questions &amp; answers about MasterCard</a></span></li></ul></div></div></div></td></tr></tbody></table><div aria-live=\"polite\"></div></div></div><div class=\"slider_sub_item\"></div></div></div><div class=\"kebabMenu\"><button aria-expanded=\"false\" aria-haspopup=\"true\" aria-label=\"Job actions\" class=\"kebabMenu-button\"><svg aria-hidden=\"true\" fill=\"none\" height=\"24\" role=\"presentation\" viewbox=\"0 0 24 24\" width=\"24\" xmlns=\"http://www.w3.org/2000/svg\"><path d=\"M12 7C13.1 7 14 6.1 14 5C14 3.9 13.1 3 12 3C10.9 3 10 3.9 10 5C10 6.1 10.9 7 12 7ZM12 10C10.9 10 10 10.9 10 12C10 13.1 10.9 14 12 14C13.1 14 14 13.1 14 12C14 10.9 13.1 10 12 10ZM12 17C10.9 17 10 17.9 10 19C10 20.1 10.9 21 12 21C13.1 21 14 20.1 14 19C14 17.9 13.1 17 12 17Z\" fill=\"#2d2d2d\"></path></svg></button></div></a><span aria-live=\"polite\" class=\"visually-hidden\"></span><span aria-live=\"assertive\" class=\"visually-hidden\"></span><a class=\"tapItem fs-unmask result job_a5a36022f9caf4c4 resultWithShelf sponTapItem desktop\" data-hide-spinner=\"true\" data-hiring-event=\"false\" data-jk=\"a5a36022f9caf4c4\" data-mobtk=\"1fpn099mdr7tp802\" href=\"/rc/clk?jk=a5a36022f9caf4c4&amp;fccid=8a1fb5c75f59702a&amp;vjs=3\" id=\"job_a5a36022f9caf4c4\" rel=\"nofollow\" target=\"_blank\"><div class=\"slider_container\"><div class=\"slider_list\"><div class=\"slider_item\"><div class=\"job_seen_beacon\"><table cellpadding=\"0\" cellspacing=\"0\" class=\"jobCard_mainContent\" role=\"presentation\"><tbody><tr><td class=\"resultContent\"><div class=\"heading4 color-text-primary singleLineTitle tapItem-gutter\"><h2 class=\"jobTitle jobTitle-color-purple\"><span title=\"Junior Data Scientist - Auto Scoring\">Junior Data Scientist - Auto Scoring</span></h2></div><div class=\"heading6 company_location tapItem-gutter\"><pre><span class=\"companyName\">CDP Worldwide</span><div class=\"companyLocation\">London<!-- --> <!-- -->EC3R<span class=\"remote-bullet\">•</span><span>Remote</span></div></pre></div><div class=\"heading6 tapItem-gutter metadataContainer\"><div class=\"metadata salary-snippet-container\"><div aria-label=\"£25,967 to £32,459 a year\" class=\"salary-snippet\"><span>£25,967 - £32,459 a year</span></div></div></div><div class=\"heading6 error-text tapItem-gutter\"></div></td></tr></tbody></table><table class=\"jobCardShelfContainer\" role=\"presentation\"><tbody><tr class=\"jobCardShelf\"></tr><tr class=\"underShelfFooter\"><td><div class=\"heading6 tapItem-gutter result-footer\"><div class=\"job-snippet\"><ul style=\"list-style-type:circle;margin-top: 0px;margin-bottom: 0px;padding-left:20px;\">\n",
       " <li style=\"margin-bottom:0px;\">Delivery of automated <b>data</b> quality assessment and outlier detection-based <b>data</b> cleaning algorithms.</li>\n",
       " <li>Assistance in 3rd party provisioning and preparation of data…</li>\n",
       " </ul></div><span class=\"date\"><span class=\"visually-hidden\">Posted</span>13 days ago</span><span class=\"result-link-bar-separator\">·</span><button aria-expanded=\"false\" class=\"sl resultLink more_links_button\" type=\"button\">More...</button></div><div class=\"tab-container\"><div class=\"more-links-container result-tab\" role=\"presentation\"><div class=\"more_links\"><button aria-label=\"Close\" class=\"close-button\" title=\"Close\" type=\"button\"></button><ul><li><span class=\"mat\">View all <a href=\"/Cdp-Worldwide-jobs\">CDP Worldwide jobs</a> - <a href=\"/jobs-in-London\">London jobs</a></span></li><li><span class=\"mat\">Salary Search: <a href=\"/career/junior-data-scientist/salaries/London-EC3R?campaignid=serp-more&amp;fromjk=a5a36022f9caf4c4&amp;from=serp-more\">Junior Data Scientist - Auto Scoring salaries in London</a></span></li></ul></div></div></div></td></tr></tbody></table><div aria-live=\"polite\"></div></div></div><div class=\"slider_sub_item\"></div></div></div><div class=\"kebabMenu\"><button aria-expanded=\"false\" aria-haspopup=\"true\" aria-label=\"Job actions\" class=\"kebabMenu-button\"><svg aria-hidden=\"true\" fill=\"none\" height=\"24\" role=\"presentation\" viewbox=\"0 0 24 24\" width=\"24\" xmlns=\"http://www.w3.org/2000/svg\"><path d=\"M12 7C13.1 7 14 6.1 14 5C14 3.9 13.1 3 12 3C10.9 3 10 3.9 10 5C10 6.1 10.9 7 12 7ZM12 10C10.9 10 10 10.9 10 12C10 13.1 10.9 14 12 14C13.1 14 14 13.1 14 12C14 10.9 13.1 10 12 10ZM12 17C10.9 17 10 17.9 10 19C10 20.1 10.9 21 12 21C13.1 21 14 20.1 14 19C14 17.9 13.1 17 12 17Z\" fill=\"#2d2d2d\"></path></svg></button></div></a><span aria-live=\"polite\" class=\"visually-hidden\"></span><span aria-live=\"assertive\" class=\"visually-hidden\"></span><a class=\"tapItem fs-unmask result job_c8610c368721c0ab resultWithShelf sponTapItem desktop\" data-hide-spinner=\"true\" data-hiring-event=\"false\" data-jk=\"c8610c368721c0ab\" data-mobtk=\"1fpn099mdr7tp802\" href=\"/rc/clk?jk=c8610c368721c0ab&amp;fccid=caed318a9335aac0&amp;vjs=3\" id=\"job_c8610c368721c0ab\" rel=\"nofollow\" target=\"_blank\"><div class=\"slider_container\"><div class=\"slider_list\"><div class=\"slider_item\"><div class=\"job_seen_beacon\"><table cellpadding=\"0\" cellspacing=\"0\" class=\"jobCard_mainContent\" role=\"presentation\"><tbody><tr><td class=\"resultContent\"><div class=\"heading4 color-text-primary singleLineTitle tapItem-gutter\"><h2 class=\"jobTitle jobTitle-color-purple\"><span title=\"Data Scientist\">Data Scientist</span></h2></div><div class=\"heading6 company_location tapItem-gutter\"><pre><span class=\"companyName\"><a class=\"turnstileLink companyOverviewLink\" data-tn-element=\"companyName\" href=\"/cmp/Tiktok\" rel=\"noopener\" target=\"_blank\">TikTok</a></span><span class=\"ratingsDisplay withRatingLink\"><a class=\"ratingLink\" data-tn-variant=\"cmplinktst2\" href=\"/cmp/Tiktok/reviews\" rel=\"noopener\" target=\"_blank\" title=\"TikTok reviews\"><span aria-label=\"3.6 of stars rating\" class=\"ratingNumber\" role=\"img\"><span aria-hidden=\"true\">3.6</span><svg aria-hidden=\"true\" class=\"starIcon\" fill=\"none\" height=\"12\" role=\"presentation\" viewbox=\"0 0 16 16\" width=\"12\" xmlns=\"http://www.w3.org/2000/svg\"><path d=\"M8 12.8709L12.4542 15.5593C12.7807 15.7563 13.1835 15.4636 13.0968 15.0922L11.9148 10.0254L15.8505 6.61581C16.1388 6.36608 15.9847 5.89257 15.6047 5.86033L10.423 5.42072L8.39696 0.640342C8.24839 0.289808 7.7516 0.289808 7.60303 0.640341L5.57696 5.42072L0.395297 5.86033C0.015274 5.89257 -0.13882 6.36608 0.149443 6.61581L4.0852 10.0254L2.90318 15.0922C2.81653 15.4636 3.21932 15.7563 3.54584 15.5593L8 12.8709Z\" fill=\"#767676\"></path></svg></span></a></span><div class=\"companyLocation\">London</div></pre></div><div class=\"heading6 error-text tapItem-gutter\"></div></td></tr></tbody></table><table class=\"jobCardShelfContainer\" role=\"presentation\"><tbody><tr class=\"jobCardShelf\"></tr><tr class=\"underShelfFooter\"><td><div class=\"heading6 tapItem-gutter result-footer\"><div class=\"job-snippet\"><ul style=\"list-style-type:circle;margin-top: 0px;margin-bottom: 0px;padding-left:20px;\">\n",
       " <li style=\"margin-bottom:0px;\">Experience navigating and working with very large <b>data</b> sets and developing large and complex <b>data</b> pipelines using SQL/HQL.</li>\n",
       " <li>Experience with R or Python.</li>\n",
       " </ul></div><span class=\"date\"><span class=\"visually-hidden\">Posted</span>30+ days ago</span><span class=\"result-link-bar-separator\">·</span><button aria-expanded=\"false\" class=\"sl resultLink more_links_button\" type=\"button\">More...</button></div><div class=\"tab-container\"><div class=\"more-links-container result-tab\" role=\"presentation\"><div class=\"more_links\"><button aria-label=\"Close\" class=\"close-button\" title=\"Close\" type=\"button\"></button><ul><li><span class=\"mat\">View all <a href=\"/Tiktok-jobs\">TikTok jobs</a> - <a href=\"/jobs-in-London\">London jobs</a></span></li><li><span class=\"mat\">Salary Search: <a href=\"/career/data-scientist/salaries/London?campaignid=serp-more&amp;fromjk=c8610c368721c0ab&amp;from=serp-more\">Data Scientist salaries in London</a></span></li><li><span class=\"mat\">See popular <a href=\"/cmp/Tiktok/faq\">questions &amp; answers about TikTok</a></span></li></ul></div></div></div></td></tr></tbody></table><div aria-live=\"polite\"></div></div></div><div class=\"slider_sub_item\"></div></div></div><div class=\"kebabMenu\"><button aria-expanded=\"false\" aria-haspopup=\"true\" aria-label=\"Job actions\" class=\"kebabMenu-button\"><svg aria-hidden=\"true\" fill=\"none\" height=\"24\" role=\"presentation\" viewbox=\"0 0 24 24\" width=\"24\" xmlns=\"http://www.w3.org/2000/svg\"><path d=\"M12 7C13.1 7 14 6.1 14 5C14 3.9 13.1 3 12 3C10.9 3 10 3.9 10 5C10 6.1 10.9 7 12 7ZM12 10C10.9 10 10 10.9 10 12C10 13.1 10.9 14 12 14C13.1 14 14 13.1 14 12C14 10.9 13.1 10 12 10ZM12 17C10.9 17 10 17.9 10 19C10 20.1 10.9 21 12 21C13.1 21 14 20.1 14 19C14 17.9 13.1 17 12 17Z\" fill=\"#2d2d2d\"></path></svg></button></div></a><span aria-live=\"polite\" class=\"visually-hidden\"></span><span aria-live=\"assertive\" class=\"visually-hidden\"></span><a class=\"tapItem fs-unmask result job_2bc7fe210ccc0cec resultWithShelf sponTapItem desktop\" data-hide-spinner=\"true\" data-hiring-event=\"false\" data-jk=\"2bc7fe210ccc0cec\" data-mobtk=\"1fpn099mdr7tp802\" href=\"/rc/clk?jk=2bc7fe210ccc0cec&amp;fccid=1d79a4290fb70d8e&amp;vjs=3\" id=\"job_2bc7fe210ccc0cec\" rel=\"nofollow\" target=\"_blank\"><div class=\"slider_container\"><div class=\"slider_list\"><div class=\"slider_item\"><div class=\"job_seen_beacon\"><table cellpadding=\"0\" cellspacing=\"0\" class=\"jobCard_mainContent\" role=\"presentation\"><tbody><tr><td class=\"resultContent\"><div class=\"heading4 color-text-primary singleLineTitle tapItem-gutter\"><h2 class=\"jobTitle jobTitle-color-purple\"><span title=\"Data Scientist, Geospatial\">Data Scientist, Geospatial</span></h2></div><div class=\"heading6 company_location tapItem-gutter\"><pre><span class=\"companyName\"><a class=\"turnstileLink companyOverviewLink\" data-tn-element=\"companyName\" href=\"/cmp/Deliveroo\" rel=\"noopener\" target=\"_blank\">Deliveroo</a></span><span class=\"ratingsDisplay withRatingLink\"><a class=\"ratingLink\" data-tn-variant=\"cmplinktst2\" href=\"/cmp/Deliveroo/reviews\" rel=\"noopener\" target=\"_blank\" title=\"Deliveroo reviews\"><span aria-label=\"3.3 of stars rating\" class=\"ratingNumber\" role=\"img\"><span aria-hidden=\"true\">3.3</span><svg aria-hidden=\"true\" class=\"starIcon\" fill=\"none\" height=\"12\" role=\"presentation\" viewbox=\"0 0 16 16\" width=\"12\" xmlns=\"http://www.w3.org/2000/svg\"><path d=\"M8 12.8709L12.4542 15.5593C12.7807 15.7563 13.1835 15.4636 13.0968 15.0922L11.9148 10.0254L15.8505 6.61581C16.1388 6.36608 15.9847 5.89257 15.6047 5.86033L10.423 5.42072L8.39696 0.640342C8.24839 0.289808 7.7516 0.289808 7.60303 0.640341L5.57696 5.42072L0.395297 5.86033C0.015274 5.89257 -0.13882 6.36608 0.149443 6.61581L4.0852 10.0254L2.90318 15.0922C2.81653 15.4636 3.21932 15.7563 3.54584 15.5593L8 12.8709Z\" fill=\"#767676\"></path></svg></span></a></span><div class=\"companyLocation\">London</div></pre></div><div class=\"heading6 error-text tapItem-gutter\"></div></td></tr></tbody></table><table class=\"jobCardShelfContainer\" role=\"presentation\"><tbody><tr class=\"jobCardShelf\"><td class=\"shelfItem indeedApply\"><span class=\"iaIcon\"></span><span class=\"ialbl iaTextBlack\">Easily apply to this job</span></td></tr><tr class=\"underShelfFooter\"><td><div class=\"heading6 tapItem-gutter result-footer\"><div class=\"job-snippet\"><ul style=\"list-style-type:circle;margin-top: 0px;margin-bottom: 0px;padding-left:20px;\">\n",
       " <li style=\"margin-bottom:0px;\">Our <b>data</b> <b>scientists</b> come from all kinds of backgrounds but have excellence in common.</li>\n",
       " <li>We are uniquely placed to use <b>data</b> to help make better decisions and…</li>\n",
       " </ul></div><span class=\"date\"><span class=\"visually-hidden\">Posted</span>12 days ago</span><span class=\"result-link-bar-separator\">·</span><button aria-expanded=\"false\" class=\"sl resultLink more_links_button\" type=\"button\">More...</button></div><div class=\"tab-container\"><div class=\"more-links-container result-tab\" role=\"presentation\"><div class=\"more_links\"><button aria-label=\"Close\" class=\"close-button\" title=\"Close\" type=\"button\"></button><ul><li><span class=\"mat\">View all <a href=\"/Deliveroo-jobs\">Deliveroo jobs</a> - <a href=\"/jobs-in-London\">London jobs</a></span></li><li><span class=\"mat\">Salary Search: <a href=\"/career/data-scientist/salaries/London?campaignid=serp-more&amp;fromjk=2bc7fe210ccc0cec&amp;from=serp-more\">Data Scientist, Geospatial salaries in London</a></span></li><li><span class=\"mat\">See popular <a href=\"/cmp/Deliveroo/faq\">questions &amp; answers about Deliveroo</a></span></li></ul></div></div></div></td></tr></tbody></table><div aria-live=\"polite\"></div></div></div><div class=\"slider_sub_item\"></div></div></div><div class=\"kebabMenu\"><button aria-expanded=\"false\" aria-haspopup=\"true\" aria-label=\"Job actions\" class=\"kebabMenu-button\"><svg aria-hidden=\"true\" fill=\"none\" height=\"24\" role=\"presentation\" viewbox=\"0 0 24 24\" width=\"24\" xmlns=\"http://www.w3.org/2000/svg\"><path d=\"M12 7C13.1 7 14 6.1 14 5C14 3.9 13.1 3 12 3C10.9 3 10 3.9 10 5C10 6.1 10.9 7 12 7ZM12 10C10.9 10 10 10.9 10 12C10 13.1 10.9 14 12 14C13.1 14 14 13.1 14 12C14 10.9 13.1 10 12 10ZM12 17C10.9 17 10 17.9 10 19C10 20.1 10.9 21 12 21C13.1 21 14 20.1 14 19C14 17.9 13.1 17 12 17Z\" fill=\"#2d2d2d\"></path></svg></button></div></a><span aria-live=\"polite\" class=\"visually-hidden\"></span><span aria-live=\"assertive\" class=\"visually-hidden\"></span><a class=\"tapItem fs-unmask result job_28ad06a2c31aee21 resultWithShelf sponTapItem desktop\" data-hide-spinner=\"true\" data-hiring-event=\"false\" data-jk=\"28ad06a2c31aee21\" data-mobtk=\"1fpn099mdr7tp802\" href=\"/company/247GlobalRecruit/jobs/Data-Scientist-28ad06a2c31aee21?fccid=12088d3f2feee472&amp;vjs=3\" id=\"job_28ad06a2c31aee21\" rel=\"nofollow\" target=\"_blank\"><div class=\"slider_container\"><div class=\"slider_list\"><div class=\"slider_item\"><div class=\"job_seen_beacon\"><table cellpadding=\"0\" cellspacing=\"0\" class=\"jobCard_mainContent\" role=\"presentation\"><tbody><tr><td class=\"resultContent\"><div class=\"heading4 color-text-primary singleLineTitle tapItem-gutter\"><h2 class=\"jobTitle jobTitle-color-purple\"><span title=\"Data Scientist - REMOTE\">Data Scientist - REMOTE</span></h2></div><div class=\"heading6 company_location tapItem-gutter\"><pre><span class=\"companyName\">247 Global Recruit</span><div class=\"companyLocation\">London<span class=\"remote-bullet\">•</span><span>Remote</span></div></pre></div><div class=\"heading6 tapItem-gutter metadataContainer\"><div class=\"metadata salary-snippet-container\"><div aria-label=\"£400 to £500 a day\" class=\"salary-snippet\"><span>£400 - £500 a day</span></div></div></div><div class=\"heading6 error-text tapItem-gutter\"></div></td></tr></tbody></table><table class=\"jobCardShelfContainer\" role=\"presentation\"><tbody><tr class=\"jobCardShelf\"><td class=\"shelfItem indeedApply\"><span class=\"iaIcon\"></span><span class=\"ialbl iaTextBlack\">Easily apply to this job</span></td></tr><tr class=\"underShelfFooter\"><td><div class=\"heading6 tapItem-gutter result-footer\"><div class=\"job-snippet\"><ul style=\"list-style-type:circle;margin-top: 0px;margin-bottom: 0px;padding-left:20px;\">\n",
       " <li style=\"margin-bottom:0px;\">Strong experience in <b>data</b> wrangling/analysis, model building etc.</li>\n",
       " <li>Strong experience with AI and ML technologies including at least one major deep learning…</li>\n",
       " </ul></div><span class=\"date\"><span class=\"visually-hidden\">Posted</span>14 days ago</span><span class=\"result-link-bar-separator\">·</span><button aria-expanded=\"false\" class=\"sl resultLink more_links_button\" type=\"button\">More...</button></div><div class=\"tab-container\"><div class=\"more-links-container result-tab\" role=\"presentation\"><div class=\"more_links\"><button aria-label=\"Close\" class=\"close-button\" title=\"Close\" type=\"button\"></button><ul><li><span class=\"mat\">View all <a href=\"/247-Global-Recruit-jobs\">247 Global Recruit jobs</a> - <a href=\"/jobs-in-London\">London jobs</a></span></li><li><span class=\"mat\">Salary Search: <a href=\"/career/data-scientist/salaries/London?campaignid=serp-more&amp;fromjk=28ad06a2c31aee21&amp;from=serp-more\">Data Scientist - REMOTE salaries in London</a></span></li></ul></div></div></div></td></tr></tbody></table><div aria-live=\"polite\"></div></div></div><div class=\"slider_sub_item\"></div></div></div><div class=\"kebabMenu\"><button aria-expanded=\"false\" aria-haspopup=\"true\" aria-label=\"Job actions\" class=\"kebabMenu-button\"><svg aria-hidden=\"true\" fill=\"none\" height=\"24\" role=\"presentation\" viewbox=\"0 0 24 24\" width=\"24\" xmlns=\"http://www.w3.org/2000/svg\"><path d=\"M12 7C13.1 7 14 6.1 14 5C14 3.9 13.1 3 12 3C10.9 3 10 3.9 10 5C10 6.1 10.9 7 12 7ZM12 10C10.9 10 10 10.9 10 12C10 13.1 10.9 14 12 14C13.1 14 14 13.1 14 12C14 10.9 13.1 10 12 10ZM12 17C10.9 17 10 17.9 10 19C10 20.1 10.9 21 12 21C13.1 21 14 20.1 14 19C14 17.9 13.1 17 12 17Z\" fill=\"#2d2d2d\"></path></svg></button></div></a><span aria-live=\"polite\" class=\"visually-hidden\"></span><div class=\"mosaic-zone\" id=\"mosaic-afterFifteenthJobResult\"></div><div aria-live=\"polite\" id=\"toast\"></div><script>\n",
       "     window.JCS_onClk = function(e){var t;e.preventDefault(),e.stopPropagation();for(var n=e.target,o=!1,r=!1;n;){if(null!==(t=n.className)&&void 0!==t&&t.indexOf)if(-1<n.className.indexOf(\"bookmark \"))o=!0;else if(-1<n.className.indexOf(\"dislike-container \"))r=!0;else if(-1<n.className.indexOf(\"result \")){o?window.jcsSavedJobs.indexOf(n.id)<0&&window.jcsSavedJobs.push(n.id):r?window.jcsDislikedJobs.indexOf(n.id)<0&&window.jcsDislikedJobs.push(n.id):window.jcsClickedJob=n.id;break}n=n.parentNode}};\n",
       "     (function(){var e;window.jcsSavedJobs||(e=document.getElementById(\"mosaic-provider-jobcards\"),window.jcsSavedJobs=[],window.jcsDislikedJobs=[],window.jcsClickedJob=null,e&&(e.addEventListener(\"click\",window.JCS_onClk),window.removeJcsOnClickFn=function(){e&&e.removeEventListener(\"click\",window.JCS_onClk)}))})();\n",
       "     </script></div>]"
      ]
     },
     "execution_count": 122,
     "metadata": {},
     "output_type": "execute_result"
    }
   ],
   "source": [
    "result2[1].find_all('div',attrs={'class':'mosaic mosaic-provider-jobcards'})"
   ]
  },
  {
   "cell_type": "code",
   "execution_count": 7,
   "metadata": {
    "collapsed": true,
    "jupyter": {
     "outputs_hidden": true
    },
    "tags": []
   },
   "outputs": [
    {
     "name": "stdout",
     "output_type": "stream",
     "text": [
      "\n",
      "\n",
      "\n",
      "\n",
      "\n",
      "\n",
      "\n",
      "\n",
      "\n",
      "\n",
      "\n",
      "\n",
      "\n",
      "\n",
      "\n",
      "\n",
      "\n",
      "\n",
      "\n",
      "\n",
      "\n",
      "\n",
      "\n",
      "\n",
      "\n",
      "\n",
      "\n",
      "\n",
      "\n",
      "\n",
      "\n",
      "\n",
      "\n",
      "\n",
      "\n",
      "Data Scientist Jobs in London | Indeed.com\n",
      "\n",
      "\n",
      "\n",
      "\n",
      "\n",
      "\n",
      "\n",
      "\n",
      "\n",
      "\n",
      "\n",
      "\n",
      "\n",
      "\n",
      "Skip to Job Postings, Search\n",
      "\n",
      "\n",
      "\n",
      "Find jobsCompany reviewsSalary guideUpload your CVSign inSign inEmployers / Post JobStart of main content\n",
      "\n",
      "\n",
      ":\n",
      "\n",
      "WhatWhereFind jobsAdvanced Job SearchRemoteRemote (203)Temporarily remote (COVID-19) (46)Date postedLast 24 hoursLast 3 daysLast 7 daysLast 14 daysSalary estimate£45,000+ (1256)£55,000+ (969)£60,000+ (784)£65,000+ (619)£80,000+ (267)within 25 milesExact location onlywithin 5 mileswithin 10 mileswithin 15 mileswithin 25 mileswithin 50 mileswithin 100 milesJob typeFull-time (655)Permanent (492)Contract (61)Internship (27)Part-time (22)Temporary (7)Apprenticeship (3)LocationLondon (1388)Brentford (19)England (15)Slough (10)CompanyHarnham (154)EY (38)Deloitte (35)PwC (30)Facebook App (25)Metrica Recruitment (23)GSK (22)Capgemini Invent (19)Expedia Group (16)Amazon EU SARL (UK Branch) (13)TikTok (13)Deliveroo (13)AWS EMEA SARL (UK Branch) (12)IQVIA (12)JPMorgan Chase Bank, N.A. (12)Education levelMaster's degree (400)Doctoral degree (374)Bachelor's degree (296)A-Levels (6)Foundation degree (4)GCSE (1)\n",
      "\n",
      "\n",
      "\n",
      "\n",
      "\n",
      "\n",
      "\n",
      "\n",
      "\n",
      "\n",
      "\n",
      "\n",
      "\n",
      "Forgot to save your resume?Use  for  to create your resume on Indeed and apply to jobs quicker.Save your resumeBy creating an Indeed Resume, you agree to Indeed's Terms of Service, Cookie Policy and Privacy Policy, and agree to be contacted by employers via Indeed. You consent to receiving marketing messages from Indeed and may opt from receiving such messages by following the unsubscribe link in our messages, or as detailed in our terms.Back\n",
      " Upload your CV and easily apply to jobs from any device!\n",
      "        data scientist jobs in London\n",
      "\n",
      "Sort by: \n",
      "relevance -\n",
      "date\n",
      "\n",
      "\n",
      "\n",
      "                    Page 1 of 1,510 jobs\n",
      "Displayed here are job ads that match your query. Indeed may be compensated by these employers, helping keep Indeed free for jobseekers. Indeed ranks Job Ads based on a combination of employer bids and relevance, such as your search terms and other activity on Indeed. For more information, see the Indeed Terms of Service\n",
      "\n",
      "\n",
      "\n",
      "\n",
      "\n",
      "\n",
      "\n",
      "\n",
      "Jr. Machine Learning Implementation EngineersInformation Tech ConsultantsLondonFrom £30,596 a yearEasily apply to this job\n",
      "Job Title: Data Scientist/Jr.\n",
      "Information Tech Consultants Ltd (ITC) is a London-based mobile app development consultancy, specializing in Android, iOS and Data…\n",
      "Posted30+ days agonewData ScientistFable DataLondon SE1 0AT£50,000 - £60,000 a yearEasily apply to this job\n",
      "Assist in the maintenance of a library of ground truth data points either using data feeds from financial data providers or from manual collection of data from…\n",
      "PostedToday·More...View all Fable Data jobs - London jobsSalary Search: Data Scientist salaries in LondonJunior Data ScientistEchoboxLondon\n",
      "Working knowledge of big data architectures, i.e. NoSQL, Hadoop etc.\n",
      "You will assist in the customisation of the product for new customers and trial data…\n",
      "Posted30+ days ago·More...View all Echobox jobs - London jobsSalary Search: Junior Data Scientist salaries in LondonnewData Science - InternThe CommonwealthLondon\n",
      "The Secretariat is steadily building its data capabilities and is implementing a data governance framework.\n",
      "Creating and applying Advanced data analytics models…\n",
      "Posted7 days ago·More...View all The Commonwealth jobs - London jobsSalary Search: Data Science - Intern salaries in LondonData Scientist - Returnship ProgramAmazon UK Services Ltd.3.5London\n",
      "Previous experience in a ML or data scientist role.\n",
      "2+ years of non-internship professional data science experience.\n",
      "Must be unemployed for 1+ years.\n",
      "Posted30+ days ago·More...View all Amazon UK Services Ltd. jobs - London jobsSalary Search: Data Scientist - Returnship Program salaries in LondonSee popular questions & answers about Amazon UK Services Ltd.Data ScientistFreedom from Torture3.8London£39,120 a year\n",
      "You will have a deep understanding of data and analytics, preferably in a health or social science context.\n",
      "Hours: 28 hours per week.\n",
      "Posted30+ days ago·More...View all Freedom from Torture jobs - London jobsSalary Search: Data Scientist salaries in LondonSee popular questions & answers about Freedom from TortureMachine Learning Engineer Graduate (Recommendation) - 2022 S...TikTok3.6London\n",
      "Interest in at least one of the following areas: machine learning, data mining, algorithms.\n",
      "TikTok is the leading destination for short-form mobile video.\n",
      "Posted30+ days ago·More...View all TikTok jobs - London jobsSalary Search: Machine Learning Engineer Graduate (Recommendation) - 2022 Start salaries in LondonSee popular questions & answers about TikTokMachine Learning Engineer Summer Intern (Recommendation) - 2...TikTok3.6London\n",
      "Interest in at least one of the following areas: machine learning, data mining, algorithms.\n",
      "TikTok is the leading destination for short-form mobile video.\n",
      "Posted30+ days ago·More...View all TikTok jobs - London jobsSalary Search: Machine Learning Engineer Summer Intern (Recommendation) - 2022 Start salaries in LondonSee popular questions & answers about TikTokData ScientistIQVIA3.8London\n",
      "Knowledge of healthcare patient-level data.\n",
      "Supporting projects being executed by our offshore India team of skilled data scientists, including discussing…\n",
      "Posted30+ days ago·More...View all IQVIA jobs - London jobsSalary Search: Data Scientist salaries in LondonSee popular questions & answers about IQVIAnewData ScientistAyasdiLondon EC2M•RemoteEasily apply to this job\n",
      "The ability to collaborate well with other data scientists and machine learning engineers.\n",
      "Directly interact with data scientists in the Financial Services…\n",
      "Posted6 days ago·More...View all Ayasdi jobs - London jobsSalary Search: Data Scientist salaries in LondonnewData Science ResearcherMasterCard4.1London\n",
      "You will be product focused, working in close collaboration with our engineering and operations data scientists as well as the wider sales, consulting, and…\n",
      "Posted4 days ago·More...View all MasterCard jobs - London jobsSalary Search: Data Science Researcher salaries in LondonSee popular questions & answers about MasterCardJunior Data Scientist - Auto ScoringCDP WorldwideLondon EC3R•Remote£25,967 - £32,459 a year\n",
      "Delivery of automated data quality assessment and outlier detection-based data cleaning algorithms.\n",
      "Assistance in 3rd party provisioning and preparation of data…\n",
      "Posted13 days ago·More...View all CDP Worldwide jobs - London jobsSalary Search: Junior Data Scientist - Auto Scoring salaries in LondonData ScientistTikTok3.6London\n",
      "Experience navigating and working with very large data sets and developing large and complex data pipelines using SQL/HQL.\n",
      "Experience with R or Python.\n",
      "Posted30+ days ago·More...View all TikTok jobs - London jobsSalary Search: Data Scientist salaries in LondonSee popular questions & answers about TikTokData Scientist, GeospatialDeliveroo3.3LondonEasily apply to this job\n",
      "Our data scientists come from all kinds of backgrounds but have excellence in common.\n",
      "We are uniquely placed to use data to help make better decisions and…\n",
      "Posted12 days ago·More...View all Deliveroo jobs - London jobsSalary Search: Data Scientist, Geospatial salaries in LondonSee popular questions & answers about DeliverooData Scientist - REMOTE247 Global RecruitLondon•Remote£400 - £500 a dayEasily apply to this job\n",
      "Strong experience in data wrangling/analysis, model building etc.\n",
      "Strong experience with AI and ML technologies including at least one major deep learning…\n",
      "Posted14 days ago·More...View all 247 Global Recruit jobs - London jobsSalary Search: Data Scientist - REMOTE salaries in LondonOverall, how relevant are these jobs?Not at allSlightlySomewhatVeryExtremelyNot at allExtremely\n",
      "\n",
      "\n",
      "\n",
      "\n",
      "12345\n",
      "\n",
      "\n",
      "\n",
      "\n",
      "People also searched: data analyst - data science - junior data scientist - data - machine learning - graduate data scientist - data engineer - part time - python - software engineer\n",
      " \n",
      "\n",
      "\n",
      "\n",
      "\n",
      "\n",
      "\n",
      "Get new jobs for this search by email\n",
      "\n",
      "\n",
      "\n",
      "\n",
      "\n",
      "\n",
      "\n",
      "\n",
      "\n",
      "\n",
      "\n",
      "\n",
      "\n",
      "\n",
      "\n",
      "Email address\n",
      "\n",
      "\n",
      "\n",
      "\n",
      "\n",
      "\n",
      "\n",
      "By creating a job alert, you agree to our Terms. You can change your consent settings at any time by unsubscribing or as detailed in our terms.\n",
      "\n",
      "\n",
      "\n",
      "\n",
      "\n",
      "\n",
      "\n",
      "\n",
      "\n",
      "\n",
      "\n",
      "\n",
      "\n",
      "\n",
      "\n",
      "\n",
      "\n",
      "\n",
      "\n",
      "\n",
      "\n",
      "\n",
      "\n",
      "\n",
      "\n",
      "\n",
      "\n",
      "Hiring LabCareer AdviceBrowse JobsBrowse CompaniesSalariesIndeed EventsWork at IndeedBlogCountriesAboutHelp Centre© 2022 IndeedAnti-Slavery statementAccessibility at IndeedPrivacy CentreCookiesPrivacyTerms\n",
      "\n",
      "Let employers find you  Upload your CV\n",
      "\n",
      "\n",
      "\n",
      "\n",
      "\n",
      "\n",
      "\n",
      "\n",
      "\n",
      "\n",
      "\n",
      "\n",
      "\n",
      "\n",
      "\n",
      "\n",
      "\n"
     ]
    }
   ],
   "source": [
    "print(soup.get_text())"
   ]
  },
  {
   "cell_type": "code",
   "execution_count": 27,
   "metadata": {},
   "outputs": [
    {
     "data": {
      "text/plain": [
       "<div class=\"job_seen_beacon\"><table cellpadding=\"0\" cellspacing=\"0\" class=\"jobCard_mainContent\" role=\"presentation\"><tbody><tr><td class=\"resultContent\"><div class=\"heading4 color-text-primary singleLineTitle tapItem-gutter\"><h2 class=\"jobTitle jobTitle-color-purple\"><span title=\"Jr. Machine Learning Implementation Engineers\">Jr. Machine Learning Implementation Engineers</span></h2></div><div class=\"heading6 company_location tapItem-gutter\"><pre><span class=\"companyName\">Information Tech Consultants</span><div class=\"companyLocation\">London</div></pre></div><div class=\"heading6 tapItem-gutter metadataContainer\"><div class=\"metadata salary-snippet-container\"><div aria-label=\"From £30,596 a year\" class=\"salary-snippet\"><span>From £30,596 a year</span></div></div></div><div class=\"heading6 error-text tapItem-gutter\"></div></td></tr></tbody></table><table class=\"jobCardShelfContainer\" role=\"presentation\"><tbody><tr class=\"jobCardShelf\"><td class=\"shelfItem indeedApply\"><span class=\"iaIcon\"></span><span class=\"ialbl iaTextBlack\">Easily apply to this job</span></td></tr><tr class=\"underShelfFooter\"><td><div class=\"heading6 tapItem-gutter result-footer\"><div class=\"job-snippet\"><ul style=\"list-style-type:circle;margin-top: 0px;margin-bottom: 0px;padding-left:20px;\">\n",
       "<li style=\"margin-bottom:0px;\">Job Title: <b>Data</b> Scientist/Jr.</li>\n",
       "<li>Information Tech Consultants Ltd (ITC) is a London-based mobile app development consultancy, specializing in Android, iOS and Data…</li>\n",
       "</ul></div><span class=\"date\"><span class=\"visually-hidden\">Posted</span>30+ days ago</span></div></td></tr></tbody></table><div aria-live=\"polite\"></div></div>"
      ]
     },
     "execution_count": 27,
     "metadata": {},
     "output_type": "execute_result"
    }
   ],
   "source": [
    "soup.find_all('div', class_=\"job_seen_beacon\")[0]"
   ]
  },
  {
   "cell_type": "code",
   "execution_count": 28,
   "metadata": {},
   "outputs": [
    {
     "data": {
      "text/plain": [
       "<table cellpadding=\"0\" cellspacing=\"0\" class=\"jobCard_mainContent\" role=\"presentation\"><tbody><tr><td class=\"resultContent\"><div class=\"heading4 color-text-primary singleLineTitle tapItem-gutter\"><h2 class=\"jobTitle jobTitle-color-purple\"><span title=\"Jr. Machine Learning Implementation Engineers\">Jr. Machine Learning Implementation Engineers</span></h2></div><div class=\"heading6 company_location tapItem-gutter\"><pre><span class=\"companyName\">Information Tech Consultants</span><div class=\"companyLocation\">London</div></pre></div><div class=\"heading6 tapItem-gutter metadataContainer\"><div class=\"metadata salary-snippet-container\"><div aria-label=\"From £30,596 a year\" class=\"salary-snippet\"><span>From £30,596 a year</span></div></div></div><div class=\"heading6 error-text tapItem-gutter\"></div></td></tr></tbody></table>"
      ]
     },
     "execution_count": 28,
     "metadata": {},
     "output_type": "execute_result"
    }
   ],
   "source": [
    "soup.find_all('table', class_=\"jobCard_mainContent\")[0]"
   ]
  },
  {
   "cell_type": "code",
   "execution_count": 64,
   "metadata": {},
   "outputs": [
    {
     "name": "stdout",
     "output_type": "stream",
     "text": [
      "116\n"
     ]
    },
    {
     "data": {
      "text/plain": [
       "['tapItem',\n",
       " 'fs-unmask',\n",
       " 'result',\n",
       " 'job_a766970992ab5675',\n",
       " 'resultWithShelf',\n",
       " 'sponTapItem',\n",
       " 'desktop']"
      ]
     },
     "execution_count": 64,
     "metadata": {},
     "output_type": "execute_result"
    }
   ],
   "source": [
    "div_class = soup.find_all('a', class_=True)\n",
    "print(len(div_class))\n",
    "[d['class'] for d in div_class[70:]][0]"
   ]
  },
  {
   "cell_type": "code",
   "execution_count": 186,
   "metadata": {
    "collapsed": true,
    "jupyter": {
     "outputs_hidden": true
    },
    "tags": []
   },
   "outputs": [
    {
     "data": {
      "text/plain": [
       "[(67,\n",
       "  ['tapItem',\n",
       "   'fs-unmask',\n",
       "   'result',\n",
       "   'job_aa457aa85a556fb0',\n",
       "   'sponsoredJob',\n",
       "   'resultWithShelf',\n",
       "   'sponTapItem',\n",
       "   'desktop']),\n",
       " (68,\n",
       "  ['tapItem',\n",
       "   'fs-unmask',\n",
       "   'result',\n",
       "   'job_81596e087bc722e1',\n",
       "   'resultWithShelf',\n",
       "   'sponTapItem',\n",
       "   'desktop']),\n",
       " (69,\n",
       "  ['tapItem',\n",
       "   'fs-unmask',\n",
       "   'result',\n",
       "   'job_80ba1147518747d1',\n",
       "   'resultWithShelf',\n",
       "   'sponTapItem',\n",
       "   'desktop']),\n",
       " (70,\n",
       "  ['tapItem',\n",
       "   'fs-unmask',\n",
       "   'result',\n",
       "   'job_a766970992ab5675',\n",
       "   'resultWithShelf',\n",
       "   'sponTapItem',\n",
       "   'desktop']),\n",
       " (71,\n",
       "  ['tapItem',\n",
       "   'fs-unmask',\n",
       "   'result',\n",
       "   'job_4b91fb225034dbcd',\n",
       "   'resultWithShelf',\n",
       "   'sponTapItem',\n",
       "   'desktop']),\n",
       " (74,\n",
       "  ['tapItem',\n",
       "   'fs-unmask',\n",
       "   'result',\n",
       "   'job_8411751818612285',\n",
       "   'resultWithShelf',\n",
       "   'sponTapItem',\n",
       "   'desktop']),\n",
       " (77,\n",
       "  ['tapItem',\n",
       "   'fs-unmask',\n",
       "   'result',\n",
       "   'job_14a3bb31248f543a',\n",
       "   'resultWithShelf',\n",
       "   'sponTapItem',\n",
       "   'desktop']),\n",
       " (80,\n",
       "  ['tapItem',\n",
       "   'fs-unmask',\n",
       "   'result',\n",
       "   'job_41ce545464f94ca7',\n",
       "   'resultWithShelf',\n",
       "   'sponTapItem',\n",
       "   'desktop']),\n",
       " (83,\n",
       "  ['tapItem',\n",
       "   'fs-unmask',\n",
       "   'result',\n",
       "   'job_718635a04e11ed5e',\n",
       "   'resultWithShelf',\n",
       "   'sponTapItem',\n",
       "   'desktop']),\n",
       " (86,\n",
       "  ['tapItem',\n",
       "   'fs-unmask',\n",
       "   'result',\n",
       "   'job_473ec6f403e0cb6e',\n",
       "   'resultWithShelf',\n",
       "   'sponTapItem',\n",
       "   'desktop']),\n",
       " (87,\n",
       "  ['tapItem',\n",
       "   'fs-unmask',\n",
       "   'result',\n",
       "   'job_975d081de0924d70',\n",
       "   'resultWithShelf',\n",
       "   'sponTapItem',\n",
       "   'desktop']),\n",
       " (90,\n",
       "  ['tapItem',\n",
       "   'fs-unmask',\n",
       "   'result',\n",
       "   'job_a5a36022f9caf4c4',\n",
       "   'resultWithShelf',\n",
       "   'sponTapItem',\n",
       "   'desktop']),\n",
       " (91,\n",
       "  ['tapItem',\n",
       "   'fs-unmask',\n",
       "   'result',\n",
       "   'job_c8610c368721c0ab',\n",
       "   'resultWithShelf',\n",
       "   'sponTapItem',\n",
       "   'desktop']),\n",
       " (94,\n",
       "  ['tapItem',\n",
       "   'fs-unmask',\n",
       "   'result',\n",
       "   'job_2bc7fe210ccc0cec',\n",
       "   'resultWithShelf',\n",
       "   'sponTapItem',\n",
       "   'desktop']),\n",
       " (97,\n",
       "  ['tapItem',\n",
       "   'fs-unmask',\n",
       "   'result',\n",
       "   'job_28ad06a2c31aee21',\n",
       "   'resultWithShelf',\n",
       "   'sponTapItem',\n",
       "   'desktop'])]"
      ]
     },
     "execution_count": 186,
     "metadata": {},
     "output_type": "execute_result"
    }
   ],
   "source": [
    "job_postings"
   ]
  },
  {
   "cell_type": "code",
   "execution_count": 187,
   "metadata": {},
   "outputs": [],
   "source": [
    "job_postings = []\n",
    "for j,i in enumerate([d['class'] for d in div_class]):\n",
    "#    print(i)\n",
    "    if 'tapItem' in i:\n",
    "        job_postings.append((j))"
   ]
  },
  {
   "cell_type": "code",
   "execution_count": 208,
   "metadata": {},
   "outputs": [],
   "source": [
    "job_postings = []\n",
    "for j,i in enumerate([d['class'] for d in div_class]):\n",
    "#    print(i)\n",
    "    if 'tapItem' in i:\n",
    "        job_postings.append((div_class[j]))"
   ]
  },
  {
   "cell_type": "code",
   "execution_count": 197,
   "metadata": {
    "tags": []
   },
   "outputs": [
    {
     "data": {
      "text/plain": [
       "70"
      ]
     },
     "execution_count": 197,
     "metadata": {},
     "output_type": "execute_result"
    }
   ],
   "source": [
    "job_postings[3]"
   ]
  },
  {
   "cell_type": "code",
   "execution_count": 206,
   "metadata": {},
   "outputs": [
    {
     "data": {
      "text/plain": [
       "'Data ScientistFreedom from Torture3.8London£39,120 a year\\nYou will have a deep understanding of data and analytics, preferably in a health or social science context.\\nHours: 28 hours per week.\\nPosted30+ days ago·More...View all Freedom from Torture jobs - London jobsSalary Search: Data Scientist salaries in LondonSee popular questions & answers about Freedom from Torture'"
      ]
     },
     "execution_count": 206,
     "metadata": {},
     "output_type": "execute_result"
    }
   ],
   "source": [
    "div_class[job_postings[5]].text.strip()"
   ]
  },
  {
   "cell_type": "code",
   "execution_count": 224,
   "metadata": {},
   "outputs": [
    {
     "data": {
      "text/plain": [
       "'<a class=\"tapItem fs-unmask result job_81596e087bc722e1 resultWithShelf sponTapItem desktop\" data-hide-spinner=\"true\" data-hiring-event=\"false\" data-jk=\"81596e087bc722e1\" data-mobtk=\"1fpn099mdr7tp802\" href=\"/rc/clk?jk=81596e087bc722e1&amp;fccid=97de08cc0d912589&amp;vjs=3\" id=\"job_81596e087bc722e1\" rel=\"nofollow\" target=\"_blank\">\\n <div class=\"slider_container\">\\n  <div class=\"slider_list\">\\n   <div class=\"slider_item\">\\n    <div class=\"job_seen_beacon\">\\n     <table cellpadding=\"0\" cellspacing=\"0\" class=\"jobCard_mainContent\" role=\"presentation\">\\n      <tbody>\\n       <tr>\\n        <td class=\"resultContent\">\\n         <div class=\"heading4 color-text-primary singleLineTitle tapItem-gutter\">\\n          <h2 class=\"jobTitle jobTitle-color-purple jobTitle-newJob\">\\n           <div class=\"new topLeft holisticNewBlue desktop\">\\n            <span class=\"label\">\\n             new\\n            </span>\\n           </div>\\n           <span title=\"Data Scientist\">\\n            Data Scientist\\n           </span>\\n          </h2>\\n         </div>\\n         <div class=\"heading6 company_location tapItem-gutter\">\\n          <pre><span class=\"companyName\">Fable Data</span><div class=\"companyLocation\">London<!-- --> <!-- -->SE1 0AT</div></pre>\\n         </div>\\n         <div class=\"heading6 tapItem-gutter metadataContainer\">\\n          <div class=\"metadata salary-snippet-container\">\\n           <div aria-label=\"£50,000 to £60,000 a year\" class=\"salary-snippet\">\\n            <span>\\n             £50,000 - £60,000 a year\\n            </span>\\n           </div>\\n          </div>\\n         </div>\\n         <div class=\"heading6 error-text tapItem-gutter\">\\n         </div>\\n        </td>\\n       </tr>\\n      </tbody>\\n     </table>\\n     <table class=\"jobCardShelfContainer\" role=\"presentation\">\\n      <tbody>\\n       <tr class=\"jobCardShelf\">\\n        <td class=\"shelfItem indeedApply\">\\n         <span class=\"iaIcon\">\\n         </span>\\n         <span class=\"ialbl iaTextBlack\">\\n          Easily apply to this job\\n         </span>\\n        </td>\\n       </tr>\\n       <tr class=\"underShelfFooter\">\\n        <td>\\n         <div class=\"heading6 tapItem-gutter result-footer\">\\n          <div class=\"job-snippet\">\\n           <ul style=\"list-style-type:circle;margin-top: 0px;margin-bottom: 0px;padding-left:20px;\">\\n            <li>\\n             Assist in the maintenance of a library of ground truth\\n             <b>\\n              data\\n             </b>\\n             points either using\\n             <b>\\n              data\\n             </b>\\n             feeds from financial\\n             <b>\\n              data\\n             </b>\\n             providers or from manual collection of\\n             <b>\\n              data\\n             </b>\\n             from…\\n            </li>\\n           </ul>\\n          </div>\\n          <span class=\"date\">\\n           <span class=\"visually-hidden\">\\n            Posted\\n           </span>\\n           Today\\n          </span>\\n          <span class=\"result-link-bar-separator\">\\n           ·\\n          </span>\\n          <button aria-expanded=\"false\" class=\"sl resultLink more_links_button\" type=\"button\">\\n           More...\\n          </button>\\n         </div>\\n         <div class=\"tab-container\">\\n          <div class=\"more-links-container result-tab\" role=\"presentation\">\\n           <div class=\"more_links\">\\n            <button aria-label=\"Close\" class=\"close-button\" title=\"Close\" type=\"button\">\\n            </button>\\n            <ul>\\n             <li>\\n              <span class=\"mat\">\\n               View all\\n               <a href=\"/Fable-Data-jobs\">\\n                Fable Data jobs\\n               </a>\\n               -\\n               <a href=\"/jobs-in-London\">\\n                London jobs\\n               </a>\\n              </span>\\n             </li>\\n             <li>\\n              <span class=\"mat\">\\n               Salary Search:\\n               <a href=\"/career/data-scientist/salaries/London-SE1?campaignid=serp-more&amp;fromjk=81596e087bc722e1&amp;from=serp-more\">\\n                Data Scientist salaries in London\\n               </a>\\n              </span>\\n             </li>\\n            </ul>\\n           </div>\\n          </div>\\n         </div>\\n        </td>\\n       </tr>\\n      </tbody>\\n     </table>\\n     <div aria-live=\"polite\">\\n     </div>\\n    </div>\\n   </div>\\n   <div class=\"slider_sub_item\">\\n   </div>\\n  </div>\\n </div>\\n <div class=\"kebabMenu\">\\n  <button aria-expanded=\"false\" aria-haspopup=\"true\" aria-label=\"Job actions\" class=\"kebabMenu-button\">\\n   <svg aria-hidden=\"true\" fill=\"none\" height=\"24\" role=\"presentation\" viewbox=\"0 0 24 24\" width=\"24\" xmlns=\"http://www.w3.org/2000/svg\">\\n    <path d=\"M12 7C13.1 7 14 6.1 14 5C14 3.9 13.1 3 12 3C10.9 3 10 3.9 10 5C10 6.1 10.9 7 12 7ZM12 10C10.9 10 10 10.9 10 12C10 13.1 10.9 14 12 14C13.1 14 14 13.1 14 12C14 10.9 13.1 10 12 10ZM12 17C10.9 17 10 17.9 10 19C10 20.1 10.9 21 12 21C13.1 21 14 20.1 14 19C14 17.9 13.1 17 12 17Z\" fill=\"#2d2d2d\">\\n    </path>\\n   </svg>\\n  </button>\\n </div>\\n</a>\\n'"
      ]
     },
     "execution_count": 224,
     "metadata": {},
     "output_type": "execute_result"
    }
   ],
   "source": [
    "job_postings[1].prettify()"
   ]
  },
  {
   "cell_type": "code",
   "execution_count": 264,
   "metadata": {
    "tags": []
   },
   "outputs": [
    {
     "name": "stdout",
     "output_type": "stream",
     "text": [
      "<div class=\"slider_container\"><div class=\"slider_list\"><div class=\"slider_item\"><div class=\"job_seen_beacon\"><table cellpadding=\"0\" cellspacing=\"0\" class=\"jobCard_mainContent\" role=\"presentation\"><tbody><tr><td class=\"resultContent\"><div class=\"heading4 color-text-primary singleLineTitle tapItem-gutter\"><h2 class=\"jobTitle jobTitle-color-purple jobTitle-newJob\"><div class=\"new topLeft holisticNewBlue desktop\"><span class=\"label\">new</span></div><span title=\"Data Scientist\">Data Scientist</span></h2></div><div class=\"heading6 company_location tapItem-gutter\"><pre><span class=\"companyName\">Fable Data</span><div class=\"companyLocation\">London<!-- --> <!-- -->SE1 0AT</div></pre></div><div class=\"heading6 tapItem-gutter metadataContainer\"><div class=\"metadata salary-snippet-container\"><div aria-label=\"£50,000 to £60,000 a year\" class=\"salary-snippet\"><span>£50,000 - £60,000 a year</span></div></div></div><div class=\"heading6 error-text tapItem-gutter\"></div></td></tr></tbody></table><table class=\"jobCardShelfContainer\" role=\"presentation\"><tbody><tr class=\"jobCardShelf\"><td class=\"shelfItem indeedApply\"><span class=\"iaIcon\"></span><span class=\"ialbl iaTextBlack\">Easily apply to this job</span></td></tr><tr class=\"underShelfFooter\"><td><div class=\"heading6 tapItem-gutter result-footer\"><div class=\"job-snippet\"><ul style=\"list-style-type:circle;margin-top: 0px;margin-bottom: 0px;padding-left:20px;\">\n",
      "<li>Assist in the maintenance of a library of ground truth <b>data</b> points either using <b>data</b> feeds from financial <b>data</b> providers or from manual collection of <b>data</b> from…</li>\n",
      "</ul></div><span class=\"date\"><span class=\"visually-hidden\">Posted</span>Today</span><span class=\"result-link-bar-separator\">·</span><button aria-expanded=\"false\" class=\"sl resultLink more_links_button\" type=\"button\">More...</button></div><div class=\"tab-container\"><div class=\"more-links-container result-tab\" role=\"presentation\"><div class=\"more_links\"><button aria-label=\"Close\" class=\"close-button\" title=\"Close\" type=\"button\"></button><ul><li><span class=\"mat\">View all <a href=\"/Fable-Data-jobs\">Fable Data jobs</a> - <a href=\"/jobs-in-London\">London jobs</a></span></li><li><span class=\"mat\">Salary Search: <a href=\"/career/data-scientist/salaries/London-SE1?campaignid=serp-more&amp;fromjk=81596e087bc722e1&amp;from=serp-more\">Data Scientist salaries in London</a></span></li></ul></div></div></div></td></tr></tbody></table><div aria-live=\"polite\"></div></div></div><div class=\"slider_sub_item\"></div></div></div>\n",
      "-------------------------\n",
      "<div class=\"kebabMenu\"><button aria-expanded=\"false\" aria-haspopup=\"true\" aria-label=\"Job actions\" class=\"kebabMenu-button\"><svg aria-hidden=\"true\" fill=\"none\" height=\"24\" role=\"presentation\" viewbox=\"0 0 24 24\" width=\"24\" xmlns=\"http://www.w3.org/2000/svg\"><path d=\"M12 7C13.1 7 14 6.1 14 5C14 3.9 13.1 3 12 3C10.9 3 10 3.9 10 5C10 6.1 10.9 7 12 7ZM12 10C10.9 10 10 10.9 10 12C10 13.1 10.9 14 12 14C13.1 14 14 13.1 14 12C14 10.9 13.1 10 12 10ZM12 17C10.9 17 10 17.9 10 19C10 20.1 10.9 21 12 21C13.1 21 14 20.1 14 19C14 17.9 13.1 17 12 17Z\" fill=\"#2d2d2d\"></path></svg></button></div>\n",
      "-------------------------\n"
     ]
    }
   ],
   "source": [
    "for i in job_postings[1]:\n",
    "    print(i)\n",
    "    print('-------------------------')"
   ]
  },
  {
   "cell_type": "code",
   "execution_count": 303,
   "metadata": {},
   "outputs": [
    {
     "data": {
      "text/plain": [
       "['tapItem',\n",
       " 'fs-unmask',\n",
       " 'result',\n",
       " 'job_81596e087bc722e1',\n",
       " 'resultWithShelf',\n",
       " 'sponTapItem',\n",
       " 'desktop']"
      ]
     },
     "execution_count": 303,
     "metadata": {},
     "output_type": "execute_result"
    }
   ],
   "source": [
    "job_postings[1]['class']"
   ]
  },
  {
   "cell_type": "code",
   "execution_count": 306,
   "metadata": {},
   "outputs": [
    {
     "data": {
      "text/plain": [
       "'Data Scientist'"
      ]
     },
     "execution_count": 306,
     "metadata": {},
     "output_type": "execute_result"
    }
   ],
   "source": [
    "job_postings[1].find_all('span', title=True)[0].text.strip()"
   ]
  },
  {
   "cell_type": "code",
   "execution_count": null,
   "metadata": {},
   "outputs": [],
   "source": [
    "job_postings[1].find_all('span')"
   ]
  },
  {
   "cell_type": "code",
   "execution_count": 312,
   "metadata": {},
   "outputs": [
    {
     "data": {
      "text/plain": [
       "'Fable Data'"
      ]
     },
     "execution_count": 312,
     "metadata": {},
     "output_type": "execute_result"
    }
   ],
   "source": [
    "job_postings[1].find_all('span', class_=\"companyName\")[0].text.strip()"
   ]
  },
  {
   "cell_type": "code",
   "execution_count": null,
   "metadata": {
    "tags": []
   },
   "outputs": [],
   "source": [
    "div_class[job_postings[5]].find_all('div', class_=\"salary-snippet\")[0].text.strip()"
   ]
  },
  {
   "cell_type": "code",
   "execution_count": 214,
   "metadata": {},
   "outputs": [
    {
     "ename": "TypeError",
     "evalue": "list indices must be integers or slices, not Tag",
     "output_type": "error",
     "traceback": [
      "\u001b[0;31m---------------------------------------------------------------------------\u001b[0m",
      "\u001b[0;31mTypeError\u001b[0m                                 Traceback (most recent call last)",
      "\u001b[0;32m<ipython-input-214-abc6bdd5c334>\u001b[0m in \u001b[0;36m<module>\u001b[0;34m\u001b[0m\n\u001b[0;32m----> 1\u001b[0;31m \u001b[0mdiv_class\u001b[0m\u001b[0;34m[\u001b[0m\u001b[0mjob_postings\u001b[0m\u001b[0;34m[\u001b[0m\u001b[0;36m0\u001b[0m\u001b[0;34m]\u001b[0m\u001b[0;34m]\u001b[0m\u001b[0;34m.\u001b[0m\u001b[0mfind_all\u001b[0m\u001b[0;34m(\u001b[0m\u001b[0;34m'h2'\u001b[0m\u001b[0;34m)\u001b[0m\u001b[0;34m[\u001b[0m\u001b[0;36m0\u001b[0m\u001b[0;34m]\u001b[0m\u001b[0;34m.\u001b[0m\u001b[0mtext\u001b[0m\u001b[0;34m.\u001b[0m\u001b[0mstrip\u001b[0m\u001b[0;34m(\u001b[0m\u001b[0;34m)\u001b[0m\u001b[0;34m\u001b[0m\u001b[0;34m\u001b[0m\u001b[0m\n\u001b[0m",
      "\u001b[0;31mTypeError\u001b[0m: list indices must be integers or slices, not Tag"
     ]
    }
   ],
   "source": [
    "div_class[job_postings[0]].find_all('h2')[0].text.strip()"
   ]
  },
  {
   "cell_type": "code",
   "execution_count": 181,
   "metadata": {
    "tags": []
   },
   "outputs": [
    {
     "data": {
      "text/plain": [
       "'aa457aa85a556fb0'"
      ]
     },
     "execution_count": 181,
     "metadata": {},
     "output_type": "execute_result"
    }
   ],
   "source": [
    "div_class[job_postings[0][0]]['data-jk']"
   ]
  },
  {
   "cell_type": "code",
   "execution_count": 225,
   "metadata": {},
   "outputs": [
    {
     "data": {
      "text/plain": [
       "'aa457aa85a556fb0'"
      ]
     },
     "execution_count": 225,
     "metadata": {},
     "output_type": "execute_result"
    }
   ],
   "source": [
    "job_postings[0]['data-jk']"
   ]
  },
  {
   "cell_type": "code",
   "execution_count": 183,
   "metadata": {},
   "outputs": [
    {
     "data": {
      "text/plain": [
       "'London'"
      ]
     },
     "execution_count": 183,
     "metadata": {},
     "output_type": "execute_result"
    }
   ],
   "source": [
    "div_class[job_postings[0][0]].find_all('div', class_=\"companyLocation\")[0].text.strip()"
   ]
  },
  {
   "cell_type": "code",
   "execution_count": null,
   "metadata": {},
   "outputs": [],
   "source": [
    "def extract_salary_from_result(result):\n",
    "    salaries = []\n",
    "    for i in result:\n",
    "        try:\n",
    "            salaries.append(i.find('span',attrs={'class':\"salaryText\"}).text.strip())\n",
    "        except:\n",
    "            salaries.append(np.nan)\n",
    "    return salaries\n",
    "\n",
    "#Testing the function on the intial scrape above, making sure all lengths align\n",
    "print(extract_salary_from_result(result))\n",
    "print(len(extract_salary_from_result(result)))"
   ]
  },
  {
   "cell_type": "code",
   "execution_count": 164,
   "metadata": {},
   "outputs": [
    {
     "name": "stdout",
     "output_type": "stream",
     "text": [
      "<div class=\"slider_container\"><div class=\"slider_list\"><div class=\"slider_item\"><div class=\"job_seen_beacon\"><table cellpadding=\"0\" cellspacing=\"0\" class=\"jobCard_mainContent\" role=\"presentation\"><tbody><tr><td class=\"resultContent\"><div class=\"heading4 color-text-primary singleLineTitle tapItem-gutter\"><h2 class=\"jobTitle jobTitle-color-purple\"><span title=\"Jr. Machine Learning Implementation Engineers\">Jr. Machine Learning Implementation Engineers</span></h2></div><div class=\"heading6 company_location tapItem-gutter\"><pre><span class=\"companyName\">Information Tech Consultants</span><div class=\"companyLocation\">London</div></pre></div><div class=\"heading6 tapItem-gutter metadataContainer\"><div class=\"metadata salary-snippet-container\"><div aria-label=\"From £30,596 a year\" class=\"salary-snippet\"><span>From £30,596 a year</span></div></div></div><div class=\"heading6 error-text tapItem-gutter\"></div></td></tr></tbody></table><table class=\"jobCardShelfContainer\" role=\"presentation\"><tbody><tr class=\"jobCardShelf\"><td class=\"shelfItem indeedApply\"><span class=\"iaIcon\"></span><span class=\"ialbl iaTextBlack\">Easily apply to this job</span></td></tr><tr class=\"underShelfFooter\"><td><div class=\"heading6 tapItem-gutter result-footer\"><div class=\"job-snippet\"><ul style=\"list-style-type:circle;margin-top: 0px;margin-bottom: 0px;padding-left:20px;\">\n",
      "<li style=\"margin-bottom:0px;\">Job Title: <b>Data</b> Scientist/Jr.</li>\n",
      "<li>Information Tech Consultants Ltd (ITC) is a London-based mobile app development consultancy, specializing in Android, iOS and Data…</li>\n",
      "</ul></div><span class=\"date\"><span class=\"visually-hidden\">Posted</span>30+ days ago</span></div></td></tr></tbody></table><div aria-live=\"polite\"></div></div></div><div class=\"slider_sub_item\"></div></div></div>\n",
      "(-----------------------------------------)\n",
      "<div class=\"kebabMenu\"><button aria-expanded=\"false\" aria-haspopup=\"true\" aria-label=\"Job actions\" class=\"kebabMenu-button\"><svg aria-hidden=\"true\" fill=\"none\" height=\"24\" role=\"presentation\" viewbox=\"0 0 24 24\" width=\"24\" xmlns=\"http://www.w3.org/2000/svg\"><path d=\"M12 7C13.1 7 14 6.1 14 5C14 3.9 13.1 3 12 3C10.9 3 10 3.9 10 5C10 6.1 10.9 7 12 7ZM12 10C10.9 10 10 10.9 10 12C10 13.1 10.9 14 12 14C13.1 14 14 13.1 14 12C14 10.9 13.1 10 12 10ZM12 17C10.9 17 10 17.9 10 19C10 20.1 10.9 21 12 21C13.1 21 14 20.1 14 19C14 17.9 13.1 17 12 17Z\" fill=\"#2d2d2d\"></path></svg></button></div>\n",
      "(-----------------------------------------)\n"
     ]
    }
   ],
   "source": [
    "for i in div_class[job_postings[0][0]]:\n",
    "    print(i)\n",
    "    print('(-----------------------------------------)')"
   ]
  },
  {
   "cell_type": "code",
   "execution_count": 86,
   "metadata": {},
   "outputs": [
    {
     "name": "stdout",
     "output_type": "stream",
     "text": [
      "[]\n",
      "0\n"
     ]
    }
   ],
   "source": [
    "def extract_salary_from_result(result):\n",
    "    salaries = []\n",
    "    for i in result:\n",
    "        try:\n",
    "            salaries.append(i.find('span',attrs={'class':\"salaryText\"}).text.strip())\n",
    "        except:\n",
    "            salaries.append(np.nan)\n",
    "    return salaries\n",
    "\n",
    "#Testing the function on the intial scrape above, making sure all lengths align\n",
    "print(extract_salary_from_result(result))\n",
    "print(len(extract_salary_from_result(result)))"
   ]
  },
  {
   "cell_type": "code",
   "execution_count": null,
   "metadata": {},
   "outputs": [],
   "source": []
  },
  {
   "cell_type": "markdown",
   "metadata": {
    "focus": false,
    "id": "bb0b866a-26a7-45e9-8084-5a0f90eb4b3e",
    "jupyter": {
     "source_hidden": true
    },
    "tags": []
   },
   "source": [
    "Let's look at one result more closely. A single `result` looks like\n",
    "\n",
    "```\n",
    "<div class=\" row result\" data-jk=\"2480d203f7e97210\" data-tn-component=\"organicJob\" id=\"p_2480d203f7e97210\" itemscope=\"\" itemtype=\"http://schema.org/JobPosting\">\n",
    "<h2 class=\"jobtitle\" id=\"jl_2480d203f7e97210\">\n",
    "<a class=\"turnstileLink\" data-tn-element=\"jobTitle\" onmousedown=\"return rclk(this,jobmap[0],1);\" rel=\"nofollow\" target=\"_blank\" title=\"AVP/Quantitative Analyst\">AVP/Quantitative Analyst</a>\n",
    "</h2>\n",
    "<span class=\"company\" itemprop=\"hiringOrganization\" itemtype=\"http://schema.org/Organization\">\n",
    "<span itemprop=\"name\">\n",
    "<a href=\"/cmp/Alliancebernstein?from=SERP&amp;campaignid=serp-linkcompanyname&amp;fromjk=2480d203f7e97210&amp;jcid=b374f2a780e04789\" target=\"_blank\">\n",
    "    AllianceBernstein</a></span>\n",
    "</span>\n",
    "<tr>\n",
    "<td class=\"snip\">\n",
    "<nobr>$117,500 - $127,500 a year</nobr>\n",
    "<div>\n",
    "<span class=\"summary\" itemprop=\"description\">\n",
    "C onduct quantitative and statistical research as well as portfolio management for various investment portfolios. Collaborate with Quantitative Analysts and</span>\n",
    "</div>\n",
    "</div>\n",
    "</td>\n",
    "</tr>\n",
    "</table>\n",
    "</div>\n",
    "```\n",
    "\n",
    "While this has some more verbose elements removed, we can see that there is some structure to the above:\n",
    "- The salary is in a `span` with `class='salaryText'`.\n",
    "- The title of a job is in a link with class set to `jobtitle` and a `data-tn-element='jobTitle'`.  \n",
    "- The location is set in a `span` with `class='location'`. \n",
    "- The company is set in a `span` with `class='company'`. \n",
    "- Decide which other components could be relevant, for example the region or the summary of the job advert."
   ]
  },
  {
   "cell_type": "markdown",
   "metadata": {
    "focus": false,
    "id": "f1eddb90-4ba8-483c-a229-77e93aa53119"
   },
   "source": [
    "### Writing functions to extract location, company, job, salary and the URL for the full job description/info.\n",
    "\n",
    "Having pulled the HTML pages, I have written functions below to help extract the information needed. I've tested the functions on the one instance above before integrating into a continuous search.\n"
   ]
  },
  {
   "cell_type": "code",
   "execution_count": 5,
   "metadata": {},
   "outputs": [
    {
     "name": "stdout",
     "output_type": "stream",
     "text": [
      "['£50,000 - £57,000 a year', nan, '£50,000 - £60,000 a year', nan, nan, nan, '£50,000 - £110,000 a year', nan, '£50,000 - £70,000 a year', nan, nan, nan, nan, '£56,480 - £80,764 a year', '£46,332 - £51,480 a year']\n",
      "15\n"
     ]
    }
   ],
   "source": [
    "def extract_salary_from_result(result):\n",
    "    salaries = []\n",
    "    for i in result:\n",
    "        try:\n",
    "            salaries.append(i.find('span',attrs={'class':\"salaryText\"}).text.strip())\n",
    "        except:\n",
    "            salaries.append(np.nan)\n",
    "    return salaries\n",
    "\n",
    "#Testing the function on the intial scrape above, making sure all lengths align\n",
    "print(extract_salary_from_result(result))\n",
    "print(len(extract_salary_from_result(result)))"
   ]
  },
  {
   "cell_type": "code",
   "execution_count": 6,
   "metadata": {},
   "outputs": [
    {
     "name": "stdout",
     "output_type": "stream",
     "text": [
      "['Data Scientist - Machine Learning', 'Data Scientist - Fusion', 'Data Scientist', 'Junior Data Scientist', 'Data Scientist (Portfolio)', 'Junior Data Scientist', 'Data Scientist', 'Junior Data Scientist', 'Product Data Scientist', 'Junior Data Scientist', 'Graduate Technology Forensic Data Analytics London 2021', 'Data Scientist', 'Graduate Data Scientist', 'Lead Data Scientist', 'Data Scientist']\n",
      "15\n"
     ]
    }
   ],
   "source": [
    "def extract_jobtitle_from_result(result):\n",
    "    jobtitles = []\n",
    "    for i in result:\n",
    "        try:\n",
    "            jobtitles.append(i.find('a',attrs={'class':\"jobtitle turnstileLink\"}).text.strip())\n",
    "        except:\n",
    "            jobtitles.append(np.nan)\n",
    "    return jobtitles\n",
    "\n",
    "#Testing the function on the intial scrape above, making sure all lengths align\n",
    "print(extract_jobtitle_from_result(result))\n",
    "print(len(extract_jobtitle_from_result(result)))"
   ]
  },
  {
   "cell_type": "code",
   "execution_count": 7,
   "metadata": {},
   "outputs": [
    {
     "name": "stdout",
     "output_type": "stream",
     "text": [
      "['Cabot Financial', 'Mindshare', 'Transport for London', 'EDF Energy Limited', 'Founders Factory', 'Novafutur', 'Scarlet Oak Partners', 'Tripledot Studios', 'Data Idols', 'Brainlabs', 'PwC', 'W2O Group', 'RELX Group', \"UK Government - Government Actuary's Department\", 'Lloyds Banking Group']\n",
      "15\n"
     ]
    }
   ],
   "source": [
    "def extract_company_from_result(result):\n",
    "    companies = []\n",
    "    for i in result:\n",
    "        try:\n",
    "            companies.append(i.find('span',attrs={'class':\"company\"}).text.strip())\n",
    "        except:\n",
    "            companies.append(np.nan)\n",
    "    return companies\n",
    "\n",
    "#Testing the function on the intial scrape above, making sure all lengths align\n",
    "print(extract_company_from_result(result))\n",
    "print(len(extract_company_from_result(result)))"
   ]
  },
  {
   "cell_type": "code",
   "execution_count": 8,
   "metadata": {},
   "outputs": [
    {
     "name": "stdout",
     "output_type": "stream",
     "text": [
      "['London', 'London', 'London', 'London', 'London', 'London', 'London', 'London', 'London', 'London', 'London', 'London', 'London', 'London', 'London']\n",
      "15\n"
     ]
    }
   ],
   "source": [
    "def extract_location_from_result(result):\n",
    "    locations = []\n",
    "    locations_noPostCode = []\n",
    "    for i in result:\n",
    "        try:\n",
    "            locations.append(i.find('span',attrs={'class':\"location\"}).text.strip())\n",
    "        except:\n",
    "            try:\n",
    "                locations.append(i.find('div',attrs={'class':\"location accessible-contrast-color-location\"}).text.strip())\n",
    "            except:\n",
    "                locations.append(np.nan)\n",
    "    #This is to clean up location code and remove any postcodes that might be there\n",
    "    for x in locations:\n",
    "        try:\n",
    "            temp_list = []\n",
    "            y = x.split()\n",
    "            for z in y:\n",
    "                if re.findall(r'\\d',z) == []:\n",
    "                    temp_list.append(z)\n",
    "            locations_noPostCode.append(' '.join(temp_list))\n",
    "        except:\n",
    "            locations_noPostCode.append(x)\n",
    "    return locations_noPostCode\n",
    "\n",
    "#Testing the function on the intial scrape above, making sure all lengths align\n",
    "print(extract_location_from_result(result))\n",
    "print(len(extract_location_from_result(result)))"
   ]
  },
  {
   "cell_type": "code",
   "execution_count": 9,
   "metadata": {},
   "outputs": [
    {
     "name": "stdout",
     "output_type": "stream",
     "text": [
      "['https://uk.indeed.com/viewjob?jk=4528cc13a9c63e55', 'https://uk.indeed.com/viewjob?jk=a7b19a46674839b0', 'https://uk.indeed.com/viewjob?jk=76530e446c2bc0bd', 'https://uk.indeed.com/viewjob?jk=accfbeb9b29f21a7', 'https://uk.indeed.com/viewjob?jk=c31aba9464e23c85', 'https://uk.indeed.com/viewjob?jk=65cc8df228f482e3', 'https://uk.indeed.com/viewjob?jk=7a7f046635dfdb30', 'https://uk.indeed.com/viewjob?jk=7fe044c528a74866', 'https://uk.indeed.com/viewjob?jk=d0ff236847142219', 'https://uk.indeed.com/viewjob?jk=a16eeca018425b74', 'https://uk.indeed.com/viewjob?jk=146bf744ac8a8da0', 'https://uk.indeed.com/viewjob?jk=59f73c0960b0fc49', 'https://uk.indeed.com/viewjob?jk=143ac1dbd83b88b0', 'https://uk.indeed.com/viewjob?jk=b5ccd26a1f54988f', 'https://uk.indeed.com/viewjob?jk=8346f45147e6c5af']\n",
      "15\n"
     ]
    }
   ],
   "source": [
    "def extract_url_from_result(result):\n",
    "    urls = []\n",
    "    for i in result:\n",
    "        try:\n",
    "            j_id = str((i.find('div',attrs={'class':\"recJobLoc\"}))).split('id=\"recJobLoc_')[1].split('\"')[0]\n",
    "            j_url = 'https://uk.indeed.com/viewjob?jk='\n",
    "            urls.append(j_url+j_id)\n",
    "        except:\n",
    "            urls.append(np.nan)\n",
    "    return urls\n",
    "\n",
    "#Testing the function on the intial scrape above, making sure all lengths align\n",
    "print(extract_url_from_result(result))\n",
    "print(len(extract_url_from_result(result)))"
   ]
  },
  {
   "cell_type": "code",
   "execution_count": 10,
   "metadata": {},
   "outputs": [],
   "source": [
    "def extract_job_level(job_title):\n",
    "    low_level = ['intern', 'apprenticeship','studentship','internship','apprentice','assistant']\n",
    "    low_to_mid = ['junior','jr','graduate']\n",
    "    high_level = ['principal','head','lead','senior','snr','manager']\n",
    "    words = job_title.replace('(','').replace(')','').split(' ')\n",
    "    for word in words:\n",
    "        if word.lower() in high_level:\n",
    "            return 'high'\n",
    "        elif word.lower() in low_to_mid:\n",
    "            return 'low to mid'\n",
    "        elif word.lower() in low_level:\n",
    "            return 'low'\n",
    "        else:\n",
    "            pass\n",
    "    return 'mid'"
   ]
  },
  {
   "cell_type": "markdown",
   "metadata": {
    "focus": false,
    "id": "e8beed7c-3e42-40c0-810f-5f67f8f885a0"
   },
   "source": [
    "#### Now I have the functions and the ability to scrape pages displaying 15 postings, I can run through the pages indexed to keep pulling more and more info.\n",
    "\n",
    "I've created some parameters to iterate through (cities & job titles). This then makes a list of results like the one above and allows me to run the functions on them to extract the info needed. I've done it this way so if in the future I decide there's additional info I could use, I can just extract it at this stage rather than running the full scrape again.\n",
    "\n",
    "In the scraping function there's also an exception for when BeautifulSoup triggers the captcha page, as well as delays to try and insure this doesn't happen too frequently.\n"
   ]
  },
  {
   "cell_type": "code",
   "execution_count": 11,
   "metadata": {},
   "outputs": [],
   "source": [
    "#List of every city in the UK.\n",
    "cities = ['London',\n",
    " 'Birmingham',\n",
    " 'Leeds',\n",
    " 'Glasgow',\n",
    " 'Sheffield',\n",
    " 'Bradford',\n",
    " 'Edinburgh',\n",
    " 'Liverpool',\n",
    " 'Manchester',\n",
    " 'Bristol',\n",
    " 'Wakefield',\n",
    " 'Cardiff',\n",
    " 'Coventry',\n",
    " 'Nottingham',\n",
    " 'Leicester',\n",
    " 'Sunderland',\n",
    " 'Belfast',\n",
    " 'Newcastle+upon+Tyne',\n",
    " 'Brighton',\n",
    " 'Hull',\n",
    " 'Plymouth',\n",
    " 'Stoke-on-Trent',\n",
    " 'Wolverhampton',\n",
    " 'Derby',\n",
    " 'Swansea',\n",
    " 'Southampton',\n",
    " 'Salford',\n",
    " 'Aberdeen',\n",
    " 'Westminster',\n",
    " 'Portsmouth',\n",
    " 'York',\n",
    " 'Peterborough',\n",
    " 'Dundee',\n",
    " 'Lancaster',\n",
    " 'Oxford',\n",
    " 'Newport',\n",
    " 'Preston',\n",
    " 'St+Albans',\n",
    " 'Norwich',\n",
    " 'Chester',\n",
    " 'Cambridge',\n",
    " 'Salisbury',\n",
    " 'Exeter',\n",
    " 'Gloucester',\n",
    " 'Lisburn',\n",
    " 'Chichester',\n",
    " 'Winchester',\n",
    " 'Londonderry',\n",
    " 'Carlisle',\n",
    " 'Worcester',\n",
    " 'Bath',\n",
    " 'Durham',\n",
    " 'Lincoln',\n",
    " 'Hereford',\n",
    " 'Armagh',\n",
    " 'Inverness',\n",
    " 'Stirling',\n",
    " 'Canterbury',\n",
    " 'Lichfield',\n",
    " 'Newry',\n",
    " 'Ripon',\n",
    " 'Bangor',\n",
    " 'Truro',\n",
    "]"
   ]
  },
  {
   "cell_type": "code",
   "execution_count": 12,
   "metadata": {},
   "outputs": [],
   "source": [
    "##all job titles. As the scrape is continued these get removed so we don't keep scraping the same listings.\n",
    "job_titles = ['data+scientist', 'data+analyst', 'data+engineer', 'machine+learning', 'business+intelligence','Quantitative+Analyst','Statistician']"
   ]
  },
  {
   "cell_type": "code",
   "execution_count": null,
   "metadata": {},
   "outputs": [],
   "source": [
    "# results = []\n",
    "# city_completed = []"
   ]
  },
  {
   "cell_type": "code",
   "execution_count": 13,
   "metadata": {
    "focus": false,
    "id": "04b0f9af-540e-402f-8292-81748707c676"
   },
   "outputs": [],
   "source": [
    "# #this is the indeed job scraping code.\n",
    "# #iterating through all the pottential job titles\n",
    "# for job_title in job_titles:  \n",
    "#     #iterating through all the cities\n",
    "#     for city in tqdm(cities):\n",
    "#         #preliminary search to check for max results per city to minimise scraping duplicates\n",
    "#         try:\n",
    "#             max_results = int(BeautifulSoup(requests.get(f'https://uk.indeed.com/jobs?q={job_title}&l={city}').text,\n",
    "#                                             'html.parser').find('div',attrs={'id':'searchCountPages'}\n",
    "#                                             ).text.strip().replace(',','').replace(' jobs','').split('of ')[1])\n",
    "#         except:\n",
    "#             max_results = 1\n",
    "        \n",
    "#         #start of main scrape\n",
    "#         for start in range(0, max_results, 15):\n",
    "#             url_template = f'https://uk.indeed.com/jobs?q={job_title}&l={city}&start={start}&radius=5'\n",
    "#             time.sleep(5)\n",
    "#             r = requests.get(url_template)\n",
    "#             soup = BeautifulSoup(r.text, 'html.parser')\n",
    "            \n",
    "#             #if we trigger the captcha page, lets me know and stops the loop.\n",
    "#             if soup.find('title').text == 'hCaptcha solve page':\n",
    "#                 print(soup.find('title').text)\n",
    "#                 break\n",
    "                \n",
    "#             #scrapes the entire page and add it to the results list. This means if I decide late I want addition info\n",
    "#             #from the page I can still extract it.\n",
    "#             results += (soup.find_all('div',attrs={'class':'result'}))\n",
    "            \n",
    "#             #running counter so if my scrape gets stopped I know how far through I've got.\n",
    "#             city_completed.append((job_title,city,start))\n",
    "#             pass\n",
    "        \n",
    "#         #running counter so I know when I've completed each city.\n",
    "#         city_completed.append((job_title,city,'completed'))"
   ]
  },
  {
   "cell_type": "markdown",
   "metadata": {
    "focus": false,
    "id": "20339c09-5032-4e27-91be-286e9b46cd13"
   },
   "source": [
    "#### Using the functions above to parse out the 5 fields - location, title, company, salary and URL. Creating a dataframe from the results with those 5 columns. On inspection there were lots of duplicates, so I've removed those. I've also removed any listings where the salary info was in day/hourly to leave only yearly salary."
   ]
  },
  {
   "cell_type": "code",
   "execution_count": 14,
   "metadata": {},
   "outputs": [],
   "source": [
    "# df= pd.DataFrame()\n",
    "# df['location'] = extract_location_from_result(results)\n",
    "# df['company'] = extract_company_from_result(results)\n",
    "# df['job_title'] = extract_jobtitle_from_result(results)\n",
    "# df['salary'] = extract_salary_from_result(results)\n",
    "# #extracting job level from the title (low,mid,high)\n",
    "# df['job_level'] = df['job_title'].apply(extract_job_level)\n",
    "# #extracting the url for the full job posting on the indeed website\n",
    "# df['job_url'] = extract_url_from_result(results)"
   ]
  },
  {
   "cell_type": "code",
   "execution_count": 15,
   "metadata": {},
   "outputs": [
    {
     "ename": "NameError",
     "evalue": "name 'df' is not defined",
     "output_type": "error",
     "traceback": [
      "\u001b[0;31m---------------------------------------------------------------------------\u001b[0m",
      "\u001b[0;31mNameError\u001b[0m                                 Traceback (most recent call last)",
      "\u001b[0;32m<ipython-input-15-97e2c2affe1a>\u001b[0m in \u001b[0;36m<module>\u001b[0;34m\u001b[0m\n\u001b[0;32m----> 1\u001b[0;31m \u001b[0mfinal_df\u001b[0m \u001b[0;34m=\u001b[0m \u001b[0mdf\u001b[0m\u001b[0;34m.\u001b[0m\u001b[0mcopy\u001b[0m\u001b[0;34m(\u001b[0m\u001b[0;34m)\u001b[0m\u001b[0;34m\u001b[0m\u001b[0;34m\u001b[0m\u001b[0m\n\u001b[0m",
      "\u001b[0;31mNameError\u001b[0m: name 'df' is not defined"
     ]
    }
   ],
   "source": [
    "final_df = df.copy()"
   ]
  },
  {
   "cell_type": "code",
   "execution_count": 16,
   "metadata": {},
   "outputs": [
    {
     "ename": "NameError",
     "evalue": "name 'final_df' is not defined",
     "output_type": "error",
     "traceback": [
      "\u001b[0;31m---------------------------------------------------------------------------\u001b[0m",
      "\u001b[0;31mNameError\u001b[0m                                 Traceback (most recent call last)",
      "\u001b[0;32m<ipython-input-16-92dbf13d5df5>\u001b[0m in \u001b[0;36m<module>\u001b[0;34m\u001b[0m\n\u001b[1;32m      1\u001b[0m \u001b[0;31m#only include rows with salary info that includes \"a year\", to remove NaN values and day/hourly rates\u001b[0m\u001b[0;34m\u001b[0m\u001b[0;34m\u001b[0m\u001b[0;34m\u001b[0m\u001b[0m\n\u001b[0;32m----> 2\u001b[0;31m \u001b[0mfinal_df\u001b[0m \u001b[0;34m=\u001b[0m \u001b[0mfinal_df\u001b[0m\u001b[0;34m[\u001b[0m\u001b[0mfinal_df\u001b[0m\u001b[0;34m[\u001b[0m\u001b[0;34m'salary'\u001b[0m\u001b[0;34m]\u001b[0m\u001b[0;34m.\u001b[0m\u001b[0mstr\u001b[0m\u001b[0;34m.\u001b[0m\u001b[0mcontains\u001b[0m\u001b[0;34m(\u001b[0m\u001b[0;34m\"a year\"\u001b[0m\u001b[0;34m,\u001b[0m \u001b[0mna\u001b[0m\u001b[0;34m=\u001b[0m\u001b[0;32mFalse\u001b[0m\u001b[0;34m)\u001b[0m\u001b[0;34m]\u001b[0m\u001b[0;34m\u001b[0m\u001b[0;34m\u001b[0m\u001b[0m\n\u001b[0m\u001b[1;32m      3\u001b[0m \u001b[0;31m#dropping duplicates\u001b[0m\u001b[0;34m\u001b[0m\u001b[0;34m\u001b[0m\u001b[0;34m\u001b[0m\u001b[0m\n\u001b[1;32m      4\u001b[0m \u001b[0mfinal_df\u001b[0m\u001b[0;34m.\u001b[0m\u001b[0mdrop_duplicates\u001b[0m\u001b[0;34m(\u001b[0m\u001b[0mkeep\u001b[0m\u001b[0;34m=\u001b[0m\u001b[0;34m\"first\"\u001b[0m\u001b[0;34m,\u001b[0m \u001b[0minplace\u001b[0m\u001b[0;34m=\u001b[0m\u001b[0;32mTrue\u001b[0m\u001b[0;34m)\u001b[0m\u001b[0;34m\u001b[0m\u001b[0;34m\u001b[0m\u001b[0m\n",
      "\u001b[0;31mNameError\u001b[0m: name 'final_df' is not defined"
     ]
    }
   ],
   "source": [
    "#only include rows with salary info that includes \"a year\", to remove NaN values and day/hourly rates\n",
    "final_df = final_df[final_df['salary'].str.contains(\"a year\", na=False)]\n",
    "#dropping duplicates\n",
    "final_df.drop_duplicates(keep=\"first\", inplace=True)"
   ]
  },
  {
   "cell_type": "markdown",
   "metadata": {
    "focus": false,
    "id": "7d4bc860-b214-4f75-9cd0-b234830b1ec2"
   },
   "source": [
    "#### Here I've created a function to deal with any salarys in a range to take the middle of the values."
   ]
  },
  {
   "cell_type": "code",
   "execution_count": 17,
   "metadata": {},
   "outputs": [],
   "source": [
    "def salary_stripper(x):\n",
    "    #all the jobs are in the UK so all currencies are in £\n",
    "    try:\n",
    "        j = x.replace('a year', '').replace('£','').replace(',','')\n",
    "        return int(j)\n",
    "    except:\n",
    "        pass\n",
    "    #if there salary is as a range, split around the '-' and take the average.\n",
    "    try:\n",
    "        h = x.replace('a year', '').replace('£','').replace(',','').split(' - ')\n",
    "        return  (int(h[0]) + int(h[1]))/2\n",
    "    except:\n",
    "        pass"
   ]
  },
  {
   "cell_type": "code",
   "execution_count": null,
   "metadata": {},
   "outputs": [],
   "source": [
    "final_df.salary = final_df.salary.apply(salary_stripper)"
   ]
  },
  {
   "cell_type": "code",
   "execution_count": null,
   "metadata": {
    "scrolled": true
   },
   "outputs": [],
   "source": [
    "final_df.head()"
   ]
  },
  {
   "cell_type": "code",
   "execution_count": null,
   "metadata": {},
   "outputs": [],
   "source": [
    "#this for loop runs through each job url and pulls the full description from the unique web page for each job.\n",
    "#without this, I would have only been able to get a couple of lines from the job card.\n",
    "# counter = 0\n",
    "# job_descriptions = []\n",
    "for url in tqdm(final_df.job_url):\n",
    "    time.sleep(5)\n",
    "    r=requests.get(url)\n",
    "    soup=BeautifulSoup(r.text,'html.parser')\n",
    "    if soup.find('title').text == 'hCaptcha solve page':\n",
    "        print(soup.find('title').text)\n",
    "        break    \n",
    "    try:\n",
    "        job_descriptions.append((url,soup.find('div', attrs={'class':'jobsearch-jobDescriptionText'}).text))\n",
    "    except:\n",
    "        job_descriptions.append((url, np.nan))\n",
    "    counter+= 1"
   ]
  },
  {
   "cell_type": "code",
   "execution_count": null,
   "metadata": {},
   "outputs": [],
   "source": [
    "jd_df = pd.DataFrame(job_descriptions, columns = ['job_url','job_description'])"
   ]
  },
  {
   "cell_type": "code",
   "execution_count": null,
   "metadata": {},
   "outputs": [],
   "source": [
    "jd_df.head()"
   ]
  },
  {
   "cell_type": "code",
   "execution_count": null,
   "metadata": {},
   "outputs": [],
   "source": [
    "#dropping duplicates\n",
    "jd_df.drop_duplicates(keep=\"first\", inplace=True)"
   ]
  },
  {
   "cell_type": "code",
   "execution_count": null,
   "metadata": {},
   "outputs": [],
   "source": [
    "completed_df = pd.merge(final_df,jd_df,how='inner', on='job_url')"
   ]
  },
  {
   "cell_type": "markdown",
   "metadata": {
    "focus": false,
    "id": "43e71edd-210e-42b1-9336-70a931f048af"
   },
   "source": [
    "### After creating a data frame above by using the functions, I've saved it below."
   ]
  },
  {
   "cell_type": "code",
   "execution_count": null,
   "metadata": {
    "focus": false,
    "id": "783fd153-28ac-47ab-bfca-27e7c1de95b4"
   },
   "outputs": [],
   "source": [
    "# #hashed this out as I don't want to accidentaly run it and replace my CSV...\n",
    "# completed_df.to_csv(r'../project-4/final_job_df.csv', index = False)"
   ]
  },
  {
   "cell_type": "markdown",
   "metadata": {
    "focus": false,
    "id": "243e949e-2742-40af-872e-fec475fd306c"
   },
   "source": [
    "### Load in the the data of scraped salaries"
   ]
  },
  {
   "cell_type": "code",
   "execution_count": 2,
   "metadata": {
    "focus": false,
    "id": "588f9845-6143-4bcc-bfd1-85d45b79303d"
   },
   "outputs": [],
   "source": [
    "job_postings = pd.read_csv(r'../project-4/final_job_df.csv')"
   ]
  },
  {
   "cell_type": "code",
   "execution_count": 3,
   "metadata": {
    "scrolled": true
   },
   "outputs": [
    {
     "data": {
      "text/html": [
       "<div>\n",
       "<style scoped>\n",
       "    .dataframe tbody tr th:only-of-type {\n",
       "        vertical-align: middle;\n",
       "    }\n",
       "\n",
       "    .dataframe tbody tr th {\n",
       "        vertical-align: top;\n",
       "    }\n",
       "\n",
       "    .dataframe thead th {\n",
       "        text-align: right;\n",
       "    }\n",
       "</style>\n",
       "<table border=\"1\" class=\"dataframe\">\n",
       "  <thead>\n",
       "    <tr style=\"text-align: right;\">\n",
       "      <th></th>\n",
       "      <th>location</th>\n",
       "      <th>company</th>\n",
       "      <th>job_title</th>\n",
       "      <th>salary</th>\n",
       "      <th>job_level</th>\n",
       "      <th>job_url</th>\n",
       "      <th>job_description</th>\n",
       "    </tr>\n",
       "  </thead>\n",
       "  <tbody>\n",
       "    <tr>\n",
       "      <th>0</th>\n",
       "      <td>London</td>\n",
       "      <td>Kubrick Group</td>\n",
       "      <td>Machine Learning Engineer - Graduate Programme</td>\n",
       "      <td>32000.0</td>\n",
       "      <td>low to mid</td>\n",
       "      <td>https://uk.indeed.com/viewjob?jk=87cbd66eee908bea</td>\n",
       "      <td>Do you want to work in a role where you could ...</td>\n",
       "    </tr>\n",
       "    <tr>\n",
       "      <th>1</th>\n",
       "      <td>London</td>\n",
       "      <td>Cabot Financial</td>\n",
       "      <td>Data Scientist - Machine Learning</td>\n",
       "      <td>53500.0</td>\n",
       "      <td>mid</td>\n",
       "      <td>https://uk.indeed.com/viewjob?jk=492079bc2b53c7b2</td>\n",
       "      <td>At Cabot, we pride ourselves on being the best...</td>\n",
       "    </tr>\n",
       "    <tr>\n",
       "      <th>2</th>\n",
       "      <td>London</td>\n",
       "      <td>UK Government - Government Actuary's Department</td>\n",
       "      <td>Lead Data Scientist</td>\n",
       "      <td>68622.0</td>\n",
       "      <td>high</td>\n",
       "      <td>https://uk.indeed.com/viewjob?jk=b5ccd26a1f54988f</td>\n",
       "      <td>The key areas that you would be responsible fo...</td>\n",
       "    </tr>\n",
       "    <tr>\n",
       "      <th>3</th>\n",
       "      <td>London</td>\n",
       "      <td>Great Ormond Street Hospital NHS Foundation Trust</td>\n",
       "      <td>Data Scientist</td>\n",
       "      <td>48586.5</td>\n",
       "      <td>mid</td>\n",
       "      <td>https://uk.indeed.com/viewjob?jk=451417e31d219229</td>\n",
       "      <td>Thanks to the generous support of Great Ormond...</td>\n",
       "    </tr>\n",
       "    <tr>\n",
       "      <th>4</th>\n",
       "      <td>London</td>\n",
       "      <td>Machine Medicine Technologies</td>\n",
       "      <td>Data Scientist</td>\n",
       "      <td>45000.0</td>\n",
       "      <td>mid</td>\n",
       "      <td>https://uk.indeed.com/viewjob?jk=0876b38d3062b0c8</td>\n",
       "      <td>About usMachine Medicine Technologies (MMT) us...</td>\n",
       "    </tr>\n",
       "  </tbody>\n",
       "</table>\n",
       "</div>"
      ],
      "text/plain": [
       "  location                                            company  \\\n",
       "0   London                                      Kubrick Group   \n",
       "1   London                                    Cabot Financial   \n",
       "2   London    UK Government - Government Actuary's Department   \n",
       "3   London  Great Ormond Street Hospital NHS Foundation Trust   \n",
       "4   London                      Machine Medicine Technologies   \n",
       "\n",
       "                                        job_title   salary   job_level  \\\n",
       "0  Machine Learning Engineer - Graduate Programme  32000.0  low to mid   \n",
       "1               Data Scientist - Machine Learning  53500.0         mid   \n",
       "2                             Lead Data Scientist  68622.0        high   \n",
       "3                                  Data Scientist  48586.5         mid   \n",
       "4                                  Data Scientist  45000.0         mid   \n",
       "\n",
       "                                             job_url  \\\n",
       "0  https://uk.indeed.com/viewjob?jk=87cbd66eee908bea   \n",
       "1  https://uk.indeed.com/viewjob?jk=492079bc2b53c7b2   \n",
       "2  https://uk.indeed.com/viewjob?jk=b5ccd26a1f54988f   \n",
       "3  https://uk.indeed.com/viewjob?jk=451417e31d219229   \n",
       "4  https://uk.indeed.com/viewjob?jk=0876b38d3062b0c8   \n",
       "\n",
       "                                     job_description  \n",
       "0  Do you want to work in a role where you could ...  \n",
       "1  At Cabot, we pride ourselves on being the best...  \n",
       "2  The key areas that you would be responsible fo...  \n",
       "3  Thanks to the generous support of Great Ormond...  \n",
       "4  About usMachine Medicine Technologies (MMT) us...  "
      ]
     },
     "execution_count": 3,
     "metadata": {},
     "output_type": "execute_result"
    }
   ],
   "source": [
    "job_postings.head()"
   ]
  },
  {
   "cell_type": "code",
   "execution_count": 4,
   "metadata": {},
   "outputs": [
    {
     "data": {
      "text/plain": [
       "(1228, 7)"
      ]
     },
     "execution_count": 4,
     "metadata": {},
     "output_type": "execute_result"
    }
   ],
   "source": [
    "job_postings.shape"
   ]
  },
  {
   "cell_type": "code",
   "execution_count": 5,
   "metadata": {},
   "outputs": [
    {
     "data": {
      "text/plain": [
       "1227"
      ]
     },
     "execution_count": 5,
     "metadata": {},
     "output_type": "execute_result"
    }
   ],
   "source": [
    "job_postings.job_url.nunique()"
   ]
  },
  {
   "cell_type": "code",
   "execution_count": 6,
   "metadata": {},
   "outputs": [],
   "source": [
    "#noticed the number of unique urls doesn't match up with the number of columns, dropping duplicates on the url column.\n",
    "job_postings.drop_duplicates(subset='job_url',keep=\"first\", inplace=True)"
   ]
  },
  {
   "cell_type": "markdown",
   "metadata": {
    "focus": false,
    "id": "c7631f51-07f2-4c79-a093-3e9bc7849a48"
   },
   "source": [
    "### We want to predict a binary variable - whether the salary was low or high. Compute the median salary and create a new binary variable that is true when the salary is high (above the median).\n",
    "\n",
    "We could also perform Linear Regression (or any regression) to predict the salary value here. Instead, we are going to convert this into a _binary_ classification problem, by predicting two classes, HIGH vs LOW salary.\n",
    "\n",
    "While performing regression may be better, performing classification may help remove some of the noise of the extreme salaries. We don't have to choose the `median` as the splitting point - we could also split on the 75th percentile or any other reasonable breaking point.\n",
    "\n",
    "In fact, the ideal scenario may be to predict many levels of salaries."
   ]
  },
  {
   "cell_type": "code",
   "execution_count": 7,
   "metadata": {},
   "outputs": [],
   "source": [
    "#if job salary is above median I am considering it to be high, everything else is low.\n",
    "job_postings['is_high'] = job_postings.salary.apply(lambda x: 1 if x > job_postings.salary.median() else 0)"
   ]
  },
  {
   "cell_type": "markdown",
   "metadata": {
    "focus": false,
    "id": "a7afb2c0-d41e-4779-8216-91cd8dd4473f"
   },
   "source": [
    "#### Thought experiment: What is the baseline accuracy for this model?"
   ]
  },
  {
   "cell_type": "code",
   "execution_count": 29,
   "metadata": {
    "focus": false,
    "id": "87a17d3d-b7f4-4747-9f75-f9af1d18a174",
    "scrolled": true
   },
   "outputs": [
    {
     "data": {
      "text/plain": [
       "0.5052974735126324"
      ]
     },
     "execution_count": 29,
     "metadata": {},
     "output_type": "execute_result"
    }
   ],
   "source": [
    "job_postings.is_high.value_counts(normalize=True).max()"
   ]
  },
  {
   "cell_type": "markdown",
   "metadata": {
    "focus": false,
    "id": "4fb29de2-5b98-474c-a4ad-5170b72b9aea"
   },
   "source": [
    "### Create a classification model to predict High/Low salary. \n",
    "\n",
    "\n",
    "- Start by ONLY using the location as a feature.\n",
    "- Use at least two different classifiers you find suitable.\n",
    "- Remember that scaling your features might be necessary.\n",
    "- Display the coefficients/feature importances and write a short summary of what they mean.\n",
    "- Create a few new variables in your dataframe to represent interesting features of a job title (e.g. whether 'Senior' or 'Manager' is in the title).\n",
    "- Incorporate other text features from the title or summary that you believe will predict the salary.\n",
    "- Then build new classification models including also those features. Do they add any value?\n",
    "- Tune your models by testing parameter ranges, regularization strengths, etc. Discuss how that affects your models.\n",
    "- Discuss model coefficients or feature importances as applicable."
   ]
  },
  {
   "cell_type": "code",
   "execution_count": 30,
   "metadata": {},
   "outputs": [],
   "source": [
    "from sklearn.model_selection import train_test_split, cross_val_score\n",
    "from sklearn.preprocessing import StandardScaler\n",
    "from sklearn.linear_model import LogisticRegression, LogisticRegressionCV\n",
    "from sklearn.tree import DecisionTreeClassifier\n",
    "from sklearn.ensemble.bagging import BaggingClassifier\n",
    "from sklearn.metrics import confusion_matrix\n",
    "from sklearn.neighbors import KNeighborsClassifier\n",
    "import matplotlib.pyplot as plt"
   ]
  },
  {
   "cell_type": "code",
   "execution_count": 31,
   "metadata": {},
   "outputs": [],
   "source": [
    "#model fitting function for easy modeling.\n",
    "def model_fitter(model, X_train, y_train, X_test, y_test, cv=5):\n",
    "    model.fit(X_train, y_train)\n",
    "    cv_score = np.mean(cross_val_score(model, X_train, y_train, cv=cv))\n",
    "    training_score = model.score(X_train, y_train)\n",
    "    test_score = model.score(X_test, y_test)\n",
    "    return model, cv_score, training_score, test_score"
   ]
  },
  {
   "cell_type": "markdown",
   "metadata": {},
   "source": [
    "### The following models use only location as a predictor.\n",
    "\n",
    "##### When looking at the coefficients, we can see that jobs in London represent the greatest indicator of above average salary. This is to be expected as there is a 'London weighting' were salaries are on average £2000 higher because of the increased cost of living."
   ]
  },
  {
   "cell_type": "code",
   "execution_count": 32,
   "metadata": {},
   "outputs": [
    {
     "data": {
      "text/html": [
       "<div>\n",
       "<style scoped>\n",
       "    .dataframe tbody tr th:only-of-type {\n",
       "        vertical-align: middle;\n",
       "    }\n",
       "\n",
       "    .dataframe tbody tr th {\n",
       "        vertical-align: top;\n",
       "    }\n",
       "\n",
       "    .dataframe thead th {\n",
       "        text-align: right;\n",
       "    }\n",
       "</style>\n",
       "<table border=\"1\" class=\"dataframe\">\n",
       "  <thead>\n",
       "    <tr style=\"text-align: right;\">\n",
       "      <th></th>\n",
       "      <th>model</th>\n",
       "      <th>cv score</th>\n",
       "      <th>training score</th>\n",
       "      <th>test score</th>\n",
       "    </tr>\n",
       "  </thead>\n",
       "  <tbody>\n",
       "    <tr>\n",
       "      <th>0</th>\n",
       "      <td>LogisticRegression()</td>\n",
       "      <td>0.635046</td>\n",
       "      <td>0.689093</td>\n",
       "      <td>0.691057</td>\n",
       "    </tr>\n",
       "    <tr>\n",
       "      <th>1</th>\n",
       "      <td>DecisionTreeClassifier()</td>\n",
       "      <td>0.635046</td>\n",
       "      <td>0.689093</td>\n",
       "      <td>0.691057</td>\n",
       "    </tr>\n",
       "    <tr>\n",
       "      <th>2</th>\n",
       "      <td>(DecisionTreeClassifier(random_state=405745811...</td>\n",
       "      <td>0.638113</td>\n",
       "      <td>0.677880</td>\n",
       "      <td>0.662602</td>\n",
       "    </tr>\n",
       "    <tr>\n",
       "      <th>3</th>\n",
       "      <td>KNeighborsClassifier()</td>\n",
       "      <td>0.547457</td>\n",
       "      <td>0.658512</td>\n",
       "      <td>0.686992</td>\n",
       "    </tr>\n",
       "    <tr>\n",
       "      <th>4</th>\n",
       "      <td>LogisticRegressionCV(Cs=array([1.00000000e-04,...</td>\n",
       "      <td>0.644230</td>\n",
       "      <td>0.658512</td>\n",
       "      <td>0.695122</td>\n",
       "    </tr>\n",
       "  </tbody>\n",
       "</table>\n",
       "</div>"
      ],
      "text/plain": [
       "                                               model  cv score  \\\n",
       "0                               LogisticRegression()  0.635046   \n",
       "1                           DecisionTreeClassifier()  0.635046   \n",
       "2  (DecisionTreeClassifier(random_state=405745811...  0.638113   \n",
       "3                             KNeighborsClassifier()  0.547457   \n",
       "4  LogisticRegressionCV(Cs=array([1.00000000e-04,...  0.644230   \n",
       "\n",
       "   training score  test score  \n",
       "0        0.689093    0.691057  \n",
       "1        0.689093    0.691057  \n",
       "2        0.677880    0.662602  \n",
       "3        0.658512    0.686992  \n",
       "4        0.658512    0.695122  "
      ]
     },
     "execution_count": 32,
     "metadata": {},
     "output_type": "execute_result"
    }
   ],
   "source": [
    "X = pd.get_dummies(job_postings[['location','is_high']].copy())\n",
    "y = X.pop('is_high')\n",
    "\n",
    "X_train, X_test, y_train, y_test = train_test_split(\n",
    "    X, y, test_size=0.2, random_state=1)\n",
    "\n",
    "scaler = StandardScaler()\n",
    "X_train = pd.DataFrame(scaler.fit_transform(X_train), \n",
    "                       columns=X_train.columns)\n",
    "X_test = pd.DataFrame(scaler.transform(X_test), \n",
    "                      columns=X_train.columns)\n",
    "\n",
    "#creating an empty list for each model to append scores into\n",
    "just_location = []\n",
    "\n",
    "LR = LogisticRegression()\n",
    "just_location.append(model_fitter(LR, X_train, y_train, X_test, y_test, cv=5))\n",
    "\n",
    "dtc = DecisionTreeClassifier()\n",
    "just_location.append(model_fitter(dtc, X_train, y_train, X_test, y_test, cv=5))\n",
    "\n",
    "BC = BaggingClassifier()\n",
    "just_location.append(model_fitter(BC, X_train, y_train, X_test, y_test, cv=5))\n",
    "\n",
    "knn = KNeighborsClassifier(n_neighbors=5)\n",
    "just_location.append(model_fitter(knn, X_train, y_train, X_test, y_test, cv=5))\n",
    "\n",
    "LRCV = LogisticRegressionCV(Cs=np.logspace(-4, 4, 10),penalty = 'l1', cv=5, solver='liblinear')\n",
    "just_location.append(model_fitter(LRCV, X_train, y_train, X_test, y_test, cv=5))\n",
    "\n",
    "pd.DataFrame(just_location, columns = ['model','cv score','training score','test score'])"
   ]
  },
  {
   "cell_type": "code",
   "execution_count": 33,
   "metadata": {
    "scrolled": true
   },
   "outputs": [
    {
     "data": {
      "image/png": "[encoded data removed]",
      "text/plain": [
       "<Figure size 576x1584 with 1 Axes>"
      ]
     },
     "metadata": {
      "needs_background": "light"
     },
     "output_type": "display_data"
    }
   ],
   "source": [
    "pd.DataFrame(list(zip(X.columns, LR.coef_[0])), \n",
    "             columns=['feature', 'coef'])\\\n",
    "    .sort_values(by='coef') \\\n",
    "    .plot(kind='barh', x='feature', y='coef', figsize=(8, 22))\n",
    "plt.show()"
   ]
  },
  {
   "cell_type": "markdown",
   "metadata": {},
   "source": [
    "#### The following models use job level as a predictor.\n",
    "Unsurprisngly, the high level jobs are the most likely to garnish a high salary. Common sense dictates that the next category to follow would be mid level, then low to mid, followed by low. This however is not the case. This could be due to classification errors (Mid encompasses any job title which didn't fall into the other classes). There is a limited number of 'low' level jobs (22) so the sample size is small, and on inspection some of those have been classified as 'low' because they contain 'assistant', but in reality are more senior positions."
   ]
  },
  {
   "cell_type": "code",
   "execution_count": 34,
   "metadata": {},
   "outputs": [
    {
     "data": {
      "text/html": [
       "<div>\n",
       "<style scoped>\n",
       "    .dataframe tbody tr th:only-of-type {\n",
       "        vertical-align: middle;\n",
       "    }\n",
       "\n",
       "    .dataframe tbody tr th {\n",
       "        vertical-align: top;\n",
       "    }\n",
       "\n",
       "    .dataframe thead th {\n",
       "        text-align: right;\n",
       "    }\n",
       "</style>\n",
       "<table border=\"1\" class=\"dataframe\">\n",
       "  <thead>\n",
       "    <tr style=\"text-align: right;\">\n",
       "      <th></th>\n",
       "      <th>model</th>\n",
       "      <th>cv score</th>\n",
       "      <th>training score</th>\n",
       "      <th>test score</th>\n",
       "    </tr>\n",
       "  </thead>\n",
       "  <tbody>\n",
       "    <tr>\n",
       "      <th>0</th>\n",
       "      <td>LogisticRegression()</td>\n",
       "      <td>0.629954</td>\n",
       "      <td>0.629969</td>\n",
       "      <td>0.658537</td>\n",
       "    </tr>\n",
       "    <tr>\n",
       "      <th>1</th>\n",
       "      <td>DecisionTreeClassifier()</td>\n",
       "      <td>0.629954</td>\n",
       "      <td>0.629969</td>\n",
       "      <td>0.658537</td>\n",
       "    </tr>\n",
       "    <tr>\n",
       "      <th>2</th>\n",
       "      <td>(DecisionTreeClassifier(random_state=180264560...</td>\n",
       "      <td>0.629954</td>\n",
       "      <td>0.629969</td>\n",
       "      <td>0.658537</td>\n",
       "    </tr>\n",
       "    <tr>\n",
       "      <th>3</th>\n",
       "      <td>KNeighborsClassifier()</td>\n",
       "      <td>0.549461</td>\n",
       "      <td>0.629969</td>\n",
       "      <td>0.658537</td>\n",
       "    </tr>\n",
       "  </tbody>\n",
       "</table>\n",
       "</div>"
      ],
      "text/plain": [
       "                                               model  cv score  \\\n",
       "0                               LogisticRegression()  0.629954   \n",
       "1                           DecisionTreeClassifier()  0.629954   \n",
       "2  (DecisionTreeClassifier(random_state=180264560...  0.629954   \n",
       "3                             KNeighborsClassifier()  0.549461   \n",
       "\n",
       "   training score  test score  \n",
       "0        0.629969    0.658537  \n",
       "1        0.629969    0.658537  \n",
       "2        0.629969    0.658537  \n",
       "3        0.629969    0.658537  "
      ]
     },
     "execution_count": 34,
     "metadata": {},
     "output_type": "execute_result"
    }
   ],
   "source": [
    "X = pd.get_dummies(job_postings[['job_level','is_high']].copy())\n",
    "y = X.pop('is_high')\n",
    "\n",
    "X_train, X_test, y_train, y_test = train_test_split(\n",
    "    X, y, test_size=0.2, random_state=1)\n",
    "\n",
    "scaler = StandardScaler()\n",
    "X_train = pd.DataFrame(scaler.fit_transform(X_train), \n",
    "                       columns=X_train.columns)\n",
    "X_test = pd.DataFrame(scaler.transform(X_test), \n",
    "                      columns=X_train.columns)\n",
    "\n",
    "#creating an empty list for each model to append scores into\n",
    "just_location = []\n",
    "\n",
    "LR = LogisticRegression()\n",
    "just_location.append(model_fitter(LR, X_train, y_train, X_test, y_test, cv=5))\n",
    "\n",
    "dtc = DecisionTreeClassifier()\n",
    "just_location.append(model_fitter(dtc, X_train, y_train, X_test, y_test, cv=5))\n",
    "\n",
    "BC = BaggingClassifier()\n",
    "just_location.append(model_fitter(BC, X_train, y_train, X_test, y_test, cv=5))\n",
    "\n",
    "knn = KNeighborsClassifier(n_neighbors=5)\n",
    "just_location.append(model_fitter(knn, X_train, y_train, X_test, y_test, cv=5))\n",
    "\n",
    "pd.DataFrame(just_location, columns = ['model','cv score','training score','test score'])"
   ]
  },
  {
   "cell_type": "code",
   "execution_count": 35,
   "metadata": {
    "scrolled": true
   },
   "outputs": [
    {
     "data": {
      "image/png": "[encoded data removed]",
      "text/plain": [
       "<Figure size 576x288 with 1 Axes>"
      ]
     },
     "metadata": {
      "needs_background": "light"
     },
     "output_type": "display_data"
    }
   ],
   "source": [
    "pd.DataFrame(list(zip(X.columns, LR.coef_[0])), \n",
    "             columns=['feature', 'coef'])\\\n",
    "    .sort_values(by='coef') \\\n",
    "    .plot(kind='barh', x='feature', y='coef', figsize=(8, 4))\n",
    "plt.show()"
   ]
  },
  {
   "cell_type": "code",
   "execution_count": 36,
   "metadata": {
    "scrolled": true
   },
   "outputs": [
    {
     "data": {
      "text/html": [
       "<div>\n",
       "<style scoped>\n",
       "    .dataframe tbody tr th:only-of-type {\n",
       "        vertical-align: middle;\n",
       "    }\n",
       "\n",
       "    .dataframe tbody tr th {\n",
       "        vertical-align: top;\n",
       "    }\n",
       "\n",
       "    .dataframe thead th {\n",
       "        text-align: right;\n",
       "    }\n",
       "</style>\n",
       "<table border=\"1\" class=\"dataframe\">\n",
       "  <thead>\n",
       "    <tr style=\"text-align: right;\">\n",
       "      <th></th>\n",
       "      <th>location</th>\n",
       "      <th>company</th>\n",
       "      <th>job_title</th>\n",
       "      <th>salary</th>\n",
       "      <th>job_level</th>\n",
       "      <th>job_url</th>\n",
       "      <th>job_description</th>\n",
       "      <th>is_high</th>\n",
       "    </tr>\n",
       "  </thead>\n",
       "  <tbody>\n",
       "    <tr>\n",
       "      <th>179</th>\n",
       "      <td>Birmingham</td>\n",
       "      <td>Birmingham City University</td>\n",
       "      <td>Assistant Lecturer / Lecturer / Senior Lecture...</td>\n",
       "      <td>45355.5</td>\n",
       "      <td>low</td>\n",
       "      <td>https://uk.indeed.com/viewjob?jk=1e3634c461a0fb64</td>\n",
       "      <td>Location: Birmingham, City Centre Campus\\n\\nSa...</td>\n",
       "      <td>1</td>\n",
       "    </tr>\n",
       "    <tr>\n",
       "      <th>264</th>\n",
       "      <td>Nottingham</td>\n",
       "      <td>University of Nottingham</td>\n",
       "      <td>Assistant Professor in Data Science/Statistics</td>\n",
       "      <td>43233.5</td>\n",
       "      <td>low</td>\n",
       "      <td>https://uk.indeed.com/viewjob?jk=d635db7e0e561989</td>\n",
       "      <td>The Digital Economy is reshaping businesses, s...</td>\n",
       "      <td>1</td>\n",
       "    </tr>\n",
       "    <tr>\n",
       "      <th>796</th>\n",
       "      <td>Bradford</td>\n",
       "      <td>University of Bradford</td>\n",
       "      <td>Assistant Professor in Artificial Intelligence...</td>\n",
       "      <td>50963.5</td>\n",
       "      <td>low</td>\n",
       "      <td>https://uk.indeed.com/viewjob?jk=29660183eaacce40</td>\n",
       "      <td>With over 50 years of academic excellence and ...</td>\n",
       "      <td>1</td>\n",
       "    </tr>\n",
       "  </tbody>\n",
       "</table>\n",
       "</div>"
      ],
      "text/plain": [
       "       location                     company  \\\n",
       "179  Birmingham  Birmingham City University   \n",
       "264  Nottingham    University of Nottingham   \n",
       "796    Bradford      University of Bradford   \n",
       "\n",
       "                                             job_title   salary job_level  \\\n",
       "179  Assistant Lecturer / Lecturer / Senior Lecture...  45355.5       low   \n",
       "264     Assistant Professor in Data Science/Statistics  43233.5       low   \n",
       "796  Assistant Professor in Artificial Intelligence...  50963.5       low   \n",
       "\n",
       "                                               job_url  \\\n",
       "179  https://uk.indeed.com/viewjob?jk=1e3634c461a0fb64   \n",
       "264  https://uk.indeed.com/viewjob?jk=d635db7e0e561989   \n",
       "796  https://uk.indeed.com/viewjob?jk=29660183eaacce40   \n",
       "\n",
       "                                       job_description  is_high  \n",
       "179  Location: Birmingham, City Centre Campus\\n\\nSa...        1  \n",
       "264  The Digital Economy is reshaping businesses, s...        1  \n",
       "796  With over 50 years of academic excellence and ...        1  "
      ]
     },
     "execution_count": 36,
     "metadata": {},
     "output_type": "execute_result"
    }
   ],
   "source": [
    "# a look at the jobs classes as low which pay highly\n",
    "job_postings[(job_postings['job_level']=='low') & (job_postings['is_high']==1)]"
   ]
  },
  {
   "cell_type": "markdown",
   "metadata": {},
   "source": [
    "#### The following models use location and job level as predictors.\n",
    "When looking at both the job level and location, these models reaffirm what the previous models showed: London and high level jobs are the strongest indicators of high salary."
   ]
  },
  {
   "cell_type": "code",
   "execution_count": 37,
   "metadata": {},
   "outputs": [
    {
     "data": {
      "text/html": [
       "<div>\n",
       "<style scoped>\n",
       "    .dataframe tbody tr th:only-of-type {\n",
       "        vertical-align: middle;\n",
       "    }\n",
       "\n",
       "    .dataframe tbody tr th {\n",
       "        vertical-align: top;\n",
       "    }\n",
       "\n",
       "    .dataframe thead th {\n",
       "        text-align: right;\n",
       "    }\n",
       "</style>\n",
       "<table border=\"1\" class=\"dataframe\">\n",
       "  <thead>\n",
       "    <tr style=\"text-align: right;\">\n",
       "      <th></th>\n",
       "      <th>model</th>\n",
       "      <th>cv score</th>\n",
       "      <th>training score</th>\n",
       "      <th>test score</th>\n",
       "    </tr>\n",
       "  </thead>\n",
       "  <tbody>\n",
       "    <tr>\n",
       "      <th>0</th>\n",
       "      <td>LogisticRegression()</td>\n",
       "      <td>0.680928</td>\n",
       "      <td>0.732926</td>\n",
       "      <td>0.739837</td>\n",
       "    </tr>\n",
       "    <tr>\n",
       "      <th>1</th>\n",
       "      <td>DecisionTreeClassifier()</td>\n",
       "      <td>0.672765</td>\n",
       "      <td>0.740061</td>\n",
       "      <td>0.735772</td>\n",
       "    </tr>\n",
       "    <tr>\n",
       "      <th>2</th>\n",
       "      <td>(DecisionTreeClassifier(random_state=692994577...</td>\n",
       "      <td>0.672786</td>\n",
       "      <td>0.731906</td>\n",
       "      <td>0.739837</td>\n",
       "    </tr>\n",
       "    <tr>\n",
       "      <th>3</th>\n",
       "      <td>KNeighborsClassifier(n_neighbors=10)</td>\n",
       "      <td>0.632042</td>\n",
       "      <td>0.683996</td>\n",
       "      <td>0.703252</td>\n",
       "    </tr>\n",
       "  </tbody>\n",
       "</table>\n",
       "</div>"
      ],
      "text/plain": [
       "                                               model  cv score  \\\n",
       "0                               LogisticRegression()  0.680928   \n",
       "1                           DecisionTreeClassifier()  0.672765   \n",
       "2  (DecisionTreeClassifier(random_state=692994577...  0.672786   \n",
       "3               KNeighborsClassifier(n_neighbors=10)  0.632042   \n",
       "\n",
       "   training score  test score  \n",
       "0        0.732926    0.739837  \n",
       "1        0.740061    0.735772  \n",
       "2        0.731906    0.739837  \n",
       "3        0.683996    0.703252  "
      ]
     },
     "execution_count": 37,
     "metadata": {},
     "output_type": "execute_result"
    }
   ],
   "source": [
    "X = pd.get_dummies(job_postings[['location','job_level','is_high']].copy())\n",
    "y = X.pop('is_high')\n",
    "\n",
    "X_train, X_test, y_train, y_test = train_test_split(\n",
    "    X, y, test_size=0.2, random_state=1)\n",
    "\n",
    "scaler = StandardScaler()\n",
    "X_train = pd.DataFrame(scaler.fit_transform(X_train), \n",
    "                       columns=X_train.columns)\n",
    "X_test = pd.DataFrame(scaler.transform(X_test), \n",
    "                      columns=X_train.columns)\n",
    "\n",
    "#creating an empty list for each model to append scores into\n",
    "location_and_level = []\n",
    "\n",
    "LR = LogisticRegression()\n",
    "location_and_level.append(model_fitter(LR, X_train, y_train, X_test, y_test, cv=5))\n",
    "\n",
    "dtc = DecisionTreeClassifier()\n",
    "location_and_level.append(model_fitter(dtc, X_train, y_train, X_test, y_test, cv=5))\n",
    "\n",
    "BC = BaggingClassifier()\n",
    "location_and_level.append(model_fitter(BC, X_train, y_train, X_test, y_test, cv=5))\n",
    "\n",
    "knn = KNeighborsClassifier(n_neighbors=10)\n",
    "location_and_level.append(model_fitter(knn, X_train, y_train, X_test, y_test, cv=5))\n",
    "\n",
    "pd.DataFrame(location_and_level, columns = ['model','cv score','training score','test score'])"
   ]
  },
  {
   "cell_type": "code",
   "execution_count": 38,
   "metadata": {},
   "outputs": [
    {
     "data": {
      "image/png": "[encoded data removed]",
      "text/plain": [
       "<Figure size 576x1584 with 1 Axes>"
      ]
     },
     "metadata": {
      "needs_background": "light"
     },
     "output_type": "display_data"
    }
   ],
   "source": [
    "pd.DataFrame(list(zip(X.columns, LR.coef_[0])), \n",
    "             columns=['feature', 'coef'])\\\n",
    "    .sort_values(by='coef') \\\n",
    "    .plot(kind='barh', x='feature', y='coef', figsize=(8, 22))\n",
    "plt.show()"
   ]
  },
  {
   "cell_type": "markdown",
   "metadata": {},
   "source": [
    "### The following models use location, job level and job title as a predictors."
   ]
  },
  {
   "cell_type": "code",
   "execution_count": 39,
   "metadata": {},
   "outputs": [
    {
     "data": {
      "text/plain": [
       "826"
      ]
     },
     "execution_count": 39,
     "metadata": {},
     "output_type": "execute_result"
    }
   ],
   "source": [
    "#out of 1227 job titles, 826 are unique so these models aren't great. When dummified we get\n",
    "# a lot of additional features and model complexity shoots up.\n",
    "job_postings.job_title.nunique()"
   ]
  },
  {
   "cell_type": "code",
   "execution_count": 40,
   "metadata": {},
   "outputs": [
    {
     "data": {
      "text/html": [
       "<div>\n",
       "<style scoped>\n",
       "    .dataframe tbody tr th:only-of-type {\n",
       "        vertical-align: middle;\n",
       "    }\n",
       "\n",
       "    .dataframe tbody tr th {\n",
       "        vertical-align: top;\n",
       "    }\n",
       "\n",
       "    .dataframe thead th {\n",
       "        text-align: right;\n",
       "    }\n",
       "</style>\n",
       "<table border=\"1\" class=\"dataframe\">\n",
       "  <thead>\n",
       "    <tr style=\"text-align: right;\">\n",
       "      <th></th>\n",
       "      <th>model</th>\n",
       "      <th>cv score</th>\n",
       "      <th>training score</th>\n",
       "      <th>test score</th>\n",
       "    </tr>\n",
       "  </thead>\n",
       "  <tbody>\n",
       "    <tr>\n",
       "      <th>0</th>\n",
       "      <td>LogisticRegression()</td>\n",
       "      <td>0.701336</td>\n",
       "      <td>0.966361</td>\n",
       "      <td>0.743902</td>\n",
       "    </tr>\n",
       "    <tr>\n",
       "      <th>1</th>\n",
       "      <td>DecisionTreeClassifier()</td>\n",
       "      <td>0.720693</td>\n",
       "      <td>0.972477</td>\n",
       "      <td>0.756098</td>\n",
       "    </tr>\n",
       "    <tr>\n",
       "      <th>2</th>\n",
       "      <td>(DecisionTreeClassifier(random_state=21572633)...</td>\n",
       "      <td>0.724775</td>\n",
       "      <td>0.944954</td>\n",
       "      <td>0.756098</td>\n",
       "    </tr>\n",
       "  </tbody>\n",
       "</table>\n",
       "</div>"
      ],
      "text/plain": [
       "                                               model  cv score  \\\n",
       "0                               LogisticRegression()  0.701336   \n",
       "1                           DecisionTreeClassifier()  0.720693   \n",
       "2  (DecisionTreeClassifier(random_state=21572633)...  0.724775   \n",
       "\n",
       "   training score  test score  \n",
       "0        0.966361    0.743902  \n",
       "1        0.972477    0.756098  \n",
       "2        0.944954    0.756098  "
      ]
     },
     "execution_count": 40,
     "metadata": {},
     "output_type": "execute_result"
    }
   ],
   "source": [
    "X = pd.get_dummies(job_postings[['location','job_level','job_title','is_high']].copy())\n",
    "y = X.pop('is_high')\n",
    "\n",
    "X_train, X_test, y_train, y_test = train_test_split(\n",
    "    X, y, test_size=0.2, random_state=1)\n",
    "\n",
    "scaler = StandardScaler()\n",
    "X_train = pd.DataFrame(scaler.fit_transform(X_train), \n",
    "                       columns=X_train.columns)\n",
    "X_test = pd.DataFrame(scaler.transform(X_test), \n",
    "                      columns=X_train.columns)\n",
    "\n",
    "#creating an empty list for each model to append scores into\n",
    "location_and_level = []\n",
    "\n",
    "LR = LogisticRegression()\n",
    "location_and_level.append(model_fitter(LR, X_train, y_train, X_test, y_test, cv=5))\n",
    "\n",
    "dtc = DecisionTreeClassifier()\n",
    "location_and_level.append(model_fitter(dtc, X_train, y_train, X_test, y_test, cv=5))\n",
    "\n",
    "BC = BaggingClassifier()\n",
    "location_and_level.append(model_fitter(BC, X_train, y_train, X_test, y_test, cv=5))\n",
    "\n",
    "pd.DataFrame(location_and_level, columns = ['model','cv score','training score','test score'])"
   ]
  },
  {
   "cell_type": "markdown",
   "metadata": {},
   "source": [
    "#### NLP of the job description\n",
    "Below I have used NLP on the full job description to try and understand if there are key words or phrases which could indicate expected salary."
   ]
  },
  {
   "cell_type": "markdown",
   "metadata": {},
   "source": [
    "##### with Count Vectorization..."
   ]
  },
  {
   "cell_type": "code",
   "execution_count": 41,
   "metadata": {},
   "outputs": [],
   "source": [
    "from sklearn.feature_extraction.text import CountVectorizer, TfidfVectorizer"
   ]
  },
  {
   "cell_type": "code",
   "execution_count": 68,
   "metadata": {},
   "outputs": [
    {
     "data": {
      "text/html": [
       "<div>\n",
       "<style scoped>\n",
       "    .dataframe tbody tr th:only-of-type {\n",
       "        vertical-align: middle;\n",
       "    }\n",
       "\n",
       "    .dataframe tbody tr th {\n",
       "        vertical-align: top;\n",
       "    }\n",
       "\n",
       "    .dataframe thead th {\n",
       "        text-align: right;\n",
       "    }\n",
       "</style>\n",
       "<table border=\"1\" class=\"dataframe\">\n",
       "  <thead>\n",
       "    <tr style=\"text-align: right;\">\n",
       "      <th></th>\n",
       "      <th>location</th>\n",
       "      <th>company</th>\n",
       "      <th>job_title</th>\n",
       "      <th>salary</th>\n",
       "      <th>job_level</th>\n",
       "      <th>job_url</th>\n",
       "      <th>job_description</th>\n",
       "      <th>is_high</th>\n",
       "    </tr>\n",
       "  </thead>\n",
       "  <tbody>\n",
       "    <tr>\n",
       "      <th>0</th>\n",
       "      <td>London</td>\n",
       "      <td>Kubrick Group</td>\n",
       "      <td>Machine Learning Engineer - Graduate Programme</td>\n",
       "      <td>32000.0</td>\n",
       "      <td>low to mid</td>\n",
       "      <td>https://uk.indeed.com/viewjob?jk=87cbd66eee908bea</td>\n",
       "      <td>Do you want to work in a role where you could ...</td>\n",
       "      <td>0</td>\n",
       "    </tr>\n",
       "    <tr>\n",
       "      <th>1</th>\n",
       "      <td>London</td>\n",
       "      <td>Cabot Financial</td>\n",
       "      <td>Data Scientist - Machine Learning</td>\n",
       "      <td>53500.0</td>\n",
       "      <td>mid</td>\n",
       "      <td>https://uk.indeed.com/viewjob?jk=492079bc2b53c7b2</td>\n",
       "      <td>At Cabot, we pride ourselves on being the best...</td>\n",
       "      <td>1</td>\n",
       "    </tr>\n",
       "    <tr>\n",
       "      <th>2</th>\n",
       "      <td>London</td>\n",
       "      <td>UK Government - Government Actuary's Department</td>\n",
       "      <td>Lead Data Scientist</td>\n",
       "      <td>68622.0</td>\n",
       "      <td>high</td>\n",
       "      <td>https://uk.indeed.com/viewjob?jk=b5ccd26a1f54988f</td>\n",
       "      <td>The key areas that you would be responsible fo...</td>\n",
       "      <td>1</td>\n",
       "    </tr>\n",
       "    <tr>\n",
       "      <th>3</th>\n",
       "      <td>London</td>\n",
       "      <td>Great Ormond Street Hospital NHS Foundation Trust</td>\n",
       "      <td>Data Scientist</td>\n",
       "      <td>48586.5</td>\n",
       "      <td>mid</td>\n",
       "      <td>https://uk.indeed.com/viewjob?jk=451417e31d219229</td>\n",
       "      <td>Thanks to the generous support of Great Ormond...</td>\n",
       "      <td>1</td>\n",
       "    </tr>\n",
       "    <tr>\n",
       "      <th>4</th>\n",
       "      <td>London</td>\n",
       "      <td>Machine Medicine Technologies</td>\n",
       "      <td>Data Scientist</td>\n",
       "      <td>45000.0</td>\n",
       "      <td>mid</td>\n",
       "      <td>https://uk.indeed.com/viewjob?jk=0876b38d3062b0c8</td>\n",
       "      <td>About usMachine Medicine Technologies (MMT) us...</td>\n",
       "      <td>1</td>\n",
       "    </tr>\n",
       "  </tbody>\n",
       "</table>\n",
       "</div>"
      ],
      "text/plain": [
       "  location                                            company  \\\n",
       "0   London                                      Kubrick Group   \n",
       "1   London                                    Cabot Financial   \n",
       "2   London    UK Government - Government Actuary's Department   \n",
       "3   London  Great Ormond Street Hospital NHS Foundation Trust   \n",
       "4   London                      Machine Medicine Technologies   \n",
       "\n",
       "                                        job_title   salary   job_level  \\\n",
       "0  Machine Learning Engineer - Graduate Programme  32000.0  low to mid   \n",
       "1               Data Scientist - Machine Learning  53500.0         mid   \n",
       "2                             Lead Data Scientist  68622.0        high   \n",
       "3                                  Data Scientist  48586.5         mid   \n",
       "4                                  Data Scientist  45000.0         mid   \n",
       "\n",
       "                                             job_url  \\\n",
       "0  https://uk.indeed.com/viewjob?jk=87cbd66eee908bea   \n",
       "1  https://uk.indeed.com/viewjob?jk=492079bc2b53c7b2   \n",
       "2  https://uk.indeed.com/viewjob?jk=b5ccd26a1f54988f   \n",
       "3  https://uk.indeed.com/viewjob?jk=451417e31d219229   \n",
       "4  https://uk.indeed.com/viewjob?jk=0876b38d3062b0c8   \n",
       "\n",
       "                                     job_description  is_high  \n",
       "0  Do you want to work in a role where you could ...        0  \n",
       "1  At Cabot, we pride ourselves on being the best...        1  \n",
       "2  The key areas that you would be responsible fo...        1  \n",
       "3  Thanks to the generous support of Great Ormond...        1  \n",
       "4  About usMachine Medicine Technologies (MMT) us...        1  "
      ]
     },
     "execution_count": 68,
     "metadata": {},
     "output_type": "execute_result"
    }
   ],
   "source": [
    "job_postings.head()"
   ]
  },
  {
   "cell_type": "code",
   "execution_count": 69,
   "metadata": {},
   "outputs": [],
   "source": [
    "X = (job_postings[['job_description','is_high']].copy())\n",
    "y = X.pop('is_high')\n",
    "\n",
    "X_train, X_test, y_train, y_test = train_test_split(\n",
    "    X, y, test_size=0.2, random_state=1)"
   ]
  },
  {
   "cell_type": "code",
   "execution_count": 70,
   "metadata": {},
   "outputs": [],
   "source": [
    "cvec = CountVectorizer(stop_words='english',max_features=2500)\n",
    "cvec.fit(X_train.job_description)\n",
    "cvec_mat = cvec.transform(X_train.job_description)\n",
    "words = cvec.get_feature_names()"
   ]
  },
  {
   "cell_type": "code",
   "execution_count": 71,
   "metadata": {},
   "outputs": [
    {
     "data": {
      "text/html": [
       "<div>\n",
       "<style scoped>\n",
       "    .dataframe tbody tr th:only-of-type {\n",
       "        vertical-align: middle;\n",
       "    }\n",
       "\n",
       "    .dataframe tbody tr th {\n",
       "        vertical-align: top;\n",
       "    }\n",
       "\n",
       "    .dataframe thead th {\n",
       "        text-align: right;\n",
       "    }\n",
       "</style>\n",
       "<table border=\"1\" class=\"dataframe\">\n",
       "  <thead>\n",
       "    <tr style=\"text-align: right;\">\n",
       "      <th></th>\n",
       "      <th>index</th>\n",
       "      <th>top 20 words</th>\n",
       "      <th>index</th>\n",
       "      <th>is_high = 1</th>\n",
       "      <th>index</th>\n",
       "      <th>is_high = 0</th>\n",
       "    </tr>\n",
       "  </thead>\n",
       "  <tbody>\n",
       "    <tr>\n",
       "      <th>0</th>\n",
       "      <td>data</td>\n",
       "      <td>6627</td>\n",
       "      <td>data</td>\n",
       "      <td>3457</td>\n",
       "      <td>data</td>\n",
       "      <td>3170</td>\n",
       "    </tr>\n",
       "    <tr>\n",
       "      <th>1</th>\n",
       "      <td>experience</td>\n",
       "      <td>3094</td>\n",
       "      <td>experience</td>\n",
       "      <td>1619</td>\n",
       "      <td>business</td>\n",
       "      <td>1515</td>\n",
       "    </tr>\n",
       "    <tr>\n",
       "      <th>2</th>\n",
       "      <td>business</td>\n",
       "      <td>2756</td>\n",
       "      <td>business</td>\n",
       "      <td>1241</td>\n",
       "      <td>experience</td>\n",
       "      <td>1475</td>\n",
       "    </tr>\n",
       "    <tr>\n",
       "      <th>3</th>\n",
       "      <td>work</td>\n",
       "      <td>2274</td>\n",
       "      <td>working</td>\n",
       "      <td>1002</td>\n",
       "      <td>work</td>\n",
       "      <td>1276</td>\n",
       "    </tr>\n",
       "    <tr>\n",
       "      <th>4</th>\n",
       "      <td>team</td>\n",
       "      <td>2047</td>\n",
       "      <td>team</td>\n",
       "      <td>998</td>\n",
       "      <td>team</td>\n",
       "      <td>1049</td>\n",
       "    </tr>\n",
       "    <tr>\n",
       "      <th>5</th>\n",
       "      <td>working</td>\n",
       "      <td>2030</td>\n",
       "      <td>work</td>\n",
       "      <td>998</td>\n",
       "      <td>working</td>\n",
       "      <td>1028</td>\n",
       "    </tr>\n",
       "    <tr>\n",
       "      <th>6</th>\n",
       "      <td>role</td>\n",
       "      <td>1868</td>\n",
       "      <td>role</td>\n",
       "      <td>909</td>\n",
       "      <td>skills</td>\n",
       "      <td>1005</td>\n",
       "    </tr>\n",
       "    <tr>\n",
       "      <th>7</th>\n",
       "      <td>skills</td>\n",
       "      <td>1711</td>\n",
       "      <td>learning</td>\n",
       "      <td>845</td>\n",
       "      <td>role</td>\n",
       "      <td>959</td>\n",
       "    </tr>\n",
       "    <tr>\n",
       "      <th>8</th>\n",
       "      <td>analysis</td>\n",
       "      <td>1216</td>\n",
       "      <td>science</td>\n",
       "      <td>798</td>\n",
       "      <td>analysis</td>\n",
       "      <td>777</td>\n",
       "    </tr>\n",
       "    <tr>\n",
       "      <th>9</th>\n",
       "      <td>learning</td>\n",
       "      <td>1135</td>\n",
       "      <td>skills</td>\n",
       "      <td>706</td>\n",
       "      <td>support</td>\n",
       "      <td>732</td>\n",
       "    </tr>\n",
       "    <tr>\n",
       "      <th>10</th>\n",
       "      <td>analyst</td>\n",
       "      <td>1103</td>\n",
       "      <td>machine</td>\n",
       "      <td>645</td>\n",
       "      <td>analyst</td>\n",
       "      <td>719</td>\n",
       "    </tr>\n",
       "    <tr>\n",
       "      <th>11</th>\n",
       "      <td>science</td>\n",
       "      <td>1100</td>\n",
       "      <td>company</td>\n",
       "      <td>578</td>\n",
       "      <td>management</td>\n",
       "      <td>584</td>\n",
       "    </tr>\n",
       "    <tr>\n",
       "      <th>12</th>\n",
       "      <td>support</td>\n",
       "      <td>1069</td>\n",
       "      <td>analytics</td>\n",
       "      <td>575</td>\n",
       "      <td>information</td>\n",
       "      <td>584</td>\n",
       "    </tr>\n",
       "    <tr>\n",
       "      <th>13</th>\n",
       "      <td>development</td>\n",
       "      <td>1007</td>\n",
       "      <td>000</td>\n",
       "      <td>499</td>\n",
       "      <td>development</td>\n",
       "      <td>535</td>\n",
       "    </tr>\n",
       "    <tr>\n",
       "      <th>14</th>\n",
       "      <td>analytics</td>\n",
       "      <td>1004</td>\n",
       "      <td>development</td>\n",
       "      <td>472</td>\n",
       "      <td>reporting</td>\n",
       "      <td>494</td>\n",
       "    </tr>\n",
       "    <tr>\n",
       "      <th>15</th>\n",
       "      <td>company</td>\n",
       "      <td>967</td>\n",
       "      <td>knowledge</td>\n",
       "      <td>459</td>\n",
       "      <td>ability</td>\n",
       "      <td>479</td>\n",
       "    </tr>\n",
       "    <tr>\n",
       "      <th>16</th>\n",
       "      <td>management</td>\n",
       "      <td>965</td>\n",
       "      <td>analysis</td>\n",
       "      <td>439</td>\n",
       "      <td>knowledge</td>\n",
       "      <td>477</td>\n",
       "    </tr>\n",
       "    <tr>\n",
       "      <th>17</th>\n",
       "      <td>000</td>\n",
       "      <td>951</td>\n",
       "      <td>python</td>\n",
       "      <td>437</td>\n",
       "      <td>research</td>\n",
       "      <td>455</td>\n",
       "    </tr>\n",
       "    <tr>\n",
       "      <th>18</th>\n",
       "      <td>knowledge</td>\n",
       "      <td>936</td>\n",
       "      <td>scientist</td>\n",
       "      <td>428</td>\n",
       "      <td>000</td>\n",
       "      <td>452</td>\n",
       "    </tr>\n",
       "    <tr>\n",
       "      <th>19</th>\n",
       "      <td>research</td>\n",
       "      <td>865</td>\n",
       "      <td>using</td>\n",
       "      <td>424</td>\n",
       "      <td>job</td>\n",
       "      <td>436</td>\n",
       "    </tr>\n",
       "  </tbody>\n",
       "</table>\n",
       "</div>"
      ],
      "text/plain": [
       "          index  top 20 words        index  is_high = 1        index  \\\n",
       "0          data          6627         data         3457         data   \n",
       "1    experience          3094   experience         1619     business   \n",
       "2      business          2756     business         1241   experience   \n",
       "3          work          2274      working         1002         work   \n",
       "4          team          2047         team          998         team   \n",
       "5       working          2030         work          998      working   \n",
       "6          role          1868         role          909       skills   \n",
       "7        skills          1711     learning          845         role   \n",
       "8      analysis          1216      science          798     analysis   \n",
       "9      learning          1135       skills          706      support   \n",
       "10      analyst          1103      machine          645      analyst   \n",
       "11      science          1100      company          578   management   \n",
       "12      support          1069    analytics          575  information   \n",
       "13  development          1007          000          499  development   \n",
       "14    analytics          1004  development          472    reporting   \n",
       "15      company           967    knowledge          459      ability   \n",
       "16   management           965     analysis          439    knowledge   \n",
       "17          000           951       python          437     research   \n",
       "18    knowledge           936    scientist          428          000   \n",
       "19     research           865        using          424          job   \n",
       "\n",
       "    is_high = 0  \n",
       "0          3170  \n",
       "1          1515  \n",
       "2          1475  \n",
       "3          1276  \n",
       "4          1049  \n",
       "5          1028  \n",
       "6          1005  \n",
       "7           959  \n",
       "8           777  \n",
       "9           732  \n",
       "10          719  \n",
       "11          584  \n",
       "12          584  \n",
       "13          535  \n",
       "14          494  \n",
       "15          479  \n",
       "16          477  \n",
       "17          455  \n",
       "18          452  \n",
       "19          436  "
      ]
     },
     "execution_count": 71,
     "metadata": {},
     "output_type": "execute_result"
    }
   ],
   "source": [
    "#a look at the top 20 most common words, overall & is_high breakdown\n",
    "a = cvec_mat.sum(axis=0)\n",
    "cvec_mat_top20 = pd.DataFrame(a, columns=words).transpose().sort_values(by=0, ascending=False)[:20]\n",
    "\n",
    "a = cvec_mat[y_train == 1].sum(axis=0)\n",
    "cvec_ishigh = pd.DataFrame(a, columns=words).transpose().sort_values(by=0, ascending=False)[:20]\n",
    "\n",
    "a = cvec_mat[y_train == 0].sum(axis=0)\n",
    "cvec_nothigh = pd.DataFrame(a, columns=words).transpose().sort_values(by=0, ascending=False)[:20]\n",
    "\n",
    "cvec_ishigh.columns = ['is_high = 1']\n",
    "cvec_nothigh.columns = ['is_high = 0']\n",
    "cvec_mat_top20.columns = ['top 20 words']\n",
    "\n",
    "pd.concat([d.reset_index(drop=False) for d in [cvec_mat_top20, cvec_ishigh,cvec_nothigh]], axis=1)"
   ]
  },
  {
   "cell_type": "code",
   "execution_count": 72,
   "metadata": {},
   "outputs": [],
   "source": [
    "X_train = cvec_mat\n",
    "X_test = cvec.transform(X_test.job_description)"
   ]
  },
  {
   "cell_type": "code",
   "execution_count": 73,
   "metadata": {},
   "outputs": [
    {
     "data": {
      "text/html": [
       "<div>\n",
       "<style scoped>\n",
       "    .dataframe tbody tr th:only-of-type {\n",
       "        vertical-align: middle;\n",
       "    }\n",
       "\n",
       "    .dataframe tbody tr th {\n",
       "        vertical-align: top;\n",
       "    }\n",
       "\n",
       "    .dataframe thead th {\n",
       "        text-align: right;\n",
       "    }\n",
       "</style>\n",
       "<table border=\"1\" class=\"dataframe\">\n",
       "  <thead>\n",
       "    <tr style=\"text-align: right;\">\n",
       "      <th></th>\n",
       "      <th>model</th>\n",
       "      <th>cv score</th>\n",
       "      <th>training score</th>\n",
       "      <th>test score</th>\n",
       "    </tr>\n",
       "  </thead>\n",
       "  <tbody>\n",
       "    <tr>\n",
       "      <th>0</th>\n",
       "      <td>LogisticRegression(max_iter=2000, multi_class=...</td>\n",
       "      <td>0.781861</td>\n",
       "      <td>1.000000</td>\n",
       "      <td>0.800813</td>\n",
       "    </tr>\n",
       "    <tr>\n",
       "      <th>1</th>\n",
       "      <td>DecisionTreeClassifier()</td>\n",
       "      <td>0.707433</td>\n",
       "      <td>1.000000</td>\n",
       "      <td>0.658537</td>\n",
       "    </tr>\n",
       "    <tr>\n",
       "      <th>2</th>\n",
       "      <td>(DecisionTreeClassifier(random_state=202158346...</td>\n",
       "      <td>0.757350</td>\n",
       "      <td>0.988787</td>\n",
       "      <td>0.780488</td>\n",
       "    </tr>\n",
       "    <tr>\n",
       "      <th>3</th>\n",
       "      <td>KNeighborsClassifier(n_neighbors=10)</td>\n",
       "      <td>0.671776</td>\n",
       "      <td>0.769623</td>\n",
       "      <td>0.666667</td>\n",
       "    </tr>\n",
       "  </tbody>\n",
       "</table>\n",
       "</div>"
      ],
      "text/plain": [
       "                                               model  cv score  \\\n",
       "0  LogisticRegression(max_iter=2000, multi_class=...  0.781861   \n",
       "1                           DecisionTreeClassifier()  0.707433   \n",
       "2  (DecisionTreeClassifier(random_state=202158346...  0.757350   \n",
       "3               KNeighborsClassifier(n_neighbors=10)  0.671776   \n",
       "\n",
       "   training score  test score  \n",
       "0        1.000000    0.800813  \n",
       "1        1.000000    0.658537  \n",
       "2        0.988787    0.780488  \n",
       "3        0.769623    0.666667  "
      ]
     },
     "execution_count": 73,
     "metadata": {},
     "output_type": "execute_result"
    }
   ],
   "source": [
    "cvec_words = []\n",
    "\n",
    "lr = LogisticRegression(solver='lbfgs', multi_class='ovr',max_iter=2000)\n",
    "cvec_words.append(model_fitter(lr, X_train, y_train, X_test, y_test, cv=5))\n",
    "\n",
    "dtc = DecisionTreeClassifier()\n",
    "cvec_words.append(model_fitter(dtc, X_train, y_train, X_test, y_test, cv=5))\n",
    "\n",
    "BC = BaggingClassifier()\n",
    "cvec_words.append(model_fitter(BC, X_train, y_train, X_test, y_test, cv=5))\n",
    "\n",
    "knn = KNeighborsClassifier(n_neighbors=10)\n",
    "cvec_words.append(model_fitter(knn, X_train, y_train, X_test, y_test, cv=5))\n",
    "\n",
    "pd.DataFrame(cvec_words, columns = ['model','cv score','training score','test score'])"
   ]
  },
  {
   "cell_type": "markdown",
   "metadata": {},
   "source": [
    "##### with TF-IDF Vectorization..."
   ]
  },
  {
   "cell_type": "code",
   "execution_count": 74,
   "metadata": {},
   "outputs": [
    {
     "data": {
      "text/html": [
       "<div>\n",
       "<style scoped>\n",
       "    .dataframe tbody tr th:only-of-type {\n",
       "        vertical-align: middle;\n",
       "    }\n",
       "\n",
       "    .dataframe tbody tr th {\n",
       "        vertical-align: top;\n",
       "    }\n",
       "\n",
       "    .dataframe thead th {\n",
       "        text-align: right;\n",
       "    }\n",
       "</style>\n",
       "<table border=\"1\" class=\"dataframe\">\n",
       "  <thead>\n",
       "    <tr style=\"text-align: right;\">\n",
       "      <th></th>\n",
       "      <th>index</th>\n",
       "      <th>top 20 words</th>\n",
       "      <th>index</th>\n",
       "      <th>is_high = 1</th>\n",
       "      <th>index</th>\n",
       "      <th>is_high = 0</th>\n",
       "    </tr>\n",
       "  </thead>\n",
       "  <tbody>\n",
       "    <tr>\n",
       "      <th>0</th>\n",
       "      <td>data</td>\n",
       "      <td>113.213595</td>\n",
       "      <td>data</td>\n",
       "      <td>62.636875</td>\n",
       "      <td>data</td>\n",
       "      <td>50.576720</td>\n",
       "    </tr>\n",
       "    <tr>\n",
       "      <th>1</th>\n",
       "      <td>business</td>\n",
       "      <td>60.384239</td>\n",
       "      <td>experience</td>\n",
       "      <td>32.115388</td>\n",
       "      <td>business</td>\n",
       "      <td>32.054719</td>\n",
       "    </tr>\n",
       "    <tr>\n",
       "      <th>2</th>\n",
       "      <td>experience</td>\n",
       "      <td>57.718314</td>\n",
       "      <td>learning</td>\n",
       "      <td>28.911163</td>\n",
       "      <td>experience</td>\n",
       "      <td>25.602926</td>\n",
       "    </tr>\n",
       "    <tr>\n",
       "      <th>3</th>\n",
       "      <td>work</td>\n",
       "      <td>41.711449</td>\n",
       "      <td>business</td>\n",
       "      <td>28.329519</td>\n",
       "      <td>work</td>\n",
       "      <td>22.017787</td>\n",
       "    </tr>\n",
       "    <tr>\n",
       "      <th>4</th>\n",
       "      <td>team</td>\n",
       "      <td>39.572924</td>\n",
       "      <td>science</td>\n",
       "      <td>26.104219</td>\n",
       "      <td>analyst</td>\n",
       "      <td>21.054760</td>\n",
       "    </tr>\n",
       "    <tr>\n",
       "      <th>5</th>\n",
       "      <td>working</td>\n",
       "      <td>39.018228</td>\n",
       "      <td>machine</td>\n",
       "      <td>26.062945</td>\n",
       "      <td>skills</td>\n",
       "      <td>19.554194</td>\n",
       "    </tr>\n",
       "    <tr>\n",
       "      <th>6</th>\n",
       "      <td>role</td>\n",
       "      <td>38.418073</td>\n",
       "      <td>scientist</td>\n",
       "      <td>21.661229</td>\n",
       "      <td>team</td>\n",
       "      <td>18.955009</td>\n",
       "    </tr>\n",
       "    <tr>\n",
       "      <th>7</th>\n",
       "      <td>learning</td>\n",
       "      <td>36.554909</td>\n",
       "      <td>team</td>\n",
       "      <td>20.617915</td>\n",
       "      <td>analysis</td>\n",
       "      <td>18.852655</td>\n",
       "    </tr>\n",
       "    <tr>\n",
       "      <th>8</th>\n",
       "      <td>skills</td>\n",
       "      <td>34.477307</td>\n",
       "      <td>working</td>\n",
       "      <td>20.615179</td>\n",
       "      <td>role</td>\n",
       "      <td>18.703751</td>\n",
       "    </tr>\n",
       "    <tr>\n",
       "      <th>9</th>\n",
       "      <td>science</td>\n",
       "      <td>34.120592</td>\n",
       "      <td>role</td>\n",
       "      <td>19.714322</td>\n",
       "      <td>working</td>\n",
       "      <td>18.403050</td>\n",
       "    </tr>\n",
       "    <tr>\n",
       "      <th>10</th>\n",
       "      <td>analyst</td>\n",
       "      <td>33.325123</td>\n",
       "      <td>work</td>\n",
       "      <td>19.693662</td>\n",
       "      <td>support</td>\n",
       "      <td>17.700260</td>\n",
       "    </tr>\n",
       "    <tr>\n",
       "      <th>11</th>\n",
       "      <td>analytics</td>\n",
       "      <td>32.866509</td>\n",
       "      <td>analytics</td>\n",
       "      <td>19.085982</td>\n",
       "      <td>reporting</td>\n",
       "      <td>16.776367</td>\n",
       "    </tr>\n",
       "    <tr>\n",
       "      <th>12</th>\n",
       "      <td>machine</td>\n",
       "      <td>30.906048</td>\n",
       "      <td>company</td>\n",
       "      <td>18.917081</td>\n",
       "      <td>information</td>\n",
       "      <td>15.339222</td>\n",
       "    </tr>\n",
       "    <tr>\n",
       "      <th>13</th>\n",
       "      <td>company</td>\n",
       "      <td>30.651172</td>\n",
       "      <td>python</td>\n",
       "      <td>16.978081</td>\n",
       "      <td>management</td>\n",
       "      <td>15.284222</td>\n",
       "    </tr>\n",
       "    <tr>\n",
       "      <th>14</th>\n",
       "      <td>000</td>\n",
       "      <td>30.399128</td>\n",
       "      <td>000</td>\n",
       "      <td>16.810531</td>\n",
       "      <td>customer</td>\n",
       "      <td>14.215677</td>\n",
       "    </tr>\n",
       "    <tr>\n",
       "      <th>15</th>\n",
       "      <td>analysis</td>\n",
       "      <td>29.826427</td>\n",
       "      <td>skills</td>\n",
       "      <td>14.923113</td>\n",
       "      <td>bi</td>\n",
       "      <td>14.096786</td>\n",
       "    </tr>\n",
       "    <tr>\n",
       "      <th>16</th>\n",
       "      <td>bi</td>\n",
       "      <td>27.442823</td>\n",
       "      <td>senior</td>\n",
       "      <td>14.266490</td>\n",
       "      <td>research</td>\n",
       "      <td>13.832131</td>\n",
       "    </tr>\n",
       "    <tr>\n",
       "      <th>17</th>\n",
       "      <td>research</td>\n",
       "      <td>26.906122</td>\n",
       "      <td>sql</td>\n",
       "      <td>13.496062</td>\n",
       "      <td>analytics</td>\n",
       "      <td>13.780527</td>\n",
       "    </tr>\n",
       "    <tr>\n",
       "      <th>18</th>\n",
       "      <td>support</td>\n",
       "      <td>26.051870</td>\n",
       "      <td>models</td>\n",
       "      <td>13.473608</td>\n",
       "      <td>000</td>\n",
       "      <td>13.588597</td>\n",
       "    </tr>\n",
       "    <tr>\n",
       "      <th>19</th>\n",
       "      <td>reporting</td>\n",
       "      <td>25.126005</td>\n",
       "      <td>bi</td>\n",
       "      <td>13.346038</td>\n",
       "      <td>development</td>\n",
       "      <td>13.043814</td>\n",
       "    </tr>\n",
       "  </tbody>\n",
       "</table>\n",
       "</div>"
      ],
      "text/plain": [
       "         index  top 20 words       index  is_high = 1        index  \\\n",
       "0         data    113.213595        data    62.636875         data   \n",
       "1     business     60.384239  experience    32.115388     business   \n",
       "2   experience     57.718314    learning    28.911163   experience   \n",
       "3         work     41.711449    business    28.329519         work   \n",
       "4         team     39.572924     science    26.104219      analyst   \n",
       "5      working     39.018228     machine    26.062945       skills   \n",
       "6         role     38.418073   scientist    21.661229         team   \n",
       "7     learning     36.554909        team    20.617915     analysis   \n",
       "8       skills     34.477307     working    20.615179         role   \n",
       "9      science     34.120592        role    19.714322      working   \n",
       "10     analyst     33.325123        work    19.693662      support   \n",
       "11   analytics     32.866509   analytics    19.085982    reporting   \n",
       "12     machine     30.906048     company    18.917081  information   \n",
       "13     company     30.651172      python    16.978081   management   \n",
       "14         000     30.399128         000    16.810531     customer   \n",
       "15    analysis     29.826427      skills    14.923113           bi   \n",
       "16          bi     27.442823      senior    14.266490     research   \n",
       "17    research     26.906122         sql    13.496062    analytics   \n",
       "18     support     26.051870      models    13.473608          000   \n",
       "19   reporting     25.126005          bi    13.346038  development   \n",
       "\n",
       "    is_high = 0  \n",
       "0     50.576720  \n",
       "1     32.054719  \n",
       "2     25.602926  \n",
       "3     22.017787  \n",
       "4     21.054760  \n",
       "5     19.554194  \n",
       "6     18.955009  \n",
       "7     18.852655  \n",
       "8     18.703751  \n",
       "9     18.403050  \n",
       "10    17.700260  \n",
       "11    16.776367  \n",
       "12    15.339222  \n",
       "13    15.284222  \n",
       "14    14.215677  \n",
       "15    14.096786  \n",
       "16    13.832131  \n",
       "17    13.780527  \n",
       "18    13.588597  \n",
       "19    13.043814  "
      ]
     },
     "execution_count": 74,
     "metadata": {},
     "output_type": "execute_result"
    }
   ],
   "source": [
    "X = (job_postings[['job_description','is_high']].copy())\n",
    "y = X.pop('is_high')\n",
    "\n",
    "X_train, X_test, y_train, y_test = train_test_split(\n",
    "    X, y, test_size=0.2, random_state=1)\n",
    "\n",
    "tvec = TfidfVectorizer(stop_words='english',max_features=2500)\n",
    "tvec.fit(X_train.job_description)\n",
    "tvec_mat = tvec.transform(X_train.job_description)\n",
    "words = tvec.get_feature_names()\n",
    "\n",
    "#a look at the top 20 most common words, overall & is_high breakdown\n",
    "a = tvec_mat.sum(axis=0)\n",
    "tvec_mat_top20 = pd.DataFrame(a, columns=words).transpose().sort_values(by=0, ascending=False)[:20]\n",
    "\n",
    "a = tvec_mat[y_train == 1].sum(axis=0)\n",
    "tvec_ishigh = pd.DataFrame(a, columns=words).transpose().sort_values(by=0, ascending=False)[:20]\n",
    "\n",
    "a = tvec_mat[y_train == 0].sum(axis=0)\n",
    "tvec_nothigh = pd.DataFrame(a, columns=words).transpose().sort_values(by=0, ascending=False)[:20]\n",
    "\n",
    "tvec_ishigh.columns = ['is_high = 1']\n",
    "tvec_nothigh.columns = ['is_high = 0']\n",
    "tvec_mat_top20.columns = ['top 20 words']\n",
    "\n",
    "pd.concat([d.reset_index(drop=False) for d in [tvec_mat_top20, tvec_ishigh,tvec_nothigh]], axis=1)"
   ]
  },
  {
   "cell_type": "code",
   "execution_count": 75,
   "metadata": {},
   "outputs": [
    {
     "data": {
      "text/html": [
       "<div>\n",
       "<style scoped>\n",
       "    .dataframe tbody tr th:only-of-type {\n",
       "        vertical-align: middle;\n",
       "    }\n",
       "\n",
       "    .dataframe tbody tr th {\n",
       "        vertical-align: top;\n",
       "    }\n",
       "\n",
       "    .dataframe thead th {\n",
       "        text-align: right;\n",
       "    }\n",
       "</style>\n",
       "<table border=\"1\" class=\"dataframe\">\n",
       "  <thead>\n",
       "    <tr style=\"text-align: right;\">\n",
       "      <th></th>\n",
       "      <th>model</th>\n",
       "      <th>cv score</th>\n",
       "      <th>training score</th>\n",
       "      <th>test score</th>\n",
       "    </tr>\n",
       "  </thead>\n",
       "  <tbody>\n",
       "    <tr>\n",
       "      <th>0</th>\n",
       "      <td>LogisticRegression(max_iter=2000, multi_class=...</td>\n",
       "      <td>0.796151</td>\n",
       "      <td>0.884811</td>\n",
       "      <td>0.792683</td>\n",
       "    </tr>\n",
       "    <tr>\n",
       "      <th>1</th>\n",
       "      <td>DecisionTreeClassifier()</td>\n",
       "      <td>0.682953</td>\n",
       "      <td>1.000000</td>\n",
       "      <td>0.723577</td>\n",
       "    </tr>\n",
       "    <tr>\n",
       "      <th>2</th>\n",
       "      <td>(DecisionTreeClassifier(random_state=489986751...</td>\n",
       "      <td>0.760458</td>\n",
       "      <td>0.985729</td>\n",
       "      <td>0.747967</td>\n",
       "    </tr>\n",
       "    <tr>\n",
       "      <th>3</th>\n",
       "      <td>KNeighborsClassifier(n_neighbors=10)</td>\n",
       "      <td>0.731886</td>\n",
       "      <td>0.787971</td>\n",
       "      <td>0.731707</td>\n",
       "    </tr>\n",
       "  </tbody>\n",
       "</table>\n",
       "</div>"
      ],
      "text/plain": [
       "                                               model  cv score  \\\n",
       "0  LogisticRegression(max_iter=2000, multi_class=...  0.796151   \n",
       "1                           DecisionTreeClassifier()  0.682953   \n",
       "2  (DecisionTreeClassifier(random_state=489986751...  0.760458   \n",
       "3               KNeighborsClassifier(n_neighbors=10)  0.731886   \n",
       "\n",
       "   training score  test score  \n",
       "0        0.884811    0.792683  \n",
       "1        1.000000    0.723577  \n",
       "2        0.985729    0.747967  \n",
       "3        0.787971    0.731707  "
      ]
     },
     "execution_count": 75,
     "metadata": {},
     "output_type": "execute_result"
    }
   ],
   "source": [
    "X_train = tvec_mat\n",
    "X_test = tvec.transform(X_test.job_description)\n",
    "\n",
    "tvec_words = []\n",
    "\n",
    "lr = LogisticRegression(solver='lbfgs', multi_class='ovr',max_iter=2000)\n",
    "tvec_words.append(model_fitter(lr, X_train, y_train, X_test, y_test, cv=5))\n",
    "\n",
    "dtc = DecisionTreeClassifier()\n",
    "tvec_words.append(model_fitter(dtc, X_train, y_train, X_test, y_test, cv=5))\n",
    "\n",
    "BC = BaggingClassifier()\n",
    "tvec_words.append(model_fitter(BC, X_train, y_train, X_test, y_test, cv=5))\n",
    "\n",
    "knn = KNeighborsClassifier(n_neighbors=10)\n",
    "tvec_words.append(model_fitter(knn, X_train, y_train, X_test, y_test, cv=5))\n",
    "\n",
    "pd.DataFrame(tvec_words, columns = ['model','cv score','training score','test score'])"
   ]
  },
  {
   "cell_type": "markdown",
   "metadata": {},
   "source": [
    "#### Trying to optimise the Logistic Regression TF-IDF model using grid search\n",
    "This is my best model. It pretty much contains all the info the other models contain (job location, job title) as well as containing all the words from the job description. Of all the models ran using these variables, the Logistic Regression one was the best."
   ]
  },
  {
   "cell_type": "code",
   "execution_count": 76,
   "metadata": {},
   "outputs": [
    {
     "name": "stdout",
     "output_type": "stream",
     "text": [
      "Fitting 5 folds for each of 80 candidates, totalling 400 fits\n"
     ]
    },
    {
     "name": "stderr",
     "output_type": "stream",
     "text": [
      "[Parallel(n_jobs=2)]: Using backend LokyBackend with 2 concurrent workers.\n",
      "[Parallel(n_jobs=2)]: Done 300 tasks      | elapsed:   13.0s\n",
      "[Parallel(n_jobs=2)]: Done 400 out of 400 | elapsed:   26.8s finished\n"
     ]
    },
    {
     "data": {
      "text/plain": [
       "GridSearchCV(cv=5, estimator=LogisticRegression(), n_jobs=2,\n",
       "             param_grid={'C': array([1.00000000e-05, 1.29154967e-04, 1.66810054e-03, 2.15443469e-02,\n",
       "       2.78255940e-01, 3.59381366e+00, 4.64158883e+01, 5.99484250e+02,\n",
       "       7.74263683e+03, 1.00000000e+05]),\n",
       "                         'penalty': ['l1', 'l2'],\n",
       "                         'solver': ['liblinear', 'saga', 'lbfgs', 'newton-cg']},\n",
       "             return_train_score=True, verbose=1)"
      ]
     },
     "execution_count": 76,
     "metadata": {},
     "output_type": "execute_result"
    }
   ],
   "source": [
    "params = {\n",
    "    'penalty':['l1','l2'],\n",
    "    'solver':['liblinear', 'saga', 'lbfgs', 'newton-cg'],\n",
    "    'C': np.logspace(-5,5,10)}\n",
    "\n",
    "lr = LogisticRegression()\n",
    "lr_gridsearch = GridSearchCV(lr,\n",
    "                              params,\n",
    "                              n_jobs=2, #number of cores being used\n",
    "                              cv=5, \n",
    "                              verbose=1,\n",
    "                              return_train_score=True)\n",
    "\n",
    "lr_gridsearch.fit(X_train, y_train)"
   ]
  },
  {
   "cell_type": "code",
   "execution_count": 77,
   "metadata": {},
   "outputs": [
    {
     "data": {
      "text/plain": [
       "0.8042940018647051"
      ]
     },
     "execution_count": 77,
     "metadata": {},
     "output_type": "execute_result"
    }
   ],
   "source": [
    "lr_gridsearch.best_score_"
   ]
  },
  {
   "cell_type": "code",
   "execution_count": 78,
   "metadata": {},
   "outputs": [
    {
     "data": {
      "text/plain": [
       "LogisticRegression(C=3.593813663804626)"
      ]
     },
     "execution_count": 78,
     "metadata": {},
     "output_type": "execute_result"
    }
   ],
   "source": [
    "lr_gridsearch.best_estimator_"
   ]
  },
  {
   "cell_type": "code",
   "execution_count": 79,
   "metadata": {},
   "outputs": [
    {
     "data": {
      "text/plain": [
       "(LogisticRegression(C=3.593813663804626),\n",
       " 0.8042940018647051,\n",
       " 0.9531090723751274,\n",
       " 0.7967479674796748)"
      ]
     },
     "execution_count": 79,
     "metadata": {},
     "output_type": "execute_result"
    }
   ],
   "source": [
    "lr = lr_gridsearch.best_estimator_\n",
    "model_fitter(lr, X_train, y_train, X_test, y_test, cv=5)"
   ]
  },
  {
   "cell_type": "code",
   "execution_count": 80,
   "metadata": {},
   "outputs": [],
   "source": [
    "predictions = lr.predict(X_test)"
   ]
  },
  {
   "cell_type": "code",
   "execution_count": 81,
   "metadata": {},
   "outputs": [
    {
     "data": {
      "image/png": "[encoded data removed]",
      "text/plain": [
       "<Figure size 432x288 with 2 Axes>"
      ]
     },
     "metadata": {
      "needs_background": "light"
     },
     "output_type": "display_data"
    }
   ],
   "source": [
    "plot_confusion_matrix(lr, X_test, y_test, cmap='Blues', labels=[1, 0], values_format='.0f')\n",
    "plt.show()"
   ]
  },
  {
   "cell_type": "code",
   "execution_count": 82,
   "metadata": {},
   "outputs": [
    {
     "data": {
      "image/png": "[encoded data removed]",
      "text/plain": [
       "<Figure size 432x432 with 1 Axes>"
      ]
     },
     "metadata": {
      "needs_background": "light"
     },
     "output_type": "display_data"
    }
   ],
   "source": [
    "fig, ax = plt.subplots(figsize=(6, 6))\n",
    "plot_roc_curve(lr, X_test, y_test, ax=ax)\n",
    "ax.plot([0, 1], [0, 1], 'k--', linewidth=4)\n",
    "plt.show()"
   ]
  },
  {
   "cell_type": "code",
   "execution_count": 83,
   "metadata": {},
   "outputs": [
    {
     "data": {
      "text/plain": [
       "0.8103448275862069"
      ]
     },
     "execution_count": 83,
     "metadata": {},
     "output_type": "execute_result"
    }
   ],
   "source": [
    "from sklearn.metrics import precision_score\n",
    "\n",
    "#this is the precision score of my best model\n",
    "\n",
    "precision_score(y_test, predictions)"
   ]
  },
  {
   "cell_type": "code",
   "execution_count": 84,
   "metadata": {},
   "outputs": [
    {
     "data": {
      "text/plain": [
       "0.7704918032786885"
      ]
     },
     "execution_count": 84,
     "metadata": {},
     "output_type": "execute_result"
    }
   ],
   "source": [
    "from sklearn.metrics import recall_score\n",
    "\n",
    "#this is the recall score of my best model\n",
    "\n",
    "recall_score(y_test, predictions)"
   ]
  },
  {
   "cell_type": "code",
   "execution_count": 85,
   "metadata": {},
   "outputs": [
    {
     "data": {
      "image/png": "[encoded data removed]",
      "text/plain": [
       "<Figure size 432x432 with 1 Axes>"
      ]
     },
     "metadata": {
      "needs_background": "light"
     },
     "output_type": "display_data"
    }
   ],
   "source": [
    "plt.fig, ax = plt.subplots(figsize=(6, 6))\n",
    "plot_precision_recall_curve(lr, X_test, y_test, ax=ax)\n",
    "ax.plot([0, 1], [0, 1], 'k--', linewidth=2)\n",
    "plt.show()"
   ]
  },
  {
   "cell_type": "code",
   "execution_count": 86,
   "metadata": {},
   "outputs": [
    {
     "data": {
      "text/html": [
       "<div>\n",
       "<style scoped>\n",
       "    .dataframe tbody tr th:only-of-type {\n",
       "        vertical-align: middle;\n",
       "    }\n",
       "\n",
       "    .dataframe tbody tr th {\n",
       "        vertical-align: top;\n",
       "    }\n",
       "\n",
       "    .dataframe thead th {\n",
       "        text-align: right;\n",
       "    }\n",
       "</style>\n",
       "<table border=\"1\" class=\"dataframe\">\n",
       "  <thead>\n",
       "    <tr style=\"text-align: right;\">\n",
       "      <th></th>\n",
       "      <th>class_0_pp</th>\n",
       "      <th>class_1_pp</th>\n",
       "    </tr>\n",
       "  </thead>\n",
       "  <tbody>\n",
       "    <tr>\n",
       "      <th>0</th>\n",
       "      <td>0.115412</td>\n",
       "      <td>0.884588</td>\n",
       "    </tr>\n",
       "    <tr>\n",
       "      <th>1</th>\n",
       "      <td>0.036371</td>\n",
       "      <td>0.963629</td>\n",
       "    </tr>\n",
       "    <tr>\n",
       "      <th>2</th>\n",
       "      <td>0.814167</td>\n",
       "      <td>0.185833</td>\n",
       "    </tr>\n",
       "    <tr>\n",
       "      <th>3</th>\n",
       "      <td>0.244964</td>\n",
       "      <td>0.755036</td>\n",
       "    </tr>\n",
       "    <tr>\n",
       "      <th>4</th>\n",
       "      <td>0.908148</td>\n",
       "      <td>0.091852</td>\n",
       "    </tr>\n",
       "    <tr>\n",
       "      <th>...</th>\n",
       "      <td>...</td>\n",
       "      <td>...</td>\n",
       "    </tr>\n",
       "    <tr>\n",
       "      <th>241</th>\n",
       "      <td>0.845658</td>\n",
       "      <td>0.154342</td>\n",
       "    </tr>\n",
       "    <tr>\n",
       "      <th>242</th>\n",
       "      <td>0.522848</td>\n",
       "      <td>0.477152</td>\n",
       "    </tr>\n",
       "    <tr>\n",
       "      <th>243</th>\n",
       "      <td>0.336880</td>\n",
       "      <td>0.663120</td>\n",
       "    </tr>\n",
       "    <tr>\n",
       "      <th>244</th>\n",
       "      <td>0.209963</td>\n",
       "      <td>0.790037</td>\n",
       "    </tr>\n",
       "    <tr>\n",
       "      <th>245</th>\n",
       "      <td>0.195104</td>\n",
       "      <td>0.804896</td>\n",
       "    </tr>\n",
       "  </tbody>\n",
       "</table>\n",
       "<p>246 rows × 2 columns</p>\n",
       "</div>"
      ],
      "text/plain": [
       "     class_0_pp  class_1_pp\n",
       "0      0.115412    0.884588\n",
       "1      0.036371    0.963629\n",
       "2      0.814167    0.185833\n",
       "3      0.244964    0.755036\n",
       "4      0.908148    0.091852\n",
       "..          ...         ...\n",
       "241    0.845658    0.154342\n",
       "242    0.522848    0.477152\n",
       "243    0.336880    0.663120\n",
       "244    0.209963    0.790037\n",
       "245    0.195104    0.804896\n",
       "\n",
       "[246 rows x 2 columns]"
      ]
     },
     "execution_count": 86,
     "metadata": {},
     "output_type": "execute_result"
    }
   ],
   "source": [
    "#here we can see the probability for each class prediction. At the moment, anything over 0.5 is predicted to the\n",
    "# respective class.\n",
    "\n",
    "Y_pp = pd.DataFrame(lr.predict_proba(X_test), \n",
    "             columns=['class_0_pp', 'class_1_pp'])\n",
    "Y_pp"
   ]
  },
  {
   "cell_type": "code",
   "execution_count": 87,
   "metadata": {},
   "outputs": [
    {
     "data": {
      "text/html": [
       "<div>\n",
       "<style scoped>\n",
       "    .dataframe tbody tr th:only-of-type {\n",
       "        vertical-align: middle;\n",
       "    }\n",
       "\n",
       "    .dataframe tbody tr th {\n",
       "        vertical-align: top;\n",
       "    }\n",
       "\n",
       "    .dataframe thead th {\n",
       "        text-align: right;\n",
       "    }\n",
       "</style>\n",
       "<table border=\"1\" class=\"dataframe\">\n",
       "  <thead>\n",
       "    <tr style=\"text-align: right;\">\n",
       "      <th></th>\n",
       "      <th>class_0_pp</th>\n",
       "      <th>class_1_pp</th>\n",
       "      <th>conservative_prediction</th>\n",
       "    </tr>\n",
       "  </thead>\n",
       "  <tbody>\n",
       "    <tr>\n",
       "      <th>0</th>\n",
       "      <td>0.115412</td>\n",
       "      <td>0.884588</td>\n",
       "      <td>1</td>\n",
       "    </tr>\n",
       "    <tr>\n",
       "      <th>1</th>\n",
       "      <td>0.036371</td>\n",
       "      <td>0.963629</td>\n",
       "      <td>1</td>\n",
       "    </tr>\n",
       "    <tr>\n",
       "      <th>2</th>\n",
       "      <td>0.814167</td>\n",
       "      <td>0.185833</td>\n",
       "      <td>0</td>\n",
       "    </tr>\n",
       "    <tr>\n",
       "      <th>3</th>\n",
       "      <td>0.244964</td>\n",
       "      <td>0.755036</td>\n",
       "      <td>1</td>\n",
       "    </tr>\n",
       "    <tr>\n",
       "      <th>4</th>\n",
       "      <td>0.908148</td>\n",
       "      <td>0.091852</td>\n",
       "      <td>0</td>\n",
       "    </tr>\n",
       "    <tr>\n",
       "      <th>...</th>\n",
       "      <td>...</td>\n",
       "      <td>...</td>\n",
       "      <td>...</td>\n",
       "    </tr>\n",
       "    <tr>\n",
       "      <th>241</th>\n",
       "      <td>0.845658</td>\n",
       "      <td>0.154342</td>\n",
       "      <td>0</td>\n",
       "    </tr>\n",
       "    <tr>\n",
       "      <th>242</th>\n",
       "      <td>0.522848</td>\n",
       "      <td>0.477152</td>\n",
       "      <td>0</td>\n",
       "    </tr>\n",
       "    <tr>\n",
       "      <th>243</th>\n",
       "      <td>0.336880</td>\n",
       "      <td>0.663120</td>\n",
       "      <td>0</td>\n",
       "    </tr>\n",
       "    <tr>\n",
       "      <th>244</th>\n",
       "      <td>0.209963</td>\n",
       "      <td>0.790037</td>\n",
       "      <td>1</td>\n",
       "    </tr>\n",
       "    <tr>\n",
       "      <th>245</th>\n",
       "      <td>0.195104</td>\n",
       "      <td>0.804896</td>\n",
       "      <td>1</td>\n",
       "    </tr>\n",
       "  </tbody>\n",
       "</table>\n",
       "<p>246 rows × 3 columns</p>\n",
       "</div>"
      ],
      "text/plain": [
       "     class_0_pp  class_1_pp  conservative_prediction\n",
       "0      0.115412    0.884588                        1\n",
       "1      0.036371    0.963629                        1\n",
       "2      0.814167    0.185833                        0\n",
       "3      0.244964    0.755036                        1\n",
       "4      0.908148    0.091852                        0\n",
       "..          ...         ...                      ...\n",
       "241    0.845658    0.154342                        0\n",
       "242    0.522848    0.477152                        0\n",
       "243    0.336880    0.663120                        0\n",
       "244    0.209963    0.790037                        1\n",
       "245    0.195104    0.804896                        1\n",
       "\n",
       "[246 rows x 3 columns]"
      ]
     },
     "execution_count": 87,
     "metadata": {},
     "output_type": "execute_result"
    }
   ],
   "source": [
    "#if we want to reduce the likelihood of predicting a high salary when infact it is a low salary, \n",
    "# we can increase the threshold so any predictions the model isn't as sure about predict to be low.\n",
    "Y_pp['conservative_prediction'] = Y_pp.class_1_pp.apply(lambda x: 1 if x >= 0.7 else 0)\n",
    "Y_pp"
   ]
  },
  {
   "cell_type": "markdown",
   "metadata": {},
   "source": [
    "### Executive summary written for a non-technical audience.\n",
    "   "
   ]
  },
  {
   "cell_type": "markdown",
   "metadata": {},
   "source": [
    "The aim of this report is to search Data Science jobs in the UK  and categorise them into either high paying or low paying, and identify key factors which have the most impact in the process.\n",
    "\n",
    "Data collection\n",
    "\n",
    "In order to collect the data we scraped (automated retrieval) the Indeed job search platform. We searched every city in the UK for a range of data related jobs and keywords (data scientist, data analyst, data engineer, machine learning, business intelligence, quantitive analyst, statistician). We retrieved the city, the job title, the salary and the job description.\n",
    "\n",
    "Data cleaning and feature engineering\n",
    "\n",
    "Once the data had been retrieved, it was cleaned by filling in any missing values where possible, or removing the data point if that was not possible, this left us with 1227 unique job listings.\n",
    "\n",
    "To determine what is considered high paying, we took the median of the salaries collected, anything above is considered high paying and anything below low paying.\n",
    "\n",
    "We also looked dissected the job, looking for key words in order to evaluate the level of the position, low (intern, trainee), low-mid (graduate or junior), mid (unspecified, for example ‘data scientist) or high level (senior, head or lead). \n",
    "\n",
    "In order to train our model and then test them on unseen data, the data set was split in two, 80% in the training section, 20% in the test section.\n",
    "\n",
    "Analysis\n",
    "\n",
    "We began by looking at the bearing location would have on the salary.  We used location as the sole predictor, and London was shown to be the greatest indicator of higher salary (55% of high salary jobs are in London, and only 39% of total jobs). The next cities likely to secure a higher salary are Gloucestershire, Basingstoke and Edinburgh, but they all lag significantly behind London. At the oppose end of the spectrum jobs in Newcastle were most likely to have a low salary, followed by Preston and Bath.\n",
    "\n",
    "The next step of the analysis was to examine the job level (determined from job title). As one would expect, high level jobs are indicative of a high salary. 76% of high level jobs are high salary. Logically, mid level jobs should follow but this isn’t the case. The data collected shows low level jobs are actually more likely to be high pay - I will address this more in the limitations section below. Following low level is mid level, then low to mid level.\n",
    "\n",
    "The next group of models carried out combined location and job level; they reinforced what the previous models told us; London is the biggest indicator of high pay, followed by a high job level, then Gloucestershire and Edinburgh. Having a job in Newcastle, Preston, or a low to mid level job would significantly increase the chance of low pay.\n",
    "\n",
    "Our most accurate model came from doing NLP (natural language processing) on the job description. This process breaks down the description into key words, counting each and assigning a weighting based on the value of each word at predicting the salary grade. Using this technique we can predict salary grade with 81% precision. Part of this process involved examining the most valuable words; we did this for all salary grades followed high and low individually. There are a lot of similarities; ‘data’, ‘business’ and ‘experience’ featuring heavily in both sets. Words which featured more predominantly in the high pay grade, but not as much in low pay grade, include ‘science’, ‘machine’, ‘python’, ‘models’ . These are technical words with particular skills attached. The low pay grade jobs have more weighting towards generic words, ‘work’, ‘support’, ‘reporting’, ‘analyst’.\n",
    "\n",
    "Limitations, risks and recommendations\n",
    "\n",
    "The main limitation to this report and these models is the high/low salary indicator is based on the median of all the jobs collected. In reality it would be best to compare jobs against similar ones, both in terms of seniority and location; comparing the salary of a  Lead data scientist in London against that of a data science intern in Newcastle has little merit. It would be more beneficial to know if a job has a high salary given it’s high level and in London. Another limitation is the scope of jobs added into this data set; the skills and salary of a Machine Learning engineer and a statistician might be vastly different, yet they are clumped into this dataset together.\n",
    "\n",
    "When determining job level we used fairly limited criteria, including assessing ‘assistant’ as a low level job - on examination, 3/22 low level jobs were contained ‘assistant’, all of which were in the high salary class.\n",
    "\n",
    "In order to improve, I recommend adjusting the consideration for high/low salary based on location and job level, and categorising job level more effectively.\n",
    "\n",
    "Conclusions\n",
    "\n",
    "Whilst the final model is effective at predicting a high/low salary, the limitations listed above are considerable and real world application is questionable."
   ]
  }
 ],
 "metadata": {
  "kernelspec": {
   "display_name": "Python 3",
   "language": "python",
   "name": "python3"
  },
  "language_info": {
   "codemirror_mode": {
    "name": "ipython",
    "version": 3
   },
   "file_extension": ".py",
   "mimetype": "text/x-python",
   "name": "python",
   "nbconvert_exporter": "python",
   "pygments_lexer": "ipython3",
   "version": "3.8.5"
  },
  "toc": {
   "base_numbering": 1,
   "nav_menu": {},
   "number_sections": false,
   "sideBar": true,
   "skip_h1_title": true,
   "title_cell": "Table of Contents",
   "title_sidebar": "Contents",
   "toc_cell": false,
   "toc_position": {},
   "toc_section_display": "block",
   "toc_window_display": false
  }
 },
 "nbformat": 4,
 "nbformat_minor": 4
}
